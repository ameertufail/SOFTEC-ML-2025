{
 "cells": [
  {
   "cell_type": "code",
   "execution_count": 396,
   "metadata": {},
   "outputs": [],
   "source": [
    "import pandas as pd\n",
    "import matplotlib.pyplot as plt\n",
    "import seaborn as sns\n",
    "import numpy as np"
   ]
  },
  {
   "cell_type": "code",
   "execution_count": 397,
   "metadata": {},
   "outputs": [],
   "source": [
    "df = pd.read_csv('train.csv')"
   ]
  },
  {
   "cell_type": "code",
   "execution_count": 398,
   "metadata": {},
   "outputs": [
    {
     "data": {
      "text/html": [
       "<div>\n",
       "<style scoped>\n",
       "    .dataframe tbody tr th:only-of-type {\n",
       "        vertical-align: middle;\n",
       "    }\n",
       "\n",
       "    .dataframe tbody tr th {\n",
       "        vertical-align: top;\n",
       "    }\n",
       "\n",
       "    .dataframe thead th {\n",
       "        text-align: right;\n",
       "    }\n",
       "</style>\n",
       "<table border=\"1\" class=\"dataframe\">\n",
       "  <thead>\n",
       "    <tr style=\"text-align: right;\">\n",
       "      <th></th>\n",
       "      <th>ID</th>\n",
       "      <th>STAY_DRG_CD</th>\n",
       "      <th>STAY_FROM_DT</th>\n",
       "      <th>STAY_THRU_DT</th>\n",
       "      <th>STUS_CD</th>\n",
       "      <th>TYPE_ADM</th>\n",
       "      <th>SRC_ADMS</th>\n",
       "      <th>AD_DGNS</th>\n",
       "      <th>DGNSCD01</th>\n",
       "      <th>PRCDRCD01</th>\n",
       "      <th>...</th>\n",
       "      <th>DGNSCD22</th>\n",
       "      <th>PRCDRCD22</th>\n",
       "      <th>DGNSCD23</th>\n",
       "      <th>PRCDRCD23</th>\n",
       "      <th>DGNSCD24</th>\n",
       "      <th>PRCDRCD24</th>\n",
       "      <th>DGNSCD25</th>\n",
       "      <th>PRCDRCD25</th>\n",
       "      <th>stay_drg_cd</th>\n",
       "      <th>Readmitted_30</th>\n",
       "    </tr>\n",
       "  </thead>\n",
       "  <tbody>\n",
       "    <tr>\n",
       "      <th>0</th>\n",
       "      <td>17319</td>\n",
       "      <td>NaN</td>\n",
       "      <td>2017-12-13 00:00:00</td>\n",
       "      <td>2017-12-20 00:00:00</td>\n",
       "      <td>62</td>\n",
       "      <td>1</td>\n",
       "      <td>2</td>\n",
       "      <td>M25551</td>\n",
       "      <td>S72001A</td>\n",
       "      <td>0SRR01Z</td>\n",
       "      <td>...</td>\n",
       "      <td>Z803</td>\n",
       "      <td>NaN</td>\n",
       "      <td>Z86711</td>\n",
       "      <td>NaN</td>\n",
       "      <td>Z86718</td>\n",
       "      <td>NaN</td>\n",
       "      <td>Z85828</td>\n",
       "      <td>NaN</td>\n",
       "      <td>469</td>\n",
       "      <td>0</td>\n",
       "    </tr>\n",
       "    <tr>\n",
       "      <th>1</th>\n",
       "      <td>19722</td>\n",
       "      <td>NaN</td>\n",
       "      <td>2017-10-19 00:00:00</td>\n",
       "      <td>2017-10-23 00:00:00</td>\n",
       "      <td>1</td>\n",
       "      <td>1</td>\n",
       "      <td>1</td>\n",
       "      <td>R531</td>\n",
       "      <td>A419</td>\n",
       "      <td>NaN</td>\n",
       "      <td>...</td>\n",
       "      <td>NaN</td>\n",
       "      <td>NaN</td>\n",
       "      <td>NaN</td>\n",
       "      <td>NaN</td>\n",
       "      <td>NaN</td>\n",
       "      <td>NaN</td>\n",
       "      <td>NaN</td>\n",
       "      <td>NaN</td>\n",
       "      <td>871</td>\n",
       "      <td>1</td>\n",
       "    </tr>\n",
       "    <tr>\n",
       "      <th>2</th>\n",
       "      <td>89699</td>\n",
       "      <td>NaN</td>\n",
       "      <td>2018-08-06 00:00:00</td>\n",
       "      <td>2018-08-08 00:00:00</td>\n",
       "      <td>1</td>\n",
       "      <td>1</td>\n",
       "      <td>1</td>\n",
       "      <td>R002</td>\n",
       "      <td>J690</td>\n",
       "      <td>NaN</td>\n",
       "      <td>...</td>\n",
       "      <td>NaN</td>\n",
       "      <td>NaN</td>\n",
       "      <td>NaN</td>\n",
       "      <td>NaN</td>\n",
       "      <td>NaN</td>\n",
       "      <td>NaN</td>\n",
       "      <td>NaN</td>\n",
       "      <td>NaN</td>\n",
       "      <td>177</td>\n",
       "      <td>0</td>\n",
       "    </tr>\n",
       "  </tbody>\n",
       "</table>\n",
       "<p>3 rows × 60 columns</p>\n",
       "</div>"
      ],
      "text/plain": [
       "      ID  STAY_DRG_CD         STAY_FROM_DT         STAY_THRU_DT  STUS_CD  \\\n",
       "0  17319          NaN  2017-12-13 00:00:00  2017-12-20 00:00:00       62   \n",
       "1  19722          NaN  2017-10-19 00:00:00  2017-10-23 00:00:00        1   \n",
       "2  89699          NaN  2018-08-06 00:00:00  2018-08-08 00:00:00        1   \n",
       "\n",
       "   TYPE_ADM  SRC_ADMS AD_DGNS DGNSCD01 PRCDRCD01  ... DGNSCD22 PRCDRCD22  \\\n",
       "0         1         2  M25551  S72001A   0SRR01Z  ...     Z803       NaN   \n",
       "1         1         1    R531     A419       NaN  ...      NaN       NaN   \n",
       "2         1         1    R002     J690       NaN  ...      NaN       NaN   \n",
       "\n",
       "  DGNSCD23 PRCDRCD23 DGNSCD24 PRCDRCD24 DGNSCD25 PRCDRCD25 stay_drg_cd  \\\n",
       "0   Z86711       NaN   Z86718       NaN   Z85828       NaN         469   \n",
       "1      NaN       NaN      NaN       NaN      NaN       NaN         871   \n",
       "2      NaN       NaN      NaN       NaN      NaN       NaN         177   \n",
       "\n",
       "  Readmitted_30  \n",
       "0             0  \n",
       "1             1  \n",
       "2             0  \n",
       "\n",
       "[3 rows x 60 columns]"
      ]
     },
     "execution_count": 398,
     "metadata": {},
     "output_type": "execute_result"
    }
   ],
   "source": [
    "df.head(3)"
   ]
  },
  {
   "cell_type": "code",
   "execution_count": 399,
   "metadata": {},
   "outputs": [
    {
     "data": {
      "text/plain": [
       "(130296, 60)"
      ]
     },
     "execution_count": 399,
     "metadata": {},
     "output_type": "execute_result"
    }
   ],
   "source": [
    "df.shape"
   ]
  },
  {
   "cell_type": "code",
   "execution_count": 400,
   "metadata": {},
   "outputs": [
    {
     "data": {
      "text/plain": [
       "np.int64(0)"
      ]
     },
     "execution_count": 400,
     "metadata": {},
     "output_type": "execute_result"
    }
   ],
   "source": [
    "df.duplicated().sum()"
   ]
  },
  {
   "cell_type": "code",
   "execution_count": 401,
   "metadata": {},
   "outputs": [],
   "source": [
    "# engineering of diagnostic and procedure features\n",
    "# apply all three methods "
   ]
  },
  {
   "cell_type": "markdown",
   "metadata": {},
   "source": [
    "# Pre-processing"
   ]
  },
  {
   "cell_type": "markdown",
   "metadata": {},
   "source": [
    "#### Checking Nulls"
   ]
  },
  {
   "cell_type": "markdown",
   "metadata": {},
   "source": [
    "**Percentage of nulls**"
   ]
  },
  {
   "cell_type": "code",
   "execution_count": 402,
   "metadata": {},
   "outputs": [],
   "source": [
    "# while exploring the data, we found that some columns contain '-' token as null value, so replace it with null\n",
    "\n",
    "df = df.replace('-', pd.NA)"
   ]
  },
  {
   "cell_type": "code",
   "execution_count": 403,
   "metadata": {},
   "outputs": [
    {
     "name": "stdout",
     "output_type": "stream",
     "text": [
      "PRCDRCD25 has 99.98234788481611% null values\n",
      "PRCDRCD24 has 99.9739055688586% null values\n",
      "PRCDRCD23 has 99.96623073616995% null values\n",
      "PRCDRCD22 has 99.95548597040585% null values\n",
      "PRCDRCD21 has 99.94474120464174% null values\n",
      "PRCDRCD20 has 99.93169398907104% null values\n",
      "PRCDRCD19 has 99.91557684042488% null values\n",
      "PRCDRCD18 has 99.89178485909007% null values\n",
      "PRCDRCD17 has 99.86876036102413% null values\n",
      "PRCDRCD16 has 99.83345613065634% null values\n",
      "PRCDRCD15 has 99.78280223491129% null values\n",
      "PRCDRCD14 has 99.6953091422607% null values\n",
      "PRCDRCD13 has 99.59630380057715% null values\n",
      "PRCDRCD12 has 99.46352919506354% null values\n",
      "PRCDRCD11 has 99.2839381101492% null values\n",
      "PRCDRCD10 has 99.01915638239086% null values\n",
      "PRCDRCD09 has 98.71062810830725% null values\n",
      "PRCDRCD08 has 98.24399828083747% null values\n",
      "PRCDRCD07 has 97.49186467735004% null values\n",
      "STAY_DRG_CD has 97.08509854485172% null values\n",
      "PRCDRCD06 has 95.84331061582857% null values\n",
      "PRCDRCD05 has 93.59458463805488% null values\n",
      "PRCDRCD04 has 89.65816295204765% null values\n",
      "DGNSCD25 has 87.80008595812612% null values\n",
      "PRCDRCD03 has 83.48836495364401% null values\n",
      "DGNSCD24 has 78.49742125621661% null values\n",
      "DGNSCD23 has 75.27015411064039% null values\n",
      "PRCDRCD02 has 73.79505126788236% null values\n",
      "DGNSCD22 has 71.68984466138639% null values\n",
      "DGNSCD21 has 67.79870448824215% null values\n",
      "DGNSCD20 has 63.86074783569718% null values\n",
      "DGNSCD19 has 59.564376496592374% null values\n",
      "PRCDRCD01 has 56.05160557499846% null values\n",
      "DGNSCD18 has 50.151194203966355% null values\n",
      "DGNSCD17 has 44.81411555228096% null values\n",
      "DGNSCD16 has 39.61825382206668% null values\n",
      "DGNSCD15 has 34.437741757229695% null values\n",
      "DGNSCD14 has 29.60796954626389% null values\n",
      "DGNSCD13 has 24.882575059863697% null values\n",
      "DGNSCD12 has 20.596948486522994% null values\n",
      "DGNSCD11 has 16.665899183397805% null values\n",
      "DGNSCD10 has 13.272855651746793% null values\n",
      "DGNSCD09 has 10.420120341376558% null values\n",
      "DGNSCD08 has 8.173696813409467% null values\n",
      "DGNSCD07 has 6.486001105175908% null values\n",
      "stay_drg_cd has 6.264965923742863% null values\n",
      "DGNSCD06 has 5.244980659421625% null values\n",
      "DGNSCD05 has 4.429913427887272% null values\n",
      "DGNSCD04 has 3.936421686007245% null values\n",
      "DGNSCD03 has 3.625590962117026% null values\n",
      "DGNSCD02 has 3.4598145760422425% null values\n",
      "DGNSCD01 has 3.3500644685945846% null values\n",
      "AD_DGNS has 3.3500644685945846% null values\n"
     ]
    }
   ],
   "source": [
    "nulls = df.isna().sum()\n",
    "\n",
    "Trows = df.shape[0] # number of rows in the dataset\n",
    "\n",
    "\n",
    "# sort the nulls in descending order\n",
    "nulls = nulls[nulls > 0].sort_values(ascending=False)\n",
    "for i in nulls.index:\n",
    "    if nulls[i] > 0:\n",
    "        print(f\"{i} has {(nulls[i]/Trows)*100}% null values\")\n",
    "\n"
   ]
  },
  {
   "cell_type": "code",
   "execution_count": 404,
   "metadata": {},
   "outputs": [
    {
     "name": "stdout",
     "output_type": "stream",
     "text": [
      "Columns with more than 50% null values: 34\n",
      "Columns with more than 60% null values: 31\n",
      "Columns with more than 70% null values: 29\n",
      "Columns with more than 80% null values: 25\n"
     ]
    }
   ],
   "source": [
    "# count coulmns greater than 50% null values\n",
    "nulls_50 = nulls[nulls > (Trows*0.5)]\n",
    "print(f\"Columns with more than 50% null values: {len(nulls_50)}\")\n",
    "# count coulmns greater than 50% null values\n",
    "nulls_60 = nulls[nulls > (Trows*0.6)]\n",
    "print(f\"Columns with more than 60% null values: {len(nulls_60)}\")\n",
    "# count coulmns greater than 70% null values\n",
    "nulls_70 = nulls[nulls > (Trows*0.7)]\n",
    "print(f\"Columns with more than 70% null values: {len(nulls_70)}\")\n",
    "# count coulmns greater than 80% null values\n",
    "nulls_80 = nulls[nulls > (Trows*0.8)]\n",
    "print(f\"Columns with more than 80% null values: {len(nulls_80)}\")"
   ]
  },
  {
   "cell_type": "code",
   "execution_count": 405,
   "metadata": {},
   "outputs": [],
   "source": [
    "# Findings:\n",
    "#     most of the nulls are in diagnostic and procedure features\n",
    "\n",
    "    "
   ]
  },
  {
   "cell_type": "markdown",
   "metadata": {},
   "source": [
    "#### STAY_DRG_CD\n",
    "This column appeared twice in our dataset, rows which are null in first occurenece are filled in second and vice versa so concatenating them\n"
   ]
  },
  {
   "cell_type": "code",
   "execution_count": 406,
   "metadata": {},
   "outputs": [
    {
     "name": "stdout",
     "output_type": "stream",
     "text": [
      "STAY_DRG_CD null count: 126498\n",
      "stay_drg_cd null count: 8163\n"
     ]
    }
   ],
   "source": [
    "print(\"STAY_DRG_CD null count:\", df['STAY_DRG_CD'].isna().sum())\n",
    "print(\"stay_drg_cd null count:\", df['stay_drg_cd'].isna().sum())"
   ]
  },
  {
   "cell_type": "code",
   "execution_count": 407,
   "metadata": {},
   "outputs": [],
   "source": [
    "# Fill the null values in STAY_DRG_CD with values from stay_drg_cd\n",
    "df['STAY_DRG_CD'] = df['STAY_DRG_CD'].fillna(df['stay_drg_cd'])"
   ]
  },
  {
   "cell_type": "code",
   "execution_count": 408,
   "metadata": {},
   "outputs": [
    {
     "name": "stdout",
     "output_type": "stream",
     "text": [
      "Nulls in STAY_DRG_CD are: 4365 which is 3.3500644685945846% of total data\n"
     ]
    }
   ],
   "source": [
    "nulls_in_SDC = df['STAY_DRG_CD'].isna().sum()\n",
    "\n",
    "rows = df.shape[0]\n",
    "\n",
    "print(f'Nulls in STAY_DRG_CD are: {nulls_in_SDC} which is {(nulls_in_SDC/rows)*100}% of total data',)"
   ]
  },
  {
   "cell_type": "code",
   "execution_count": 409,
   "metadata": {},
   "outputs": [],
   "source": [
    "# fill na with mode\n",
    "\n",
    "df['STAY_DRG_CD'] = df['STAY_DRG_CD'].fillna(df['STAY_DRG_CD'].mode()[0])"
   ]
  },
  {
   "cell_type": "code",
   "execution_count": 410,
   "metadata": {},
   "outputs": [],
   "source": [
    "df.drop(columns=['stay_drg_cd'], inplace=True)"
   ]
  },
  {
   "cell_type": "code",
   "execution_count": 411,
   "metadata": {},
   "outputs": [],
   "source": [
    "df['STAY_DRG_CD'] = df['STAY_DRG_CD'].astype('int')\n"
   ]
  },
  {
   "cell_type": "markdown",
   "metadata": {},
   "source": [
    "#### ID"
   ]
  },
  {
   "cell_type": "code",
   "execution_count": 412,
   "metadata": {},
   "outputs": [
    {
     "name": "stdout",
     "output_type": "stream",
     "text": [
      "ROC AUC score using only ID: 0.5061388586764188\n"
     ]
    }
   ],
   "source": [
    "# let's verify if there is any correlation between the readmission and ID by training a simple model\n",
    "\n",
    "from sklearn.linear_model import LogisticRegression\n",
    "from sklearn.metrics import roc_auc_score\n",
    "\n",
    "X = df[['ID']]\n",
    "y = df['Readmitted_30']\n",
    "\n",
    "model = LogisticRegression()\n",
    "model.fit(X, y)\n",
    "\n",
    "pred_probs = model.predict_proba(X)[:, 1]\n",
    "auc = roc_auc_score(y, pred_probs)\n",
    "print(f\"ROC AUC score using only ID: {auc}\")\n"
   ]
  },
  {
   "cell_type": "code",
   "execution_count": 413,
   "metadata": {},
   "outputs": [],
   "source": [
    "# An ROC AUC score of ~0.506 means that the ID feature has no real predictive power for the target variable — it’s basically performing at random chance level (0.5)\n",
    "\n",
    "\n",
    "# so we can drop it."
   ]
  },
  {
   "cell_type": "code",
   "execution_count": 414,
   "metadata": {},
   "outputs": [],
   "source": [
    "df.drop(columns=['ID'], inplace=True)"
   ]
  },
  {
   "cell_type": "markdown",
   "metadata": {},
   "source": [
    "#### Date"
   ]
  },
  {
   "cell_type": "code",
   "execution_count": 415,
   "metadata": {},
   "outputs": [],
   "source": [
    "# we have admitted date and discharge date, we can calculate the length of stay for each patient.\n",
    "\n",
    "df['STAY_FROM_DT'] = pd.to_datetime(df['STAY_FROM_DT'])\n",
    "df['STAY_THRU_DT'] = pd.to_datetime(df['STAY_THRU_DT'])"
   ]
  },
  {
   "cell_type": "code",
   "execution_count": 416,
   "metadata": {},
   "outputs": [],
   "source": [
    "df['LENGTH_OF_STAY'] = (df['STAY_THRU_DT'] - df['STAY_FROM_DT']).dt.days"
   ]
  },
  {
   "cell_type": "code",
   "execution_count": 417,
   "metadata": {},
   "outputs": [],
   "source": [
    "\n",
    "df['admit_dayofweek'] = df['STAY_FROM_DT'].dt.dayofweek\n",
    "\n",
    "df['discharge_month'] = df['STAY_THRU_DT'].dt.month\n",
    "\n",
    "# Why it matters:\n",
    "#   Discharges on Fridays/Saturdays might mean less follow-up planning → more readmissions.\n",
    "#   Certain months (e.g., flu season) might show patterns in readmissions.\n"
   ]
  },
  {
   "cell_type": "code",
   "execution_count": 418,
   "metadata": {},
   "outputs": [
    {
     "data": {
      "text/plain": [
       "np.int64(0)"
      ]
     },
     "execution_count": 418,
     "metadata": {},
     "output_type": "execute_result"
    }
   ],
   "source": [
    "df['LENGTH_OF_STAY'].isna().sum()"
   ]
  },
  {
   "cell_type": "code",
   "execution_count": 419,
   "metadata": {},
   "outputs": [],
   "source": [
    "df.drop(columns=['STAY_FROM_DT','STAY_THRU_DT'], inplace=True)"
   ]
  },
  {
   "cell_type": "markdown",
   "metadata": {},
   "source": [
    "#### STUS_CD - Patient Discharge Status code"
   ]
  },
  {
   "cell_type": "code",
   "execution_count": 420,
   "metadata": {},
   "outputs": [],
   "source": [
    "# Extremely useful. Discharge to a skilled nursing facility, hospice, or readmission facility often signals poor outcomes → high chance of readmission."
   ]
  },
  {
   "cell_type": "code",
   "execution_count": 421,
   "metadata": {},
   "outputs": [
    {
     "data": {
      "text/plain": [
       "STUS_CD\n",
       "1     56886\n",
       "3     40498\n",
       "6     22420\n",
       "62     6131\n",
       "63     4361\n",
       "Name: count, dtype: int64"
      ]
     },
     "execution_count": 421,
     "metadata": {},
     "output_type": "execute_result"
    }
   ],
   "source": [
    "df['STUS_CD'].value_counts()"
   ]
  },
  {
   "cell_type": "code",
   "execution_count": 422,
   "metadata": {},
   "outputs": [
    {
     "data": {
      "text/plain": [
       "STUS_CD\n",
       "1     0.185775\n",
       "3     0.229024\n",
       "6     0.231401\n",
       "62    0.183657\n",
       "63    0.124054\n",
       "Name: Readmitted_30, dtype: float64"
      ]
     },
     "execution_count": 422,
     "metadata": {},
     "output_type": "execute_result"
    }
   ],
   "source": [
    "df.groupby('STUS_CD')['Readmitted_30'].mean()\n",
    "# patient with code 3,6 have slightly more change to come back to hospital."
   ]
  },
  {
   "cell_type": "code",
   "execution_count": 423,
   "metadata": {},
   "outputs": [],
   "source": [
    "# This code describes how and where the patient was discharged, for example:\n",
    "\n",
    "# 1 – Discharged to home/self-care\n",
    "# 3 – Discharged/transferred to SNF (Skilled Nursing Facility)\n",
    "# 6 – Discharged/transferred to home with home health services\n",
    "# 62 – Discharged/transferred to inpatient rehabilitation\n",
    "# 63 – Discharged/transferred to long-term hospital\n",
    "\n",
    "# These are standard CMS codes\n",
    "\n",
    "\n",
    "# STUS_CD is a categorical code, not a numeric measurement. so no need to normalize it, but we can encode it using label encoding. (ordinal encoding)\n"
   ]
  },
  {
   "cell_type": "code",
   "execution_count": 424,
   "metadata": {},
   "outputs": [
    {
     "data": {
      "text/plain": [
       "np.int64(0)"
      ]
     },
     "execution_count": 424,
     "metadata": {},
     "output_type": "execute_result"
    }
   ],
   "source": [
    "df['STUS_CD'].isna().sum()"
   ]
  },
  {
   "cell_type": "code",
   "execution_count": 425,
   "metadata": {},
   "outputs": [],
   "source": [
    "\n",
    "from sklearn.preprocessing import LabelEncoder\n",
    "le = LabelEncoder()\n",
    "df['STUS_CD_encoded'] = le.fit_transform(df['STUS_CD'])\n",
    "df.drop(columns=['STUS_CD'], inplace=True)"
   ]
  },
  {
   "cell_type": "markdown",
   "metadata": {},
   "source": [
    "#### TYPE_ADM - Admission Type code"
   ]
  },
  {
   "cell_type": "code",
   "execution_count": 426,
   "metadata": {},
   "outputs": [],
   "source": [
    "# How the patient was admitted — e.g., elective, emergency, urgent, newborn, etc.\n",
    "\n",
    "# 1 – Elective admission\n",
    "# 2 – Emergency admission\n",
    "# 3 – Urgent admission\n",
    "# 5 – Newborn admission\n",
    "# 9 – Other admission type\n",
    "\n",
    "# as this is again a categorical column so no need to normalize, we can encode it using label encoding."
   ]
  },
  {
   "cell_type": "code",
   "execution_count": 427,
   "metadata": {},
   "outputs": [],
   "source": [
    "# Clinically, this feature is very important, as it often correlates with the urgency of the condition and thus the likelihood of readmission.\n",
    "\n",
    "# Emergency or urgent admissions generally carry higher readmission risks compared to planned, elective ones."
   ]
  },
  {
   "cell_type": "code",
   "execution_count": 428,
   "metadata": {},
   "outputs": [
    {
     "data": {
      "text/plain": [
       "TYPE_ADM\n",
       "1    108830\n",
       "3     11993\n",
       "2      9259\n",
       "5       145\n",
       "9        69\n",
       "Name: count, dtype: int64"
      ]
     },
     "execution_count": 428,
     "metadata": {},
     "output_type": "execute_result"
    }
   ],
   "source": [
    "df['TYPE_ADM'].value_counts()"
   ]
  },
  {
   "cell_type": "code",
   "execution_count": 429,
   "metadata": {},
   "outputs": [
    {
     "data": {
      "text/plain": [
       "np.int64(0)"
      ]
     },
     "execution_count": 429,
     "metadata": {},
     "output_type": "execute_result"
    }
   ],
   "source": [
    "df['TYPE_ADM'].isna().sum()"
   ]
  },
  {
   "cell_type": "code",
   "execution_count": 430,
   "metadata": {},
   "outputs": [],
   "source": [
    "from sklearn.preprocessing import LabelEncoder\n",
    "le = LabelEncoder()\n",
    "df['TYPE_ADM_encoded'] = le.fit_transform(df['TYPE_ADM'])\n",
    "\n",
    "df.drop(columns=['TYPE_ADM'], inplace=True)"
   ]
  },
  {
   "cell_type": "markdown",
   "metadata": {},
   "source": [
    "#### SRC_ADMS - admission source code"
   ]
  },
  {
   "cell_type": "code",
   "execution_count": 431,
   "metadata": {},
   "outputs": [
    {
     "data": {
      "text/plain": [
       "SRC_ADMS\n",
       "1    106269\n",
       "5     12946\n",
       "2     11081\n",
       "Name: count, dtype: int64"
      ]
     },
     "execution_count": 431,
     "metadata": {},
     "output_type": "execute_result"
    }
   ],
   "source": [
    "df['SRC_ADMS'].value_counts()"
   ]
  },
  {
   "cell_type": "code",
   "execution_count": 432,
   "metadata": {},
   "outputs": [],
   "source": [
    "# Again a categorical column. \n",
    "\n",
    "# This feature indicates the source of the admission, such as:\n",
    "# The admission source indicates where the patient came from before being admitted to the hospital. Typical codes might represent:\n",
    "\n",
    "# 1 – Emergency room (ER)\n",
    "# 2 – Referral from another hospital or clinic\n",
    "# 5 – Other sources (e.g., physician's office, home, etc.)"
   ]
  },
  {
   "cell_type": "code",
   "execution_count": 433,
   "metadata": {},
   "outputs": [
    {
     "data": {
      "text/plain": [
       "np.int64(0)"
      ]
     },
     "execution_count": 433,
     "metadata": {},
     "output_type": "execute_result"
    }
   ],
   "source": [
    "df['SRC_ADMS'].isna().sum()"
   ]
  },
  {
   "cell_type": "code",
   "execution_count": 434,
   "metadata": {},
   "outputs": [],
   "source": [
    "from sklearn.preprocessing import LabelEncoder\n",
    "le = LabelEncoder()\n",
    "\n",
    "df['SRC_ADMS_encoded'] = le.fit_transform(df['SRC_ADMS'])\n",
    "df.drop(columns=['SRC_ADMS'], inplace=True)"
   ]
  },
  {
   "cell_type": "markdown",
   "metadata": {},
   "source": [
    "#### AD_DGNS - admitting Diagnosis Code"
   ]
  },
  {
   "cell_type": "code",
   "execution_count": 435,
   "metadata": {},
   "outputs": [],
   "source": [
    "#  describe the condition the patient was admitted for.\n",
    "\n",
    "# Admitting diagnosis is crucial for understanding the severity and urgency of the patient’s condition.\n",
    "# Certain diagnoses are associated with higher risk of readmission — for example, heart failure, pneumonia, or chronic diseases like diabetes or hypertension."
   ]
  },
  {
   "cell_type": "code",
   "execution_count": 436,
   "metadata": {},
   "outputs": [
    {
     "data": {
      "text/plain": [
       "2259"
      ]
     },
     "execution_count": 436,
     "metadata": {},
     "output_type": "execute_result"
    }
   ],
   "source": [
    "df['AD_DGNS'].nunique() # there are too many different admitting codes"
   ]
  },
  {
   "cell_type": "code",
   "execution_count": 437,
   "metadata": {},
   "outputs": [],
   "source": [
    "target_encoded = df.groupby('AD_DGNS')['Readmitted_30'].mean()\n",
    "\n",
    "df['AD_DGNS_encoded'] = df['AD_DGNS'].map(target_encoded)\n",
    "\n",
    "df.drop(columns=['AD_DGNS'], inplace=True)"
   ]
  },
  {
   "cell_type": "code",
   "execution_count": 438,
   "metadata": {},
   "outputs": [
    {
     "data": {
      "text/plain": [
       "np.int64(4365)"
      ]
     },
     "execution_count": 438,
     "metadata": {},
     "output_type": "execute_result"
    }
   ],
   "source": [
    "df['AD_DGNS_encoded'].isna().sum()"
   ]
  },
  {
   "cell_type": "code",
   "execution_count": 439,
   "metadata": {},
   "outputs": [],
   "source": [
    "# Calculate global mean of the target as fallback\n",
    "global_mean = df['Readmitted_30'].mean()\n",
    "\n",
    "# Fill NaNs with the global mean\n",
    "df['AD_DGNS_encoded'] = df['AD_DGNS_encoded'].fillna(global_mean)\n"
   ]
  },
  {
   "cell_type": "markdown",
   "metadata": {},
   "source": [
    "#### Analyzing procedure and diagnosis columns"
   ]
  },
  {
   "cell_type": "markdown",
   "metadata": {},
   "source": [
    "##### some analysis"
   ]
  },
  {
   "cell_type": "code",
   "execution_count": 440,
   "metadata": {},
   "outputs": [],
   "source": [
    "def check_procedure_pattern(row):\n",
    "    \"\"\"\n",
    "    Checks if procedures follow the pattern:\n",
    "    If procedure n is missing, then all procedures n+1 to 25 are also missing\n",
    "    Returns True if pattern holds, False otherwise\n",
    "    \"\"\"\n",
    "    proc_columns = [f'PRCDRCD{str(i).zfill(2)}' for i in range(1, 26)]\n",
    "    first_empty = None\n",
    "    \n",
    "    for i, col in enumerate(proc_columns):\n",
    "        if pd.isna(row[col]) or row[col] == '' : \n",
    "            first_empty = i\n",
    "            break\n",
    "    \n",
    "    if first_empty is None:  # All procedures are filled\n",
    "        return True\n",
    "    \n",
    "    # Check if all procedures after first_empty are also empty\n",
    "    for col in proc_columns[first_empty:]:\n",
    "        if not pd.isna(row[col]) and row[col] != '':\n",
    "            return False\n",
    "    \n",
    "    return True"
   ]
  },
  {
   "cell_type": "code",
   "execution_count": 441,
   "metadata": {},
   "outputs": [
    {
     "name": "stdout",
     "output_type": "stream",
     "text": [
      "Procedure Pattern Compliance:\n",
      "follows_pattern\n",
      "True    130296\n",
      "Name: count, dtype: int64\n",
      "Percentage of rows following pattern: 100.00%\n"
     ]
    }
   ],
   "source": [
    "df_temp  = df.copy()\n",
    "\n",
    "# Apply the function to each row\n",
    "df_temp['follows_pattern'] = df_temp.apply(check_procedure_pattern, axis=1)\n",
    "\n",
    "# Count pattern compliance\n",
    "pattern_count = df_temp['follows_pattern'].value_counts()\n",
    "print(\"Procedure Pattern Compliance:\")\n",
    "print(pattern_count)\n",
    "print(f\"Percentage of rows following pattern: {100 * pattern_count.get(True, 0) / len(df_temp):.2f}%\")"
   ]
  },
  {
   "cell_type": "code",
   "execution_count": 442,
   "metadata": {},
   "outputs": [
    {
     "data": {
      "image/png": "[encoded data removed]",
      "text/plain": [
       "<Figure size 1200x600 with 1 Axes>"
      ]
     },
     "metadata": {},
     "output_type": "display_data"
    }
   ],
   "source": [
    "# Visualize procedure presence\n",
    "# Create a matrix where 1 means procedure exists, 0 means not exists\n",
    "proc_presence = pd.DataFrame()\n",
    "for i in range(1, 26):\n",
    "    col = f'PRCDRCD{str(i).zfill(2)}'\n",
    "    proc_presence[col] = (~df_temp[col].isna() & (df_temp[col] != '')).astype(int)\n",
    "\n",
    "\n",
    "# Visualize the procedure pattern\n",
    "plt.figure(figsize=(12, 6))\n",
    "sns.heatmap(proc_presence.T, cmap='Blues', cbar=False)\n",
    "plt.title('Procedure Pattern Visualization')\n",
    "plt.xlabel('Patient Index')\n",
    "plt.ylabel('Procedure Number')\n",
    "plt.tight_layout()\n",
    "plt.show()"
   ]
  },
  {
   "cell_type": "code",
   "execution_count": 443,
   "metadata": {},
   "outputs": [],
   "source": [
    "# by above analysis, we found that if a procedure is missing, all subsequent procedures are also missing. so nulls in procedure does't means that the procedure was not recorded but it means that the patient didn't have/need that procedure. "
   ]
  },
  {
   "cell_type": "code",
   "execution_count": 444,
   "metadata": {},
   "outputs": [],
   "source": [
    "# Let's check if the same pattern exists for diagnosis features\n",
    "def check_diagnosis_pattern(row):\n",
    "    \"\"\"\n",
    "    Checks if diagnoses follow the pattern:\n",
    "    If diagnosis n is missing, then all diagnoses n+1 to 25 are also missing\n",
    "    Returns True if pattern holds, False otherwise\n",
    "    \"\"\"\n",
    "    diag_columns = [f'DGNSCD{str(i).zfill(2)}' for i in range(1, 26)]\n",
    "    first_empty = None\n",
    "    \n",
    "    for i, col in enumerate(diag_columns):\n",
    "        if pd.isna(row[col]) or row[col] == '':\n",
    "            first_empty = i\n",
    "            break\n",
    "    \n",
    "    if first_empty is None:  # All diagnoses are filled\n",
    "        return True\n",
    "    \n",
    "    # Check if all diagnoses after first_empty are also empty\n",
    "    for col in diag_columns[first_empty:]:\n",
    "        if not pd.isna(row[col]) and row[col] != '':\n",
    "            return False\n",
    "    \n",
    "    return True"
   ]
  },
  {
   "cell_type": "code",
   "execution_count": 445,
   "metadata": {},
   "outputs": [
    {
     "name": "stdout",
     "output_type": "stream",
     "text": [
      "Diagnosis Pattern Compliance:\n",
      "diag_follows_pattern\n",
      "True    130296\n",
      "Name: count, dtype: int64\n",
      "Percentage of rows following pattern: 100.00%\n"
     ]
    }
   ],
   "source": [
    "df_temp  = df.copy()\n",
    "\n",
    "# Apply the function to each row\n",
    "df_temp['diag_follows_pattern'] = df_temp.apply(check_diagnosis_pattern, axis=1)\n",
    "\n",
    "# Count pattern compliance\n",
    "pattern_count = df_temp['diag_follows_pattern'].value_counts()\n",
    "print(\"Diagnosis Pattern Compliance:\")\n",
    "print(pattern_count)\n",
    "print(f\"Percentage of rows following pattern: {100 * pattern_count.get(True, 0) / len(df_temp):.2f}%\")"
   ]
  },
  {
   "cell_type": "code",
   "execution_count": 446,
   "metadata": {},
   "outputs": [],
   "source": [
    "# Diagnosis columns are also following the same pattern. \n",
    "\n",
    "# Now we can reduce these 50 columns to 2 columns. these columns will indicate that how many procedures/diagnosis were performed on the patient.\n",
    "\n",
    "# this is the first and most simplest approach to reduce the number of columns.\n",
    "\n"
   ]
  },
  {
   "cell_type": "code",
   "execution_count": 447,
   "metadata": {},
   "outputs": [
    {
     "name": "stdout",
     "output_type": "stream",
     "text": [
      "Total unique diagnosis codes: 9778\n",
      "all diagnosis codes: 2178998\n",
      "Total unique procedure codes: 4701\n",
      "all procedures codes: 152469\n"
     ]
    }
   ],
   "source": [
    "# get all unique diagnosis codes\n",
    "unique_diagnosis_codes = set()\n",
    "all_diagnosis_codes = []\n",
    "for i in range(1, 26):\n",
    "    col = f'DGNSCD{str(i).zfill(2)}'\n",
    "    unique_diagnosis_codes.update(df[col].dropna().unique())\n",
    "    all_diagnosis_codes.extend(df[col].dropna())\n",
    "\n",
    "print(f\"Total unique diagnosis codes: {len(unique_diagnosis_codes)}\")\n",
    "print(f\"all diagnosis codes: {len(all_diagnosis_codes)}\")\n",
    "# get all unique diagnosis codes\n",
    "unique_procedure_codes = set()\n",
    "all_procedure_codes = []\n",
    "for i in range(1, 26):\n",
    "    col = f'PRCDRCD{str(i).zfill(2)}'\n",
    "    unique_procedure_codes.update(df[col].dropna().unique())\n",
    "    all_procedure_codes.extend(df[col].dropna())\n",
    "\n",
    "print(f\"Total unique procedure codes: {len(unique_procedure_codes)}\")\n",
    "print(f\"all procedures codes: {len(all_procedure_codes)}\")"
   ]
  },
  {
   "cell_type": "markdown",
   "metadata": {},
   "source": [
    "##### Handling these columns"
   ]
  },
  {
   "cell_type": "code",
   "execution_count": 448,
   "metadata": {},
   "outputs": [],
   "source": [
    "proc_columns = [f'PRCDRCD{str(i).zfill(2)}' for i in range(1, 26)]\n",
    "diag_columns = [f'DGNSCD{str(i).zfill(2)}' for i in range(1, 26)]"
   ]
  },
  {
   "cell_type": "code",
   "execution_count": 449,
   "metadata": {},
   "outputs": [],
   "source": [
    "df_count_based = df.copy()\n",
    "df_position_based = df.copy()\n",
    "df_grouped_codes = df.copy()"
   ]
  },
  {
   "cell_type": "code",
   "execution_count": 450,
   "metadata": {},
   "outputs": [],
   "source": [
    "\n",
    "# Method 1: Count-Based Features\n",
    "\n",
    "df_count_based['num_diagnoses'] = df_count_based[diag_columns].notna().sum(axis=1)\n",
    "df_count_based['num_procedures'] = df_count_based[proc_columns].notna().sum(axis=1)\n",
    "\n",
    "\n",
    "df_count_based.drop(columns=diag_columns + proc_columns, inplace=True)"
   ]
  },
  {
   "cell_type": "code",
   "execution_count": 451,
   "metadata": {},
   "outputs": [],
   "source": [
    "\n",
    "# ----------------------------\n",
    "# Method 2: Position-Based Features\n",
    "# ----------------------------\n",
    "\n",
    "# Primary diagnosis code\n",
    "df_position_based['primary_diagnosis'] = df_position_based['DGNSCD01']\n",
    "\n",
    "# If both diagnosis and procedure 01 are present, condition is treated\n",
    "df_position_based['primary_condition_treated'] = df_position_based[['DGNSCD01', 'PRCDRCD01']].notna().all(axis=1).astype(int)\n",
    "\n",
    "# Ratio of diagnoses that have procedures\n",
    "def calculate_diag_proc_ratio(row):\n",
    "    diag_count = 0\n",
    "    treated_count = 0\n",
    "    for i in range(1, 26):\n",
    "        diag = row.get(f'DGNSCD{str(i).zfill(2)}')\n",
    "        proc = row.get(f'PRCDRCD{str(i).zfill(2)}')\n",
    "        if pd.notna(diag):\n",
    "            diag_count += 1\n",
    "            if pd.notna(proc):\n",
    "                treated_count += 1\n",
    "    return treated_count / diag_count if diag_count > 0 else 0\n",
    "\n",
    "df_position_based['treatment_ratio'] = df_position_based.apply(calculate_diag_proc_ratio, axis=1)\n",
    "\n",
    "\n",
    "# target encoding of primary diagnosis\n",
    "primary_diag_target_encoding = df_position_based.groupby('primary_diagnosis')['Readmitted_30'].mean()\n",
    "df_position_based['primary_diagnosis_encoded'] = df_position_based['primary_diagnosis'].map(primary_diag_target_encoding)\n",
    "\n",
    "global_readmit_mean = df_position_based['Readmitted_30'].mean()\n",
    "df_position_based['primary_diagnosis_encoded'] = df_position_based['primary_diagnosis_encoded'].fillna(global_readmit_mean)\n",
    "\n",
    "df_position_based.drop(columns=['primary_diagnosis'], inplace=True)\n",
    "\n",
    "\n",
    "df_position_based.drop(columns=diag_columns + proc_columns, inplace=True)"
   ]
  },
  {
   "cell_type": "code",
   "execution_count": 452,
   "metadata": {},
   "outputs": [],
   "source": [
    "# ----------------------------\n",
    "# Method 3: Group/Select Important Codes\n",
    "# ----------------------------\n",
    "\n",
    "# Reduce diagnosis codes to their first 3 characters to represent groups\n",
    "for col in diag_columns:\n",
    "    df_grouped_codes[col] = df_grouped_codes[col].astype(str).str[:3]\n",
    "\n",
    "# Get the top 20 most frequent diagnosis code groups\n",
    "top_diag_groups = pd.Series(df_grouped_codes[diag_columns].values.ravel()).value_counts().nlargest(20).index\n",
    "\n",
    "# Create binary features for top 20 diagnosis code groups\n",
    "for code in top_diag_groups:\n",
    "    df_grouped_codes[f'diag_code_{code}'] = df_grouped_codes[diag_columns].apply(lambda x: code in x.values, axis=1).astype(int)\n",
    "\n",
    "# Drop original diagnosis and procedure columns (optional for modeling)\n",
    "df_grouped_codes = df_grouped_codes.drop(columns=diag_columns + proc_columns)\n"
   ]
  },
  {
   "cell_type": "code",
   "execution_count": null,
   "metadata": {},
   "outputs": [],
   "source": []
  },
  {
   "cell_type": "code",
   "execution_count": null,
   "metadata": {},
   "outputs": [],
   "source": []
  },
  {
   "cell_type": "code",
   "execution_count": null,
   "metadata": {},
   "outputs": [],
   "source": []
  },
  {
   "cell_type": "markdown",
   "metadata": {},
   "source": [
    "#### Readmitted_30"
   ]
  },
  {
   "cell_type": "code",
   "execution_count": 453,
   "metadata": {},
   "outputs": [],
   "source": [
    "# check class imbalance in the target variable"
   ]
  },
  {
   "cell_type": "code",
   "execution_count": 454,
   "metadata": {},
   "outputs": [
    {
     "name": "stderr",
     "output_type": "stream",
     "text": [
      "C:\\Users\\shame\\AppData\\Local\\Temp\\ipykernel_19884\\1464052039.py:5: FutureWarning: \n",
      "\n",
      "Passing `palette` without assigning `hue` is deprecated and will be removed in v0.14.0. Assign the `x` variable to `hue` and set `legend=False` for the same effect.\n",
      "\n",
      "  sns.countplot(x='Readmitted_30', data=df, palette='Blues')\n"
     ]
    },
    {
     "data": {
      "image/png": "[encoded data removed]",
      "text/plain": [
       "<Figure size 1200x800 with 2 Axes>"
      ]
     },
     "metadata": {},
     "output_type": "display_data"
    }
   ],
   "source": [
    "plt.figure(figsize=(12, 8))\n",
    "\n",
    "# Create a countplot for Readmitted_30\n",
    "plt.subplot(1, 2, 1)\n",
    "sns.countplot(x='Readmitted_30', data=df, palette='Blues')\n",
    "plt.title('Distribution of 30-Day Readmissions', fontsize=14)\n",
    "plt.xlabel('Readmitted within 30 days', fontsize=12)\n",
    "plt.ylabel('Count', fontsize=12)\n",
    "plt.xticks([0, 1], ['No (0)', 'Yes (1)'])\n",
    "\n",
    "# Add count labels on top of bars\n",
    "for p in plt.gca().patches:\n",
    "    plt.gca().annotate(f'{p.get_height():,}', \n",
    "                       (p.get_x() + p.get_width() / 2., p.get_height()),\n",
    "                       ha='center', va='bottom', fontsize=11)\n",
    "\n",
    "# Create a pie chart showing percentage distribution\n",
    "plt.subplot(1, 2, 2)\n",
    "readmit_counts = df['Readmitted_30'].value_counts()\n",
    "labels = ['Not Readmitted', 'Readmitted within 30 days']\n",
    "colors = ['#9ecae1', '#3182bd']\n",
    "plt.pie(readmit_counts, labels=labels, autopct='%1.1f%%', startangle=90, colors=colors,\n",
    "        wedgeprops={'edgecolor': 'white', 'linewidth': 1.5})\n",
    "plt.title('Percentage of 30-Day Readmissions', fontsize=14)\n",
    "plt.axis('equal')\n",
    "plt.tight_layout()\n",
    "plt.show()"
   ]
  },
  {
   "cell_type": "code",
   "execution_count": 455,
   "metadata": {},
   "outputs": [
    {
     "name": "stdout",
     "output_type": "stream",
     "text": [
      "30-Day Readmission Rate: 20.49%\n",
      "Total Patients: 130,296\n",
      "Readmitted Patients: 26,698\n",
      "Non-readmitted Patients: 103,598\n"
     ]
    }
   ],
   "source": [
    "readmission_rate = df['Readmitted_30'].mean() * 100\n",
    "print(f\"30-Day Readmission Rate: {readmission_rate:.2f}%\")\n",
    "print(f\"Total Patients: {len(df):,}\")\n",
    "print(f\"Readmitted Patients: {df['Readmitted_30'].sum():,}\")\n",
    "print(f\"Non-readmitted Patients: {len(df) - df['Readmitted_30'].sum():,}\")"
   ]
  },
  {
   "cell_type": "markdown",
   "metadata": {},
   "source": [
    "#### Removing class imbalace from training data"
   ]
  },
  {
   "cell_type": "code",
   "execution_count": 456,
   "metadata": {},
   "outputs": [],
   "source": [
    "y = df['Readmitted_30']"
   ]
  },
  {
   "cell_type": "code",
   "execution_count": 457,
   "metadata": {},
   "outputs": [],
   "source": [
    "X_countbased = df_count_based.drop([ 'Readmitted_30'], axis=1)\n",
    "X_position_based = df_position_based.drop([ 'Readmitted_30'], axis=1)\n",
    "X_grouped_codes = df_grouped_codes.drop([ 'Readmitted_30'], axis=1)"
   ]
  },
  {
   "cell_type": "code",
   "execution_count": 458,
   "metadata": {},
   "outputs": [],
   "source": [
    "from sklearn.model_selection import train_test_split\n",
    "\n",
    "X_train_count, X_test_count, y_train, y_test = train_test_split(X_countbased, y, test_size=0.2, random_state=42)\n",
    "\n",
    "X_train_position, X_test_position, y_train, y_test = train_test_split(X_position_based, y, test_size=0.2, random_state=42)\n",
    "\n",
    "X_train_group, X_test_group, y_train, y_test = train_test_split(X_grouped_codes, y, test_size=0.2, random_state=42)"
   ]
  },
  {
   "cell_type": "code",
   "execution_count": null,
   "metadata": {},
   "outputs": [
    {
     "name": "stderr",
     "output_type": "stream",
     "text": [
      "c:\\Users\\shame\\AppData\\Local\\Programs\\Python\\Python39\\lib\\site-packages\\sklearn\\base.py:474: FutureWarning: `BaseEstimator._validate_data` is deprecated in 1.6 and will be removed in 1.7. Use `sklearn.utils.validation.validate_data` instead. This function becomes public and is part of the scikit-learn developer API.\n",
      "  warnings.warn(\n"
     ]
    }
   ],
   "source": [
    "from imblearn.over_sampling import ADASYN\n",
    "\n",
    "adasyn = ADASYN(random_state=42)\n",
    "\n",
    "X_resampled_count, y_resampled_count = adasyn.fit_resample(X_train_count, y_train)\n",
    "\n",
    "# "
   ]
  },
  {
   "cell_type": "code",
   "execution_count": 460,
   "metadata": {},
   "outputs": [
    {
     "name": "stderr",
     "output_type": "stream",
     "text": [
      "c:\\Users\\shame\\AppData\\Local\\Programs\\Python\\Python39\\lib\\site-packages\\sklearn\\base.py:474: FutureWarning: `BaseEstimator._validate_data` is deprecated in 1.6 and will be removed in 1.7. Use `sklearn.utils.validation.validate_data` instead. This function becomes public and is part of the scikit-learn developer API.\n",
      "  warnings.warn(\n"
     ]
    }
   ],
   "source": [
    "X_resampled_position, y_resampled_position = adasyn.fit_resample(X_train_position, y_train)\n"
   ]
  },
  {
   "cell_type": "code",
   "execution_count": 461,
   "metadata": {},
   "outputs": [
    {
     "name": "stderr",
     "output_type": "stream",
     "text": [
      "c:\\Users\\shame\\AppData\\Local\\Programs\\Python\\Python39\\lib\\site-packages\\sklearn\\base.py:474: FutureWarning: `BaseEstimator._validate_data` is deprecated in 1.6 and will be removed in 1.7. Use `sklearn.utils.validation.validate_data` instead. This function becomes public and is part of the scikit-learn developer API.\n",
      "  warnings.warn(\n"
     ]
    }
   ],
   "source": [
    "X_resampled_group, y_resampled_group = adasyn.fit_resample(X_train_group, y_train)\n"
   ]
  },
  {
   "cell_type": "code",
   "execution_count": 462,
   "metadata": {},
   "outputs": [
    {
     "name": "stdout",
     "output_type": "stream",
     "text": [
      "<class 'pandas.core.series.Series'>\n",
      "RangeIndex: 165308 entries, 0 to 165307\n",
      "Series name: Readmitted_30\n",
      "Non-Null Count   Dtype\n",
      "--------------   -----\n",
      "165308 non-null  int64\n",
      "dtypes: int64(1)\n",
      "memory usage: 1.3 MB\n"
     ]
    }
   ],
   "source": [
    "y_resampled_count.info()"
   ]
  },
  {
   "cell_type": "markdown",
   "metadata": {},
   "source": [
    "# Model Training "
   ]
  },
  {
   "cell_type": "code",
   "execution_count": null,
   "metadata": {},
   "outputs": [],
   "source": [
    "# use following df's to get data\n",
    "\n",
    "# X_resampled_count, y_resampled_count ,X_test_count , y_test\n",
    "# X_resampled_position, y_resampled_position , X_test_position , y_test\n",
    "# X_resampled_group, y_resampled_group , X_test_group , y_test"
   ]
  },
  {
   "cell_type": "code",
   "execution_count": null,
   "metadata": {},
   "outputs": [],
   "source": [
    "from sklearn.linear_model import LogisticRegression\n",
    "from sklearn.metrics import accuracy_score, precision_score, recall_score, f1_score, roc_auc_score, classification_report\n",
    "from sklearn.ensemble import RandomForestClassifier\n",
    "from xgboost import XGBClassifier\n",
    "from catboost import CatBoostClassifier\n",
    "from lightgbm import LGBMClassifier\n",
    "from sklearn.neighbors import KNeighborsClassifier\n",
    "from sklearn.tree import DecisionTreeClassifier\n",
    "from sklearn.naive_bayes import GaussianNB\n",
    "from sklearn.svm import SVC\n",
    "from sklearn.ensemble import RandomForestClassifier, GradientBoostingClassifier, AdaBoostClassifier, BaggingClassifier\n",
    "from sklearn.ensemble import StackingClassifier\n",
    "    \n"
   ]
  },
  {
   "cell_type": "code",
   "execution_count": null,
   "metadata": {},
   "outputs": [],
   "source": [
    "def train_logistic_regression(X_train, X_test, y_train, y_test):\n",
    "\n",
    "    # Initialize and train the model\n",
    "    lr = LogisticRegression(random_state=42, max_iter=1000)\n",
    "    lr.fit(X_train, y_train)\n",
    "\n",
    "    # Make predictions\n",
    "    y_pred = lr.predict(X_test)\n",
    "    y_pred_proba = lr.predict_proba(X_test)[:,1]\n",
    "\n",
    "    # Calculate metrics\n",
    "    metrics = {\n",
    "        'accuracy': accuracy_score(y_test, y_pred),\n",
    "        'precision': precision_score(y_test, y_pred),\n",
    "        'recall': recall_score(y_test, y_pred),\n",
    "        'f1': f1_score(y_test, y_pred),\n",
    "        'roc_auc': roc_auc_score(y_test, y_pred_proba)\n",
    "    }\n",
    "\n",
    "    print(\"----------------------------------------\")\n",
    "    print(f\"Accuracy: {metrics['accuracy']:.4f}\")\n",
    "    print(f\"Precision: {metrics['precision']:.4f}\")\n",
    "    print(f\"Recall: {metrics['recall']:.4f}\")\n",
    "    print(f\"F1 Score: {metrics['f1']:.4f}\")\n",
    "    print(f\"ROC AUC Score: {metrics['roc_auc']:.4f}\")\n",
    "    print(\"\\nClassification Report:\")\n",
    "    print(classification_report(y_test, y_pred))\n",
    "\n",
    "    return lr, metrics\n",
    "\n",
    "# Store metrics for each dataset\n",
    "lr_metrics_dict = {}\n",
    "\n",
    "\n",
    "print(\"Training Logistic Regression on Count-Based Features...\")\n",
    "lr_model1, lr_metrics_dict['dataset1'] = train_logistic_regression(X_resampled_count,X_test_count,y_resampled_count, y_test)\n",
    "\n",
    "print(\"Training Logistic Regression on position...\")\n",
    "lr_model1, lr_metrics_dict['dataset2'] = train_logistic_regression(X_resampled_position,X_test_position,y_resampled_count, y_test)\n",
    "\n",
    "print(\"Training Logistic Regression on group...\")\n",
    "lr_model1, lr_metrics_dict['dataset3'] = train_logistic_regression(X_resampled_group,X_test_group,y_resampled_count, y_test)"
   ]
  },
  {
   "cell_type": "code",
   "execution_count": null,
   "metadata": {},
   "outputs": [],
   "source": [
    "X_resampled_count, y_resampled_count ,X_test_count , y_test\n",
    "\n",
    "X_resampled_position, y_resampled_position , X_test_position , y_test\n",
    "\n",
    "X_resampled_group, y_resampled_group , X_test_group , y_test"
   ]
  },
  {
   "cell_type": "code",
   "execution_count": null,
   "metadata": {},
   "outputs": [],
   "source": [
    "\n",
    "def train_random_forest(X_train, X_test, y_train, y_test):\n",
    "    \"\"\"\n",
    "    Train and evaluate a Random Forest model\n",
    "    Parameters:\n",
    "        X_train, X_test: Training and test features\n",
    "        y_train, y_test: Training and test labels\n",
    "    \n",
    "    Returns:\n",
    "        rf: Trained Random Forest model\n",
    "        metrics: Dictionary containing evaluation metrics\n",
    "    \"\"\"\n",
    "    # Initialize and train the model\n",
    "    rf = RandomForestClassifier(random_state=42)\n",
    "    rf.fit(X_train, y_train)\n",
    "\n",
    "    # Make predictions\n",
    "    y_pred = rf.predict(X_test)\n",
    "    y_pred_proba = rf.predict_proba(X_test)[:,1]\n",
    "\n",
    "    # Calculate metrics\n",
    "    metrics = {\n",
    "        'accuracy': accuracy_score(y_test, y_pred),\n",
    "        'precision': precision_score(y_test, y_pred),\n",
    "        'recall': recall_score(y_test, y_pred),\n",
    "        'f1': f1_score(y_test, y_pred),\n",
    "        'roc_auc': roc_auc_score(y_test, y_pred_proba)\n",
    "    }\n",
    "\n",
    "    # Print results\n",
    "    print(\"----------------------------------------\")\n",
    "    print(f\"Accuracy: {metrics['accuracy']:.4f}\")\n",
    "    print(f\"Precision: {metrics['precision']:.4f}\")\n",
    "    print(f\"Recall: {metrics['recall']:.4f}\")\n",
    "    print(f\"F1 Score: {metrics['f1']:.4f}\")\n",
    "    print(f\"ROC AUC Score: {metrics['roc_auc']:.4f}\")\n",
    "    print(\"\\nClassification Report:\")\n",
    "    print(classification_report(y_test, y_pred))\n",
    "\n",
    "    return rf, metrics\n",
    "\n",
    "# Store metrics for Random Forest models\n",
    "rf_metrics_dict = {}\n",
    "\n",
    "# Train and evaluate Random Forest on dataset 1\n",
    "print(\"Training Random Forest on Count-Based Features...\")\n",
    "rf_model1, rf_metrics_dict['dataset1'] = train_random_forest(X_resampled_count,X_test_count,y_resampled_count, y_test)\n",
    "\n",
    "print(\"Training Random Forest on position...\")\n",
    "lr_model1, rf_metrics_dict['dataset2'] = train_logistic_regression(X_resampled_position,X_test_position,y_resampled_count, y_test)\n",
    "\n",
    "print(\"Training Random Forest on group...\")\n",
    "lr_model1, rf_metrics_dict['dataset3'] = train_logistic_regression(X_resampled_group,X_test_group,y_resampled_count, y_test)"
   ]
  },
  {
   "cell_type": "code",
   "execution_count": null,
   "metadata": {},
   "outputs": [],
   "source": [
    "\n",
    "def train_xgboost(X_train, X_test, y_train, y_test):\n",
    "    \"\"\"\n",
    "    Train and evaluate an XGBoost model\n",
    "    Parameters:\n",
    "        X_train, X_test: Training and test features\n",
    "        y_train, y_test: Training and test labels\n",
    "    \n",
    "    Returns:\n",
    "        xgb: Trained XGBoost model\n",
    "        metrics: Dictionary containing evaluation metrics\n",
    "    \"\"\"\n",
    "    # Initialize and train the model\n",
    "    xgb = XGBClassifier(random_state=42, use_label_encoder=False, eval_metric='logloss')\n",
    "    xgb.fit(X_train, y_train)\n",
    "\n",
    "    # Make predictions\n",
    "    y_pred = xgb.predict(X_test)\n",
    "    y_pred_proba = xgb.predict_proba(X_test)[:,1]\n",
    "\n",
    "    # Calculate metrics\n",
    "    metrics = {\n",
    "        'accuracy': accuracy_score(y_test, y_pred),\n",
    "        'precision': precision_score(y_test, y_pred),\n",
    "        'recall': recall_score(y_test, y_pred),\n",
    "        'f1': f1_score(y_test, y_pred),\n",
    "        'roc_auc': roc_auc_score(y_test, y_pred_proba)\n",
    "    }\n",
    "\n",
    "    # Print results\n",
    "    print(\"----------------------------------------\")\n",
    "    print(f\"Accuracy: {metrics['accuracy']:.4f}\")\n",
    "    print(f\"Precision: {metrics['precision']:.4f}\")\n",
    "    print(f\"Recall: {metrics['recall']:.4f}\")\n",
    "    print(f\"F1 Score: {metrics['f1']:.4f}\")\n",
    "    print(f\"ROC AUC Score: {metrics['roc_auc']:.4f}\")\n",
    "    print(\"\\nClassification Report:\")\n",
    "    print(classification_report(y_test, y_pred))\n",
    "\n",
    "    return xgb, metrics\n",
    "\n",
    "# Store metrics for XGBoost models\n",
    "xgb_metrics_dict = {}\n",
    "\n",
    "# Train and evaluate XGBoost on dataset 1\n",
    "print(\"Training XGBoost on Count-Based Features...\")\n",
    "xgb_model1, xgb_metrics_dict['dataset1'] = train_xgboost(X_resampled_count,X_test_count,y_resampled_count, y_test)\n",
    "\n",
    "\n",
    "print(\"Training XGBoost on position...\")\n",
    "lr_model1, xgb_metrics_dict['dataset2'] = train_logistic_regression(X_resampled_position,X_test_position,y_resampled_count, y_test)\n",
    "\n",
    "print(\"Training XGBoost on group...\")\n",
    "lr_model1, xgb_metrics_dict['dataset3'] = train_logistic_regression(X_resampled_group,X_test_group,y_resampled_count, y_test)\n"
   ]
  },
  {
   "cell_type": "code",
   "execution_count": null,
   "metadata": {},
   "outputs": [],
   "source": [
    "\n",
    "def train_catboost(X_train, X_test, y_train, y_test):\n",
    "    \"\"\"\n",
    "    Train and evaluate a CatBoost model\n",
    "    Parameters:\n",
    "        X_train, X_test: Training and test features\n",
    "        y_train, y_test: Training and test labels\n",
    "    \n",
    "    Returns:\n",
    "        cat: Trained CatBoost model\n",
    "        metrics: Dictionary containing evaluation metrics\n",
    "    \"\"\"\n",
    "    # Initialize and train the model\n",
    "    cat = CatBoostClassifier(random_state=42, verbose=0)\n",
    "    cat.fit(X_train, y_train)\n",
    "\n",
    "    # Make predictions\n",
    "    y_pred = cat.predict(X_test)\n",
    "    y_pred_proba = cat.predict_proba(X_test)[:,1]\n",
    "\n",
    "    # Calculate metrics\n",
    "    metrics = {\n",
    "        'accuracy': accuracy_score(y_test, y_pred),\n",
    "        'precision': precision_score(y_test, y_pred),\n",
    "        'recall': recall_score(y_test, y_pred),\n",
    "        'f1': f1_score(y_test, y_pred),\n",
    "        'roc_auc': roc_auc_score(y_test, y_pred_proba)\n",
    "    }\n",
    "\n",
    "    # Print results\n",
    "    print(\"----------------------------------------\")\n",
    "    print(f\"Accuracy: {metrics['accuracy']:.4f}\")\n",
    "    print(f\"Precision: {metrics['precision']:.4f}\")\n",
    "    print(f\"Recall: {metrics['recall']:.4f}\")\n",
    "    print(f\"F1 Score: {metrics['f1']:.4f}\")\n",
    "    print(f\"ROC AUC Score: {metrics['roc_auc']:.4f}\")\n",
    "    print(\"\\nClassification Report:\")\n",
    "    print(classification_report(y_test, y_pred))\n",
    "\n",
    "    return cat, metrics\n",
    "\n",
    "# Store metrics for CatBoost models\n",
    "cat_metrics_dict = {}\n",
    "\n",
    "# Train and evaluate CatBoost on dataset 1\n",
    "print(\"Training CatBoost on Count-Based Features...\")\n",
    "cat_model1, cat_metrics_dict['dataset1'] = train_catboost(X_resampled_count,X_test_count,y_resampled_count, y_test)\n",
    "\n",
    "print(\"Training CatBoost on position...\")\n",
    "lr_model1, cat_metrics_dict['dataset2'] = train_logistic_regression(X_resampled_position,X_test_position,y_resampled_count, y_test)\n",
    "\n",
    "print(\"Training CatBoost on group...\")\n",
    "lr_model1, cat_metrics_dict['dataset3'] = train_logistic_regression(X_resampled_group,X_test_group,y_resampled_count, y_test)\n"
   ]
  },
  {
   "cell_type": "code",
   "execution_count": null,
   "metadata": {},
   "outputs": [],
   "source": [
    "\n",
    "def train_knn(X_train, X_test, y_train, y_test):\n",
    "    \"\"\"\n",
    "    Train and evaluate a K-Nearest Neighbors model\n",
    "    Parameters:\n",
    "        X_train, X_test: Training and test features\n",
    "        y_train, y_test: Training and test labels\n",
    "    \n",
    "    Returns:\n",
    "        knn: Trained KNN model\n",
    "        metrics: Dictionary containing evaluation metrics\n",
    "    \"\"\"\n",
    "    # Initialize and train the model\n",
    "    knn = KNeighborsClassifier()\n",
    "    knn.fit(X_train, y_train)\n",
    "\n",
    "    # Make predictions\n",
    "    y_pred = knn.predict(X_test)\n",
    "    y_pred_proba = knn.predict_proba(X_test)[:,1]\n",
    "\n",
    "    # Calculate metrics\n",
    "    metrics = {\n",
    "        'accuracy': accuracy_score(y_test, y_pred),\n",
    "        'precision': precision_score(y_test, y_pred),\n",
    "        'recall': recall_score(y_test, y_pred),\n",
    "        'f1': f1_score(y_test, y_pred),\n",
    "        'roc_auc': roc_auc_score(y_test, y_pred_proba)\n",
    "    }\n",
    "\n",
    "    # Print results\n",
    "    print(\"----------------------------------------\")\n",
    "    print(f\"Accuracy: {metrics['accuracy']:.4f}\")\n",
    "    print(f\"Precision: {metrics['precision']:.4f}\")\n",
    "    print(f\"Recall: {metrics['recall']:.4f}\")\n",
    "    print(f\"F1 Score: {metrics['f1']:.4f}\")\n",
    "    print(f\"ROC AUC Score: {metrics['roc_auc']:.4f}\")\n",
    "    print(\"\\nClassification Report:\")\n",
    "    print(classification_report(y_test, y_pred))\n",
    "\n",
    "    return knn, metrics\n",
    "\n",
    "# Store metrics for KNN models\n",
    "knn_metrics_dict = {}\n",
    "\n",
    "# Train and evaluate KNN on dataset 1\n",
    "print(\"Training KNN on Count-Based Features...\")\n",
    "knn_model1, knn_metrics_dict['dataset1'] = train_knn(X_resampled_count,X_test_count,y_resampled_count, y_test)\n",
    "\n",
    "\n",
    "print(\"Training KNN on position...\")\n",
    "lr_model1, knn_metrics_dict['dataset2'] = train_logistic_regression(X_resampled_position,X_test_position,y_resampled_count, y_test)\n",
    "\n",
    "print(\"Training KNN on group...\")\n",
    "lr_model1, knn_metrics_dict['dataset3'] = train_logistic_regression(X_resampled_group,X_test_group,y_resampled_count, y_test)\n"
   ]
  },
  {
   "cell_type": "code",
   "execution_count": null,
   "metadata": {},
   "outputs": [],
   "source": []
  },
  {
   "cell_type": "code",
   "execution_count": null,
   "metadata": {},
   "outputs": [],
   "source": []
  },
  {
   "cell_type": "code",
   "execution_count": null,
   "metadata": {},
   "outputs": [],
   "source": []
  },
  {
   "cell_type": "code",
   "execution_count": null,
   "metadata": {},
   "outputs": [],
   "source": []
  },
  {
   "cell_type": "code",
   "execution_count": null,
   "metadata": {},
   "outputs": [],
   "source": [
    "\n",
    "\n",
    "# x,y = df\n",
    "\n",
    "\n",
    "\n",
    "# train_test_split\n",
    "\n",
    "# models:\n",
    "#     1. logistic\n",
    "#     2. random forest\n",
    "#     3. xgboost\n",
    "#     4. catboost\n",
    "#     5. lightgbm\n",
    "#     6. knn\n",
    "#     7. decision tree\n",
    "#     8. naive bayes\n",
    "#     9. svm\n",
    "#     10. ensemble (stacking, bagging, boosting)\n",
    "#     11. neural network (RNN,LSTM)\n",
    "# apply hyper parameter tuning to all models \n",
    "\n",
    "\n",
    "# evaluation metrics:\n",
    "#     1. accuracy\n",
    "#     2. precision\n",
    "#     3. recall\n",
    "#     4. f1 score\n",
    "#     5. roc auc score\n",
    "#     7. classification report\n",
    "\n",
    "\n",
    "# chose the best model based on the evaluation metrics and predict the test.csv\n",
    "\n"
   ]
  },
  {
   "cell_type": "code",
   "execution_count": null,
   "metadata": {},
   "outputs": [],
   "source": [
    "\n"
   ]
  },
  {
   "cell_type": "code",
   "execution_count": null,
   "metadata": {},
   "outputs": [],
   "source": []
  }
 ],
 "metadata": {
  "kernelspec": {
   "display_name": "Python 3",
   "language": "python",
   "name": "python3"
  },
  "language_info": {
   "codemirror_mode": {
    "name": "ipython",
    "version": 3
   },
   "file_extension": ".py",
   "mimetype": "text/x-python",
   "name": "python",
   "nbconvert_exporter": "python",
   "pygments_lexer": "ipython3",
   "version": "3.9.6"
  }
 },
 "nbformat": 4,
 "nbformat_minor": 2
}
