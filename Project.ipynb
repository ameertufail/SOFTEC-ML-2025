{
  "cells": [
    {
      "cell_type": "code",
      "execution_count": null,
      "metadata": {
        "id": "hb9Elpi59jhj"
      },
      "outputs": [],
      "source": [
        "import pandas as pd\n",
        "import matplotlib.pyplot as plt\n",
        "import seaborn as sns\n",
        "import numpy as np"
      ]
    },
    {
      "cell_type": "code",
      "execution_count": null,
      "metadata": {
        "id": "9k6SiW1S9jhq"
      },
      "outputs": [],
      "source": [
        "df = pd.read_csv('train.csv')"
      ]
    },
    {
      "cell_type": "code",
      "execution_count": null,
      "metadata": {
        "colab": {
          "base_uri": "https://localhost:8080/",
          "height": 245
        },
        "id": "87xnbymg9jhr",
        "outputId": "66be0ddc-d812-439c-934b-d20d39ae82ea"
      },
      "outputs": [
        {
          "output_type": "execute_result",
          "data": {
            "text/plain": [
              "      ID  STAY_DRG_CD         STAY_FROM_DT         STAY_THRU_DT  STUS_CD  \\\n",
              "0  17319          NaN  2017-12-13 00:00:00  2017-12-20 00:00:00       62   \n",
              "1  19722          NaN  2017-10-19 00:00:00  2017-10-23 00:00:00        1   \n",
              "2  89699          NaN  2018-08-06 00:00:00  2018-08-08 00:00:00        1   \n",
              "\n",
              "   TYPE_ADM  SRC_ADMS AD_DGNS DGNSCD01 PRCDRCD01  ... DGNSCD22 PRCDRCD22  \\\n",
              "0         1         2  M25551  S72001A   0SRR01Z  ...     Z803       NaN   \n",
              "1         1         1    R531     A419       NaN  ...      NaN       NaN   \n",
              "2         1         1    R002     J690       NaN  ...      NaN       NaN   \n",
              "\n",
              "  DGNSCD23 PRCDRCD23 DGNSCD24 PRCDRCD24 DGNSCD25 PRCDRCD25 stay_drg_cd  \\\n",
              "0   Z86711       NaN   Z86718       NaN   Z85828       NaN         469   \n",
              "1      NaN       NaN      NaN       NaN      NaN       NaN         871   \n",
              "2      NaN       NaN      NaN       NaN      NaN       NaN         177   \n",
              "\n",
              "  Readmitted_30  \n",
              "0             0  \n",
              "1             1  \n",
              "2             0  \n",
              "\n",
              "[3 rows x 60 columns]"
            ],
            "text/html": [
              "\n",
              "  <div id=\"df-90f3e735-d90a-4ae1-b565-279f812f1b78\" class=\"colab-df-container\">\n",
              "    <div>\n",
              "<style scoped>\n",
              "    .dataframe tbody tr th:only-of-type {\n",
              "        vertical-align: middle;\n",
              "    }\n",
              "\n",
              "    .dataframe tbody tr th {\n",
              "        vertical-align: top;\n",
              "    }\n",
              "\n",
              "    .dataframe thead th {\n",
              "        text-align: right;\n",
              "    }\n",
              "</style>\n",
              "<table border=\"1\" class=\"dataframe\">\n",
              "  <thead>\n",
              "    <tr style=\"text-align: right;\">\n",
              "      <th></th>\n",
              "      <th>ID</th>\n",
              "      <th>STAY_DRG_CD</th>\n",
              "      <th>STAY_FROM_DT</th>\n",
              "      <th>STAY_THRU_DT</th>\n",
              "      <th>STUS_CD</th>\n",
              "      <th>TYPE_ADM</th>\n",
              "      <th>SRC_ADMS</th>\n",
              "      <th>AD_DGNS</th>\n",
              "      <th>DGNSCD01</th>\n",
              "      <th>PRCDRCD01</th>\n",
              "      <th>...</th>\n",
              "      <th>DGNSCD22</th>\n",
              "      <th>PRCDRCD22</th>\n",
              "      <th>DGNSCD23</th>\n",
              "      <th>PRCDRCD23</th>\n",
              "      <th>DGNSCD24</th>\n",
              "      <th>PRCDRCD24</th>\n",
              "      <th>DGNSCD25</th>\n",
              "      <th>PRCDRCD25</th>\n",
              "      <th>stay_drg_cd</th>\n",
              "      <th>Readmitted_30</th>\n",
              "    </tr>\n",
              "  </thead>\n",
              "  <tbody>\n",
              "    <tr>\n",
              "      <th>0</th>\n",
              "      <td>17319</td>\n",
              "      <td>NaN</td>\n",
              "      <td>2017-12-13 00:00:00</td>\n",
              "      <td>2017-12-20 00:00:00</td>\n",
              "      <td>62</td>\n",
              "      <td>1</td>\n",
              "      <td>2</td>\n",
              "      <td>M25551</td>\n",
              "      <td>S72001A</td>\n",
              "      <td>0SRR01Z</td>\n",
              "      <td>...</td>\n",
              "      <td>Z803</td>\n",
              "      <td>NaN</td>\n",
              "      <td>Z86711</td>\n",
              "      <td>NaN</td>\n",
              "      <td>Z86718</td>\n",
              "      <td>NaN</td>\n",
              "      <td>Z85828</td>\n",
              "      <td>NaN</td>\n",
              "      <td>469</td>\n",
              "      <td>0</td>\n",
              "    </tr>\n",
              "    <tr>\n",
              "      <th>1</th>\n",
              "      <td>19722</td>\n",
              "      <td>NaN</td>\n",
              "      <td>2017-10-19 00:00:00</td>\n",
              "      <td>2017-10-23 00:00:00</td>\n",
              "      <td>1</td>\n",
              "      <td>1</td>\n",
              "      <td>1</td>\n",
              "      <td>R531</td>\n",
              "      <td>A419</td>\n",
              "      <td>NaN</td>\n",
              "      <td>...</td>\n",
              "      <td>NaN</td>\n",
              "      <td>NaN</td>\n",
              "      <td>NaN</td>\n",
              "      <td>NaN</td>\n",
              "      <td>NaN</td>\n",
              "      <td>NaN</td>\n",
              "      <td>NaN</td>\n",
              "      <td>NaN</td>\n",
              "      <td>871</td>\n",
              "      <td>1</td>\n",
              "    </tr>\n",
              "    <tr>\n",
              "      <th>2</th>\n",
              "      <td>89699</td>\n",
              "      <td>NaN</td>\n",
              "      <td>2018-08-06 00:00:00</td>\n",
              "      <td>2018-08-08 00:00:00</td>\n",
              "      <td>1</td>\n",
              "      <td>1</td>\n",
              "      <td>1</td>\n",
              "      <td>R002</td>\n",
              "      <td>J690</td>\n",
              "      <td>NaN</td>\n",
              "      <td>...</td>\n",
              "      <td>NaN</td>\n",
              "      <td>NaN</td>\n",
              "      <td>NaN</td>\n",
              "      <td>NaN</td>\n",
              "      <td>NaN</td>\n",
              "      <td>NaN</td>\n",
              "      <td>NaN</td>\n",
              "      <td>NaN</td>\n",
              "      <td>177</td>\n",
              "      <td>0</td>\n",
              "    </tr>\n",
              "  </tbody>\n",
              "</table>\n",
              "<p>3 rows × 60 columns</p>\n",
              "</div>\n",
              "    <div class=\"colab-df-buttons\">\n",
              "\n",
              "  <div class=\"colab-df-container\">\n",
              "    <button class=\"colab-df-convert\" onclick=\"convertToInteractive('df-90f3e735-d90a-4ae1-b565-279f812f1b78')\"\n",
              "            title=\"Convert this dataframe to an interactive table.\"\n",
              "            style=\"display:none;\">\n",
              "\n",
              "  <svg xmlns=\"http://www.w3.org/2000/svg\" height=\"24px\" viewBox=\"0 -960 960 960\">\n",
              "    <path d=\"M120-120v-720h720v720H120Zm60-500h600v-160H180v160Zm220 220h160v-160H400v160Zm0 220h160v-160H400v160ZM180-400h160v-160H180v160Zm440 0h160v-160H620v160ZM180-180h160v-160H180v160Zm440 0h160v-160H620v160Z\"/>\n",
              "  </svg>\n",
              "    </button>\n",
              "\n",
              "  <style>\n",
              "    .colab-df-container {\n",
              "      display:flex;\n",
              "      gap: 12px;\n",
              "    }\n",
              "\n",
              "    .colab-df-convert {\n",
              "      background-color: #E8F0FE;\n",
              "      border: none;\n",
              "      border-radius: 50%;\n",
              "      cursor: pointer;\n",
              "      display: none;\n",
              "      fill: #1967D2;\n",
              "      height: 32px;\n",
              "      padding: 0 0 0 0;\n",
              "      width: 32px;\n",
              "    }\n",
              "\n",
              "    .colab-df-convert:hover {\n",
              "      background-color: #E2EBFA;\n",
              "      box-shadow: 0px 1px 2px rgba(60, 64, 67, 0.3), 0px 1px 3px 1px rgba(60, 64, 67, 0.15);\n",
              "      fill: #174EA6;\n",
              "    }\n",
              "\n",
              "    .colab-df-buttons div {\n",
              "      margin-bottom: 4px;\n",
              "    }\n",
              "\n",
              "    [theme=dark] .colab-df-convert {\n",
              "      background-color: #3B4455;\n",
              "      fill: #D2E3FC;\n",
              "    }\n",
              "\n",
              "    [theme=dark] .colab-df-convert:hover {\n",
              "      background-color: #434B5C;\n",
              "      box-shadow: 0px 1px 3px 1px rgba(0, 0, 0, 0.15);\n",
              "      filter: drop-shadow(0px 1px 2px rgba(0, 0, 0, 0.3));\n",
              "      fill: #FFFFFF;\n",
              "    }\n",
              "  </style>\n",
              "\n",
              "    <script>\n",
              "      const buttonEl =\n",
              "        document.querySelector('#df-90f3e735-d90a-4ae1-b565-279f812f1b78 button.colab-df-convert');\n",
              "      buttonEl.style.display =\n",
              "        google.colab.kernel.accessAllowed ? 'block' : 'none';\n",
              "\n",
              "      async function convertToInteractive(key) {\n",
              "        const element = document.querySelector('#df-90f3e735-d90a-4ae1-b565-279f812f1b78');\n",
              "        const dataTable =\n",
              "          await google.colab.kernel.invokeFunction('convertToInteractive',\n",
              "                                                    [key], {});\n",
              "        if (!dataTable) return;\n",
              "\n",
              "        const docLinkHtml = 'Like what you see? Visit the ' +\n",
              "          '<a target=\"_blank\" href=https://colab.research.google.com/notebooks/data_table.ipynb>data table notebook</a>'\n",
              "          + ' to learn more about interactive tables.';\n",
              "        element.innerHTML = '';\n",
              "        dataTable['output_type'] = 'display_data';\n",
              "        await google.colab.output.renderOutput(dataTable, element);\n",
              "        const docLink = document.createElement('div');\n",
              "        docLink.innerHTML = docLinkHtml;\n",
              "        element.appendChild(docLink);\n",
              "      }\n",
              "    </script>\n",
              "  </div>\n",
              "\n",
              "\n",
              "<div id=\"df-deb62953-4354-42cd-b6ac-6811a8b05caa\">\n",
              "  <button class=\"colab-df-quickchart\" onclick=\"quickchart('df-deb62953-4354-42cd-b6ac-6811a8b05caa')\"\n",
              "            title=\"Suggest charts\"\n",
              "            style=\"display:none;\">\n",
              "\n",
              "<svg xmlns=\"http://www.w3.org/2000/svg\" height=\"24px\"viewBox=\"0 0 24 24\"\n",
              "     width=\"24px\">\n",
              "    <g>\n",
              "        <path d=\"M19 3H5c-1.1 0-2 .9-2 2v14c0 1.1.9 2 2 2h14c1.1 0 2-.9 2-2V5c0-1.1-.9-2-2-2zM9 17H7v-7h2v7zm4 0h-2V7h2v10zm4 0h-2v-4h2v4z\"/>\n",
              "    </g>\n",
              "</svg>\n",
              "  </button>\n",
              "\n",
              "<style>\n",
              "  .colab-df-quickchart {\n",
              "      --bg-color: #E8F0FE;\n",
              "      --fill-color: #1967D2;\n",
              "      --hover-bg-color: #E2EBFA;\n",
              "      --hover-fill-color: #174EA6;\n",
              "      --disabled-fill-color: #AAA;\n",
              "      --disabled-bg-color: #DDD;\n",
              "  }\n",
              "\n",
              "  [theme=dark] .colab-df-quickchart {\n",
              "      --bg-color: #3B4455;\n",
              "      --fill-color: #D2E3FC;\n",
              "      --hover-bg-color: #434B5C;\n",
              "      --hover-fill-color: #FFFFFF;\n",
              "      --disabled-bg-color: #3B4455;\n",
              "      --disabled-fill-color: #666;\n",
              "  }\n",
              "\n",
              "  .colab-df-quickchart {\n",
              "    background-color: var(--bg-color);\n",
              "    border: none;\n",
              "    border-radius: 50%;\n",
              "    cursor: pointer;\n",
              "    display: none;\n",
              "    fill: var(--fill-color);\n",
              "    height: 32px;\n",
              "    padding: 0;\n",
              "    width: 32px;\n",
              "  }\n",
              "\n",
              "  .colab-df-quickchart:hover {\n",
              "    background-color: var(--hover-bg-color);\n",
              "    box-shadow: 0 1px 2px rgba(60, 64, 67, 0.3), 0 1px 3px 1px rgba(60, 64, 67, 0.15);\n",
              "    fill: var(--button-hover-fill-color);\n",
              "  }\n",
              "\n",
              "  .colab-df-quickchart-complete:disabled,\n",
              "  .colab-df-quickchart-complete:disabled:hover {\n",
              "    background-color: var(--disabled-bg-color);\n",
              "    fill: var(--disabled-fill-color);\n",
              "    box-shadow: none;\n",
              "  }\n",
              "\n",
              "  .colab-df-spinner {\n",
              "    border: 2px solid var(--fill-color);\n",
              "    border-color: transparent;\n",
              "    border-bottom-color: var(--fill-color);\n",
              "    animation:\n",
              "      spin 1s steps(1) infinite;\n",
              "  }\n",
              "\n",
              "  @keyframes spin {\n",
              "    0% {\n",
              "      border-color: transparent;\n",
              "      border-bottom-color: var(--fill-color);\n",
              "      border-left-color: var(--fill-color);\n",
              "    }\n",
              "    20% {\n",
              "      border-color: transparent;\n",
              "      border-left-color: var(--fill-color);\n",
              "      border-top-color: var(--fill-color);\n",
              "    }\n",
              "    30% {\n",
              "      border-color: transparent;\n",
              "      border-left-color: var(--fill-color);\n",
              "      border-top-color: var(--fill-color);\n",
              "      border-right-color: var(--fill-color);\n",
              "    }\n",
              "    40% {\n",
              "      border-color: transparent;\n",
              "      border-right-color: var(--fill-color);\n",
              "      border-top-color: var(--fill-color);\n",
              "    }\n",
              "    60% {\n",
              "      border-color: transparent;\n",
              "      border-right-color: var(--fill-color);\n",
              "    }\n",
              "    80% {\n",
              "      border-color: transparent;\n",
              "      border-right-color: var(--fill-color);\n",
              "      border-bottom-color: var(--fill-color);\n",
              "    }\n",
              "    90% {\n",
              "      border-color: transparent;\n",
              "      border-bottom-color: var(--fill-color);\n",
              "    }\n",
              "  }\n",
              "</style>\n",
              "\n",
              "  <script>\n",
              "    async function quickchart(key) {\n",
              "      const quickchartButtonEl =\n",
              "        document.querySelector('#' + key + ' button');\n",
              "      quickchartButtonEl.disabled = true;  // To prevent multiple clicks.\n",
              "      quickchartButtonEl.classList.add('colab-df-spinner');\n",
              "      try {\n",
              "        const charts = await google.colab.kernel.invokeFunction(\n",
              "            'suggestCharts', [key], {});\n",
              "      } catch (error) {\n",
              "        console.error('Error during call to suggestCharts:', error);\n",
              "      }\n",
              "      quickchartButtonEl.classList.remove('colab-df-spinner');\n",
              "      quickchartButtonEl.classList.add('colab-df-quickchart-complete');\n",
              "    }\n",
              "    (() => {\n",
              "      let quickchartButtonEl =\n",
              "        document.querySelector('#df-deb62953-4354-42cd-b6ac-6811a8b05caa button');\n",
              "      quickchartButtonEl.style.display =\n",
              "        google.colab.kernel.accessAllowed ? 'block' : 'none';\n",
              "    })();\n",
              "  </script>\n",
              "</div>\n",
              "\n",
              "    </div>\n",
              "  </div>\n"
            ],
            "application/vnd.google.colaboratory.intrinsic+json": {
              "type": "dataframe",
              "variable_name": "df"
            }
          },
          "metadata": {},
          "execution_count": 108
        }
      ],
      "source": [
        "df.head(3)"
      ]
    },
    {
      "cell_type": "code",
      "execution_count": null,
      "metadata": {
        "colab": {
          "base_uri": "https://localhost:8080/"
        },
        "id": "GWXHjAE79jht",
        "outputId": "6678dfa6-da89-4636-831d-e61067aa04dc"
      },
      "outputs": [
        {
          "output_type": "execute_result",
          "data": {
            "text/plain": [
              "(130296, 60)"
            ]
          },
          "metadata": {},
          "execution_count": 109
        }
      ],
      "source": [
        "df.shape"
      ]
    },
    {
      "cell_type": "code",
      "execution_count": null,
      "metadata": {
        "colab": {
          "base_uri": "https://localhost:8080/"
        },
        "id": "tUFpPmQj9jhu",
        "outputId": "aadad64c-169d-48dd-dc8b-9669f4a1995d"
      },
      "outputs": [
        {
          "output_type": "execute_result",
          "data": {
            "text/plain": [
              "np.int64(0)"
            ]
          },
          "metadata": {},
          "execution_count": 110
        }
      ],
      "source": [
        "df.duplicated().sum()"
      ]
    },
    {
      "cell_type": "code",
      "execution_count": null,
      "metadata": {
        "id": "_LfttbwK9jhv"
      },
      "outputs": [],
      "source": [
        "# engineering of diagnostic and procedure features\n",
        "# apply all three methods"
      ]
    },
    {
      "cell_type": "markdown",
      "metadata": {
        "id": "IBkCDASk9jhx"
      },
      "source": [
        "# Pre-processing"
      ]
    },
    {
      "cell_type": "markdown",
      "metadata": {
        "id": "M2aCUHN59jh0"
      },
      "source": [
        "#### Checking Nulls"
      ]
    },
    {
      "cell_type": "markdown",
      "metadata": {
        "id": "AeN6S1i49jh1"
      },
      "source": [
        "**Percentage of nulls**"
      ]
    },
    {
      "cell_type": "code",
      "execution_count": null,
      "metadata": {
        "id": "fh2KVoNi9jh1"
      },
      "outputs": [],
      "source": [
        "# while exploring the data, we found that some columns contain '-' token as null value, so replace it with null\n",
        "\n",
        "df = df.replace('-', pd.NA)"
      ]
    },
    {
      "cell_type": "code",
      "execution_count": null,
      "metadata": {
        "colab": {
          "base_uri": "https://localhost:8080/"
        },
        "id": "FgP2cB-a9jh2",
        "outputId": "5792a5f6-eb85-4278-a6a3-13888b644df8"
      },
      "outputs": [
        {
          "output_type": "stream",
          "name": "stdout",
          "text": [
            "PRCDRCD25 has 99.98234788481611% null values\n",
            "PRCDRCD24 has 99.9739055688586% null values\n",
            "PRCDRCD23 has 99.96623073616995% null values\n",
            "PRCDRCD22 has 99.95548597040585% null values\n",
            "PRCDRCD21 has 99.94474120464174% null values\n",
            "PRCDRCD20 has 99.93169398907104% null values\n",
            "PRCDRCD19 has 99.91557684042488% null values\n",
            "PRCDRCD18 has 99.89178485909007% null values\n",
            "PRCDRCD17 has 99.86876036102413% null values\n",
            "PRCDRCD16 has 99.83345613065634% null values\n",
            "PRCDRCD15 has 99.78280223491129% null values\n",
            "PRCDRCD14 has 99.6953091422607% null values\n",
            "PRCDRCD13 has 99.59630380057715% null values\n",
            "PRCDRCD12 has 99.46352919506354% null values\n",
            "PRCDRCD11 has 99.2839381101492% null values\n",
            "PRCDRCD10 has 99.01915638239086% null values\n",
            "PRCDRCD09 has 98.71062810830725% null values\n",
            "PRCDRCD08 has 98.24399828083747% null values\n",
            "PRCDRCD07 has 97.49186467735004% null values\n",
            "STAY_DRG_CD has 97.08509854485172% null values\n",
            "PRCDRCD06 has 95.84331061582857% null values\n",
            "PRCDRCD05 has 93.59458463805488% null values\n",
            "PRCDRCD04 has 89.65816295204765% null values\n",
            "DGNSCD25 has 87.80008595812612% null values\n",
            "PRCDRCD03 has 83.48836495364401% null values\n",
            "DGNSCD24 has 78.49742125621661% null values\n",
            "DGNSCD23 has 75.27015411064039% null values\n",
            "PRCDRCD02 has 73.79505126788236% null values\n",
            "DGNSCD22 has 71.68984466138639% null values\n",
            "DGNSCD21 has 67.79870448824215% null values\n",
            "DGNSCD20 has 63.86074783569718% null values\n",
            "DGNSCD19 has 59.564376496592374% null values\n",
            "PRCDRCD01 has 56.05160557499846% null values\n",
            "DGNSCD18 has 50.151194203966355% null values\n",
            "DGNSCD17 has 44.81411555228096% null values\n",
            "DGNSCD16 has 39.61825382206668% null values\n",
            "DGNSCD15 has 34.437741757229695% null values\n",
            "DGNSCD14 has 29.60796954626389% null values\n",
            "DGNSCD13 has 24.882575059863697% null values\n",
            "DGNSCD12 has 20.596948486522994% null values\n",
            "DGNSCD11 has 16.665899183397805% null values\n",
            "DGNSCD10 has 13.272855651746793% null values\n",
            "DGNSCD09 has 10.420120341376558% null values\n",
            "DGNSCD08 has 8.173696813409467% null values\n",
            "DGNSCD07 has 6.486001105175908% null values\n",
            "stay_drg_cd has 6.264965923742863% null values\n",
            "DGNSCD06 has 5.244980659421625% null values\n",
            "DGNSCD05 has 4.429913427887272% null values\n",
            "DGNSCD04 has 3.936421686007245% null values\n",
            "DGNSCD03 has 3.625590962117026% null values\n",
            "DGNSCD02 has 3.4598145760422425% null values\n",
            "DGNSCD01 has 3.3500644685945846% null values\n",
            "AD_DGNS has 3.3500644685945846% null values\n"
          ]
        }
      ],
      "source": [
        "nulls = df.isna().sum()\n",
        "\n",
        "Trows = df.shape[0] # number of rows in the dataset\n",
        "\n",
        "\n",
        "# sort the nulls in descending order\n",
        "nulls = nulls[nulls > 0].sort_values(ascending=False)\n",
        "for i in nulls.index:\n",
        "    if nulls[i] > 0:\n",
        "        print(f\"{i} has {(nulls[i]/Trows)*100}% null values\")\n",
        "\n"
      ]
    },
    {
      "cell_type": "code",
      "execution_count": null,
      "metadata": {
        "colab": {
          "base_uri": "https://localhost:8080/"
        },
        "id": "2VibqQDY9jh3",
        "outputId": "6747a1fe-ecae-4a4a-e54b-8a6151aef8a3"
      },
      "outputs": [
        {
          "output_type": "stream",
          "name": "stdout",
          "text": [
            "Columns with more than 50% null values: 34\n",
            "Columns with more than 60% null values: 31\n",
            "Columns with more than 70% null values: 29\n",
            "Columns with more than 80% null values: 25\n"
          ]
        }
      ],
      "source": [
        "# count coulmns greater than 50% null values\n",
        "nulls_50 = nulls[nulls > (Trows*0.5)]\n",
        "print(f\"Columns with more than 50% null values: {len(nulls_50)}\")\n",
        "# count coulmns greater than 50% null values\n",
        "nulls_60 = nulls[nulls > (Trows*0.6)]\n",
        "print(f\"Columns with more than 60% null values: {len(nulls_60)}\")\n",
        "# count coulmns greater than 70% null values\n",
        "nulls_70 = nulls[nulls > (Trows*0.7)]\n",
        "print(f\"Columns with more than 70% null values: {len(nulls_70)}\")\n",
        "# count coulmns greater than 80% null values\n",
        "nulls_80 = nulls[nulls > (Trows*0.8)]\n",
        "print(f\"Columns with more than 80% null values: {len(nulls_80)}\")"
      ]
    },
    {
      "cell_type": "code",
      "execution_count": null,
      "metadata": {
        "id": "8qSF8aof9jh4"
      },
      "outputs": [],
      "source": [
        "# Findings:\n",
        "#     most of the nulls are in diagnostic and procedure features\n",
        "\n"
      ]
    },
    {
      "cell_type": "markdown",
      "metadata": {
        "id": "sqi85uPg9jh4"
      },
      "source": [
        "#### STAY_DRG_CD\n",
        "This column appeared twice in our dataset, rows which are null in first occurenece are filled in second and vice versa so concatenating them\n"
      ]
    },
    {
      "cell_type": "code",
      "execution_count": null,
      "metadata": {
        "colab": {
          "base_uri": "https://localhost:8080/"
        },
        "id": "SHQZnz1Y9jh4",
        "outputId": "5f713f6a-1a51-48a4-c804-aec5d8ad0ef2"
      },
      "outputs": [
        {
          "output_type": "stream",
          "name": "stdout",
          "text": [
            "STAY_DRG_CD null count: 126498\n",
            "stay_drg_cd null count: 8163\n"
          ]
        }
      ],
      "source": [
        "print(\"STAY_DRG_CD null count:\", df['STAY_DRG_CD'].isna().sum())\n",
        "print(\"stay_drg_cd null count:\", df['stay_drg_cd'].isna().sum())"
      ]
    },
    {
      "cell_type": "code",
      "execution_count": null,
      "metadata": {
        "id": "5jjPkSAw9jh5"
      },
      "outputs": [],
      "source": [
        "# Fill the null values in STAY_DRG_CD with values from stay_drg_cd\n",
        "df['STAY_DRG_CD'] = df['STAY_DRG_CD'].fillna(df['stay_drg_cd'])"
      ]
    },
    {
      "cell_type": "code",
      "execution_count": null,
      "metadata": {
        "colab": {
          "base_uri": "https://localhost:8080/"
        },
        "id": "YaSRHzUy9jh5",
        "outputId": "843de36e-e0cb-43ac-c098-9296c3fc343f"
      },
      "outputs": [
        {
          "output_type": "stream",
          "name": "stdout",
          "text": [
            "Nulls in STAY_DRG_CD are: 4365 which is 3.3500644685945846% of total data\n"
          ]
        }
      ],
      "source": [
        "nulls_in_SDC = df['STAY_DRG_CD'].isna().sum()\n",
        "\n",
        "rows = df.shape[0]\n",
        "\n",
        "print(f'Nulls in STAY_DRG_CD are: {nulls_in_SDC} which is {(nulls_in_SDC/rows)*100}% of total data',)"
      ]
    },
    {
      "cell_type": "code",
      "execution_count": null,
      "metadata": {
        "id": "hwCNdNPt9jh6"
      },
      "outputs": [],
      "source": [
        "# fill na with mode\n",
        "\n",
        "df['STAY_DRG_CD'] = df['STAY_DRG_CD'].fillna(df['STAY_DRG_CD'].mode()[0])"
      ]
    },
    {
      "cell_type": "code",
      "execution_count": null,
      "metadata": {
        "id": "oE_brDoF9jh6"
      },
      "outputs": [],
      "source": [
        "df.drop(columns=['stay_drg_cd'], inplace=True)"
      ]
    },
    {
      "cell_type": "code",
      "execution_count": null,
      "metadata": {
        "id": "pc6N6q8G9jh6"
      },
      "outputs": [],
      "source": [
        "df['STAY_DRG_CD'] = df['STAY_DRG_CD'].astype('int')\n"
      ]
    },
    {
      "cell_type": "markdown",
      "metadata": {
        "id": "sLDUWYmC9jh7"
      },
      "source": [
        "#### ID"
      ]
    },
    {
      "cell_type": "code",
      "execution_count": null,
      "metadata": {
        "colab": {
          "base_uri": "https://localhost:8080/"
        },
        "id": "I30_oQgE9jh7",
        "outputId": "06c505ee-d415-4c5c-8820-828624569e50"
      },
      "outputs": [
        {
          "output_type": "stream",
          "name": "stdout",
          "text": [
            "ROC AUC score using only ID: 0.5061388586764188\n"
          ]
        }
      ],
      "source": [
        "# let's verify if there is any correlation between the readmission and ID by training a simple model\n",
        "\n",
        "from sklearn.linear_model import LogisticRegression\n",
        "from sklearn.metrics import roc_auc_score\n",
        "\n",
        "X = df[['ID']]\n",
        "y = df['Readmitted_30']\n",
        "\n",
        "model = LogisticRegression()\n",
        "model.fit(X, y)\n",
        "\n",
        "pred_probs = model.predict_proba(X)[:, 1]\n",
        "auc = roc_auc_score(y, pred_probs)\n",
        "print(f\"ROC AUC score using only ID: {auc}\")\n"
      ]
    },
    {
      "cell_type": "code",
      "execution_count": null,
      "metadata": {
        "id": "y-vrIBGV9jh7"
      },
      "outputs": [],
      "source": [
        "# An ROC AUC score of ~0.506 means that the ID feature has no real predictive power for the target variable — it’s basically performing at random chance level (0.5)\n",
        "\n",
        "\n",
        "# so we can drop it."
      ]
    },
    {
      "cell_type": "code",
      "execution_count": null,
      "metadata": {
        "id": "NQRtiVWc9jh8"
      },
      "outputs": [],
      "source": [
        "df.drop(columns=['ID'], inplace=True)"
      ]
    },
    {
      "cell_type": "markdown",
      "metadata": {
        "id": "5Z0rtoqh9jh8"
      },
      "source": [
        "#### Date"
      ]
    },
    {
      "cell_type": "code",
      "execution_count": null,
      "metadata": {
        "id": "-18S2AKI9jh9"
      },
      "outputs": [],
      "source": [
        "# we have admitted date and discharge date, we can calculate the length of stay for each patient.\n",
        "\n",
        "df['STAY_FROM_DT'] = pd.to_datetime(df['STAY_FROM_DT'])\n",
        "df['STAY_THRU_DT'] = pd.to_datetime(df['STAY_THRU_DT'])"
      ]
    },
    {
      "cell_type": "code",
      "execution_count": null,
      "metadata": {
        "id": "PJX06pUh9jh9"
      },
      "outputs": [],
      "source": [
        "df['LENGTH_OF_STAY'] = (df['STAY_THRU_DT'] - df['STAY_FROM_DT']).dt.days"
      ]
    },
    {
      "cell_type": "code",
      "execution_count": null,
      "metadata": {
        "id": "rpoXWbRO9jh9"
      },
      "outputs": [],
      "source": [
        "\n",
        "df['admit_dayofweek'] = df['STAY_FROM_DT'].dt.dayofweek\n",
        "\n",
        "df['discharge_month'] = df['STAY_THRU_DT'].dt.month\n",
        "\n",
        "# Why it matters:\n",
        "#   Discharges on Fridays/Saturdays might mean less follow-up planning → more readmissions.\n",
        "#   Certain months (e.g., flu season) might show patterns in readmissions.\n"
      ]
    },
    {
      "cell_type": "code",
      "execution_count": null,
      "metadata": {
        "colab": {
          "base_uri": "https://localhost:8080/"
        },
        "id": "VmPf6Hbj9jh-",
        "outputId": "5d99d1fa-999a-4aa7-e1cf-7095382c7409"
      },
      "outputs": [
        {
          "output_type": "execute_result",
          "data": {
            "text/plain": [
              "np.int64(0)"
            ]
          },
          "metadata": {},
          "execution_count": 128
        }
      ],
      "source": [
        "df['LENGTH_OF_STAY'].isna().sum()"
      ]
    },
    {
      "cell_type": "code",
      "execution_count": null,
      "metadata": {
        "id": "uXDHHDWs9jh-"
      },
      "outputs": [],
      "source": [
        "df.drop(columns=['STAY_FROM_DT','STAY_THRU_DT'], inplace=True)"
      ]
    },
    {
      "cell_type": "markdown",
      "metadata": {
        "id": "IEpzd3FP9jh-"
      },
      "source": [
        "#### STUS_CD - Patient Discharge Status code"
      ]
    },
    {
      "cell_type": "code",
      "execution_count": null,
      "metadata": {
        "id": "FQmJZxAI9jh_"
      },
      "outputs": [],
      "source": [
        "# Extremely useful. Discharge to a skilled nursing facility, hospice, or readmission facility often signals poor outcomes → high chance of readmission."
      ]
    },
    {
      "cell_type": "code",
      "execution_count": null,
      "metadata": {
        "colab": {
          "base_uri": "https://localhost:8080/",
          "height": 272
        },
        "id": "KePHO3As9jh_",
        "outputId": "ab2e89a7-2f28-4300-df7c-6bbca6fcdbf2"
      },
      "outputs": [
        {
          "output_type": "execute_result",
          "data": {
            "text/plain": [
              "STUS_CD\n",
              "1     56886\n",
              "3     40498\n",
              "6     22420\n",
              "62     6131\n",
              "63     4361\n",
              "Name: count, dtype: int64"
            ],
            "text/html": [
              "<div>\n",
              "<style scoped>\n",
              "    .dataframe tbody tr th:only-of-type {\n",
              "        vertical-align: middle;\n",
              "    }\n",
              "\n",
              "    .dataframe tbody tr th {\n",
              "        vertical-align: top;\n",
              "    }\n",
              "\n",
              "    .dataframe thead th {\n",
              "        text-align: right;\n",
              "    }\n",
              "</style>\n",
              "<table border=\"1\" class=\"dataframe\">\n",
              "  <thead>\n",
              "    <tr style=\"text-align: right;\">\n",
              "      <th></th>\n",
              "      <th>count</th>\n",
              "    </tr>\n",
              "    <tr>\n",
              "      <th>STUS_CD</th>\n",
              "      <th></th>\n",
              "    </tr>\n",
              "  </thead>\n",
              "  <tbody>\n",
              "    <tr>\n",
              "      <th>1</th>\n",
              "      <td>56886</td>\n",
              "    </tr>\n",
              "    <tr>\n",
              "      <th>3</th>\n",
              "      <td>40498</td>\n",
              "    </tr>\n",
              "    <tr>\n",
              "      <th>6</th>\n",
              "      <td>22420</td>\n",
              "    </tr>\n",
              "    <tr>\n",
              "      <th>62</th>\n",
              "      <td>6131</td>\n",
              "    </tr>\n",
              "    <tr>\n",
              "      <th>63</th>\n",
              "      <td>4361</td>\n",
              "    </tr>\n",
              "  </tbody>\n",
              "</table>\n",
              "</div><br><label><b>dtype:</b> int64</label>"
            ]
          },
          "metadata": {},
          "execution_count": 131
        }
      ],
      "source": [
        "df['STUS_CD'].value_counts()"
      ]
    },
    {
      "cell_type": "code",
      "execution_count": null,
      "metadata": {
        "colab": {
          "base_uri": "https://localhost:8080/",
          "height": 272
        },
        "id": "Gl8leMAw9jiA",
        "outputId": "217a62be-bc5e-45c9-db2e-1cb117050647"
      },
      "outputs": [
        {
          "output_type": "execute_result",
          "data": {
            "text/plain": [
              "STUS_CD\n",
              "1     0.185775\n",
              "3     0.229024\n",
              "6     0.231401\n",
              "62    0.183657\n",
              "63    0.124054\n",
              "Name: Readmitted_30, dtype: float64"
            ],
            "text/html": [
              "<div>\n",
              "<style scoped>\n",
              "    .dataframe tbody tr th:only-of-type {\n",
              "        vertical-align: middle;\n",
              "    }\n",
              "\n",
              "    .dataframe tbody tr th {\n",
              "        vertical-align: top;\n",
              "    }\n",
              "\n",
              "    .dataframe thead th {\n",
              "        text-align: right;\n",
              "    }\n",
              "</style>\n",
              "<table border=\"1\" class=\"dataframe\">\n",
              "  <thead>\n",
              "    <tr style=\"text-align: right;\">\n",
              "      <th></th>\n",
              "      <th>Readmitted_30</th>\n",
              "    </tr>\n",
              "    <tr>\n",
              "      <th>STUS_CD</th>\n",
              "      <th></th>\n",
              "    </tr>\n",
              "  </thead>\n",
              "  <tbody>\n",
              "    <tr>\n",
              "      <th>1</th>\n",
              "      <td>0.185775</td>\n",
              "    </tr>\n",
              "    <tr>\n",
              "      <th>3</th>\n",
              "      <td>0.229024</td>\n",
              "    </tr>\n",
              "    <tr>\n",
              "      <th>6</th>\n",
              "      <td>0.231401</td>\n",
              "    </tr>\n",
              "    <tr>\n",
              "      <th>62</th>\n",
              "      <td>0.183657</td>\n",
              "    </tr>\n",
              "    <tr>\n",
              "      <th>63</th>\n",
              "      <td>0.124054</td>\n",
              "    </tr>\n",
              "  </tbody>\n",
              "</table>\n",
              "</div><br><label><b>dtype:</b> float64</label>"
            ]
          },
          "metadata": {},
          "execution_count": 132
        }
      ],
      "source": [
        "df.groupby('STUS_CD')['Readmitted_30'].mean()\n",
        "# patient with code 3,6 have slightly more change to come back to hospital."
      ]
    },
    {
      "cell_type": "code",
      "execution_count": null,
      "metadata": {
        "id": "FudDXF1W9jiB"
      },
      "outputs": [],
      "source": [
        "# This code describes how and where the patient was discharged, for example:\n",
        "\n",
        "# 1 – Discharged to home/self-care\n",
        "# 3 – Discharged/transferred to SNF (Skilled Nursing Facility)\n",
        "# 6 – Discharged/transferred to home with home health services\n",
        "# 62 – Discharged/transferred to inpatient rehabilitation\n",
        "# 63 – Discharged/transferred to long-term hospital\n",
        "\n",
        "# These are standard CMS codes\n",
        "\n",
        "\n",
        "# STUS_CD is a categorical code, not a numeric measurement. so no need to normalize it, but we can encode it using label encoding. (ordinal encoding)\n"
      ]
    },
    {
      "cell_type": "code",
      "execution_count": null,
      "metadata": {
        "colab": {
          "base_uri": "https://localhost:8080/"
        },
        "id": "IZSfwtP39jiB",
        "outputId": "bb769c29-fe53-4e78-cbe0-0ccfe70c6b6c"
      },
      "outputs": [
        {
          "output_type": "execute_result",
          "data": {
            "text/plain": [
              "np.int64(0)"
            ]
          },
          "metadata": {},
          "execution_count": 134
        }
      ],
      "source": [
        "df['STUS_CD'].isna().sum()"
      ]
    },
    {
      "cell_type": "code",
      "execution_count": null,
      "metadata": {
        "id": "jjTbWsRs9jiC"
      },
      "outputs": [],
      "source": [
        "\n",
        "from sklearn.preprocessing import LabelEncoder\n",
        "le = LabelEncoder()\n",
        "df['STUS_CD_encoded'] = le.fit_transform(df['STUS_CD'])\n",
        "df.drop(columns=['STUS_CD'], inplace=True)"
      ]
    },
    {
      "cell_type": "markdown",
      "metadata": {
        "id": "Rub0_EGZ9jiD"
      },
      "source": [
        "#### TYPE_ADM - Admission Type code"
      ]
    },
    {
      "cell_type": "code",
      "execution_count": null,
      "metadata": {
        "id": "FLL2PD4Q9jiD"
      },
      "outputs": [],
      "source": [
        "# How the patient was admitted — e.g., elective, emergency, urgent, newborn, etc.\n",
        "\n",
        "# 1 – Elective admission\n",
        "# 2 – Emergency admission\n",
        "# 3 – Urgent admission\n",
        "# 5 – Newborn admission\n",
        "# 9 – Other admission type\n",
        "\n",
        "# as this is again a categorical column so no need to normalize, we can encode it using label encoding."
      ]
    },
    {
      "cell_type": "code",
      "execution_count": null,
      "metadata": {
        "id": "TyI0nWvT9jiM"
      },
      "outputs": [],
      "source": [
        "# Clinically, this feature is very important, as it often correlates with the urgency of the condition and thus the likelihood of readmission.\n",
        "\n",
        "# Emergency or urgent admissions generally carry higher readmission risks compared to planned, elective ones."
      ]
    },
    {
      "cell_type": "code",
      "execution_count": null,
      "metadata": {
        "colab": {
          "base_uri": "https://localhost:8080/",
          "height": 272
        },
        "id": "YX6xgpeJ9jiM",
        "outputId": "44170c75-3e81-4b2e-9407-5c42237ceb21"
      },
      "outputs": [
        {
          "output_type": "execute_result",
          "data": {
            "text/plain": [
              "TYPE_ADM\n",
              "1    108830\n",
              "3     11993\n",
              "2      9259\n",
              "5       145\n",
              "9        69\n",
              "Name: count, dtype: int64"
            ],
            "text/html": [
              "<div>\n",
              "<style scoped>\n",
              "    .dataframe tbody tr th:only-of-type {\n",
              "        vertical-align: middle;\n",
              "    }\n",
              "\n",
              "    .dataframe tbody tr th {\n",
              "        vertical-align: top;\n",
              "    }\n",
              "\n",
              "    .dataframe thead th {\n",
              "        text-align: right;\n",
              "    }\n",
              "</style>\n",
              "<table border=\"1\" class=\"dataframe\">\n",
              "  <thead>\n",
              "    <tr style=\"text-align: right;\">\n",
              "      <th></th>\n",
              "      <th>count</th>\n",
              "    </tr>\n",
              "    <tr>\n",
              "      <th>TYPE_ADM</th>\n",
              "      <th></th>\n",
              "    </tr>\n",
              "  </thead>\n",
              "  <tbody>\n",
              "    <tr>\n",
              "      <th>1</th>\n",
              "      <td>108830</td>\n",
              "    </tr>\n",
              "    <tr>\n",
              "      <th>3</th>\n",
              "      <td>11993</td>\n",
              "    </tr>\n",
              "    <tr>\n",
              "      <th>2</th>\n",
              "      <td>9259</td>\n",
              "    </tr>\n",
              "    <tr>\n",
              "      <th>5</th>\n",
              "      <td>145</td>\n",
              "    </tr>\n",
              "    <tr>\n",
              "      <th>9</th>\n",
              "      <td>69</td>\n",
              "    </tr>\n",
              "  </tbody>\n",
              "</table>\n",
              "</div><br><label><b>dtype:</b> int64</label>"
            ]
          },
          "metadata": {},
          "execution_count": 138
        }
      ],
      "source": [
        "df['TYPE_ADM'].value_counts()"
      ]
    },
    {
      "cell_type": "code",
      "execution_count": null,
      "metadata": {
        "colab": {
          "base_uri": "https://localhost:8080/"
        },
        "id": "iQk0coXa9jiM",
        "outputId": "3708f02c-0f93-4e4f-acdb-3f79757b38eb"
      },
      "outputs": [
        {
          "output_type": "execute_result",
          "data": {
            "text/plain": [
              "np.int64(0)"
            ]
          },
          "metadata": {},
          "execution_count": 139
        }
      ],
      "source": [
        "df['TYPE_ADM'].isna().sum()"
      ]
    },
    {
      "cell_type": "code",
      "execution_count": null,
      "metadata": {
        "id": "LMPgJ5iW9jiN"
      },
      "outputs": [],
      "source": [
        "from sklearn.preprocessing import LabelEncoder\n",
        "le = LabelEncoder()\n",
        "df['TYPE_ADM_encoded'] = le.fit_transform(df['TYPE_ADM'])\n",
        "\n",
        "df.drop(columns=['TYPE_ADM'], inplace=True)"
      ]
    },
    {
      "cell_type": "markdown",
      "metadata": {
        "id": "Y1xcgtOr9jiN"
      },
      "source": [
        "#### SRC_ADMS - admission source code"
      ]
    },
    {
      "cell_type": "code",
      "execution_count": null,
      "metadata": {
        "colab": {
          "base_uri": "https://localhost:8080/",
          "height": 209
        },
        "id": "86jGb8WY9jiO",
        "outputId": "5e778919-db5e-4306-c7ae-2c9053aba28b"
      },
      "outputs": [
        {
          "output_type": "execute_result",
          "data": {
            "text/plain": [
              "SRC_ADMS\n",
              "1    106269\n",
              "5     12946\n",
              "2     11081\n",
              "Name: count, dtype: int64"
            ],
            "text/html": [
              "<div>\n",
              "<style scoped>\n",
              "    .dataframe tbody tr th:only-of-type {\n",
              "        vertical-align: middle;\n",
              "    }\n",
              "\n",
              "    .dataframe tbody tr th {\n",
              "        vertical-align: top;\n",
              "    }\n",
              "\n",
              "    .dataframe thead th {\n",
              "        text-align: right;\n",
              "    }\n",
              "</style>\n",
              "<table border=\"1\" class=\"dataframe\">\n",
              "  <thead>\n",
              "    <tr style=\"text-align: right;\">\n",
              "      <th></th>\n",
              "      <th>count</th>\n",
              "    </tr>\n",
              "    <tr>\n",
              "      <th>SRC_ADMS</th>\n",
              "      <th></th>\n",
              "    </tr>\n",
              "  </thead>\n",
              "  <tbody>\n",
              "    <tr>\n",
              "      <th>1</th>\n",
              "      <td>106269</td>\n",
              "    </tr>\n",
              "    <tr>\n",
              "      <th>5</th>\n",
              "      <td>12946</td>\n",
              "    </tr>\n",
              "    <tr>\n",
              "      <th>2</th>\n",
              "      <td>11081</td>\n",
              "    </tr>\n",
              "  </tbody>\n",
              "</table>\n",
              "</div><br><label><b>dtype:</b> int64</label>"
            ]
          },
          "metadata": {},
          "execution_count": 141
        }
      ],
      "source": [
        "df['SRC_ADMS'].value_counts()"
      ]
    },
    {
      "cell_type": "code",
      "execution_count": null,
      "metadata": {
        "id": "ZdomcXxr9jiO"
      },
      "outputs": [],
      "source": [
        "# Again a categorical column.\n",
        "\n",
        "# This feature indicates the source of the admission, such as:\n",
        "# The admission source indicates where the patient came from before being admitted to the hospital. Typical codes might represent:\n",
        "\n",
        "# 1 – Emergency room (ER)\n",
        "# 2 – Referral from another hospital or clinic\n",
        "# 5 – Other sources (e.g., physician's office, home, etc.)"
      ]
    },
    {
      "cell_type": "code",
      "execution_count": null,
      "metadata": {
        "colab": {
          "base_uri": "https://localhost:8080/"
        },
        "id": "fXVnsy7u9jiO",
        "outputId": "e58abe14-4f0c-465b-d7b0-00c065baf7d5"
      },
      "outputs": [
        {
          "output_type": "execute_result",
          "data": {
            "text/plain": [
              "np.int64(0)"
            ]
          },
          "metadata": {},
          "execution_count": 143
        }
      ],
      "source": [
        "df['SRC_ADMS'].isna().sum()"
      ]
    },
    {
      "cell_type": "code",
      "execution_count": null,
      "metadata": {
        "id": "qeL2DILx9jiO"
      },
      "outputs": [],
      "source": [
        "from sklearn.preprocessing import LabelEncoder\n",
        "le = LabelEncoder()\n",
        "\n",
        "df['SRC_ADMS_encoded'] = le.fit_transform(df['SRC_ADMS'])\n",
        "df.drop(columns=['SRC_ADMS'], inplace=True)"
      ]
    },
    {
      "cell_type": "markdown",
      "metadata": {
        "id": "O3EPfynO9jiP"
      },
      "source": [
        "#### AD_DGNS - admitting Diagnosis Code"
      ]
    },
    {
      "cell_type": "code",
      "execution_count": null,
      "metadata": {
        "id": "jrmMHtLx9jiP"
      },
      "outputs": [],
      "source": [
        "#  describe the condition the patient was admitted for.\n",
        "\n",
        "# Admitting diagnosis is crucial for understanding the severity and urgency of the patient’s condition.\n",
        "# Certain diagnoses are associated with higher risk of readmission — for example, heart failure, pneumonia, or chronic diseases like diabetes or hypertension."
      ]
    },
    {
      "cell_type": "code",
      "execution_count": null,
      "metadata": {
        "colab": {
          "base_uri": "https://localhost:8080/"
        },
        "id": "ot-81a6p9jiQ",
        "outputId": "c70c55f1-5b4b-4b8b-c2b8-1cfea8a7a6c3"
      },
      "outputs": [
        {
          "output_type": "execute_result",
          "data": {
            "text/plain": [
              "2259"
            ]
          },
          "metadata": {},
          "execution_count": 146
        }
      ],
      "source": [
        "df['AD_DGNS'].nunique() # there are too many different admitting codes"
      ]
    },
    {
      "cell_type": "code",
      "execution_count": null,
      "metadata": {
        "id": "BMsLp-ll9jiQ"
      },
      "outputs": [],
      "source": [
        "target_encoded = df.groupby('AD_DGNS')['Readmitted_30'].mean()\n",
        "\n",
        "df['AD_DGNS_encoded'] = df['AD_DGNS'].map(target_encoded)\n",
        "\n",
        "df.drop(columns=['AD_DGNS'], inplace=True)"
      ]
    },
    {
      "cell_type": "code",
      "execution_count": null,
      "metadata": {
        "colab": {
          "base_uri": "https://localhost:8080/"
        },
        "id": "UY9zrAfc9jiR",
        "outputId": "a1e0f152-196c-4ed3-e929-a64ceb2f6e59"
      },
      "outputs": [
        {
          "output_type": "execute_result",
          "data": {
            "text/plain": [
              "np.int64(4365)"
            ]
          },
          "metadata": {},
          "execution_count": 148
        }
      ],
      "source": [
        "df['AD_DGNS_encoded'].isna().sum()"
      ]
    },
    {
      "cell_type": "code",
      "execution_count": null,
      "metadata": {
        "id": "9dYiUTpi9jiS"
      },
      "outputs": [],
      "source": [
        "# Calculate global mean of the target as fallback\n",
        "global_mean = df['Readmitted_30'].mean()\n",
        "\n",
        "# Fill NaNs with the global mean\n",
        "df['AD_DGNS_encoded'] = df['AD_DGNS_encoded'].fillna(global_mean)\n"
      ]
    },
    {
      "cell_type": "code",
      "source": [
        "import joblib\n",
        "\n",
        "joblib.dump(global_mean, 'global_mean.pkl')\n",
        "\n",
        "joblib.dump(target_encoded, 'target_encoded.pkl')"
      ],
      "metadata": {
        "id": "NZgsQB46670v"
      },
      "execution_count": null,
      "outputs": []
    },
    {
      "cell_type": "markdown",
      "metadata": {
        "id": "tgLjFHhM9jiS"
      },
      "source": [
        "#### Analyzing procedure and diagnosis columns"
      ]
    },
    {
      "cell_type": "markdown",
      "metadata": {
        "id": "PlWhopiD9jiT"
      },
      "source": [
        "##### some analysis"
      ]
    },
    {
      "cell_type": "code",
      "execution_count": null,
      "metadata": {
        "id": "R-lA9WLh9jiT"
      },
      "outputs": [],
      "source": [
        "def check_procedure_pattern(row):\n",
        "    \"\"\"\n",
        "    Checks if procedures follow the pattern:\n",
        "    If procedure n is missing, then all procedures n+1 to 25 are also missing\n",
        "    Returns True if pattern holds, False otherwise\n",
        "    \"\"\"\n",
        "    proc_columns = [f'PRCDRCD{str(i).zfill(2)}' for i in range(1, 26)]\n",
        "    first_empty = None\n",
        "\n",
        "    for i, col in enumerate(proc_columns):\n",
        "        if pd.isna(row[col]) or row[col] == '' :\n",
        "            first_empty = i\n",
        "            break\n",
        "\n",
        "    if first_empty is None:  # All procedures are filled\n",
        "        return True\n",
        "\n",
        "    # Check if all procedures after first_empty are also empty\n",
        "    for col in proc_columns[first_empty:]:\n",
        "        if not pd.isna(row[col]) and row[col] != '':\n",
        "            return False\n",
        "\n",
        "    return True"
      ]
    },
    {
      "cell_type": "code",
      "execution_count": null,
      "metadata": {
        "colab": {
          "base_uri": "https://localhost:8080/"
        },
        "id": "Ru3NCoxS9jiU",
        "outputId": "cdcda5e2-d542-4813-a728-5cb4e2ca2c20"
      },
      "outputs": [
        {
          "output_type": "stream",
          "name": "stdout",
          "text": [
            "Procedure Pattern Compliance:\n",
            "follows_pattern\n",
            "True    130296\n",
            "Name: count, dtype: int64\n",
            "Percentage of rows following pattern: 100.00%\n"
          ]
        }
      ],
      "source": [
        "df_temp  = df.copy()\n",
        "\n",
        "# Apply the function to each row\n",
        "df_temp['follows_pattern'] = df_temp.apply(check_procedure_pattern, axis=1)\n",
        "\n",
        "# Count pattern compliance\n",
        "pattern_count = df_temp['follows_pattern'].value_counts()\n",
        "print(\"Procedure Pattern Compliance:\")\n",
        "print(pattern_count)\n",
        "print(f\"Percentage of rows following pattern: {100 * pattern_count.get(True, 0) / len(df_temp):.2f}%\")"
      ]
    },
    {
      "cell_type": "code",
      "execution_count": null,
      "metadata": {
        "colab": {
          "base_uri": "https://localhost:8080/",
          "height": 569
        },
        "id": "YTtJnzUQ9jiV",
        "outputId": "a2bb86c3-a1c8-4de1-c82e-e16cba06a0d9"
      },
      "outputs": [
        {
          "output_type": "display_data",
          "data": {
            "text/plain": [
              "<Figure size 1200x600 with 1 Axes>"
            ],
            "image/png": "[encoded data removed]"
          },
          "metadata": {}
        }
      ],
      "source": [
        "# Visualize procedure presence\n",
        "# Create a matrix where 1 means procedure exists, 0 means not exists\n",
        "proc_presence = pd.DataFrame()\n",
        "for i in range(1, 26):\n",
        "    col = f'PRCDRCD{str(i).zfill(2)}'\n",
        "    proc_presence[col] = (~df_temp[col].isna() & (df_temp[col] != '')).astype(int)\n",
        "\n",
        "\n",
        "# Visualize the procedure pattern\n",
        "plt.figure(figsize=(12, 6))\n",
        "sns.heatmap(proc_presence.T, cmap='Blues', cbar=False)\n",
        "plt.title('Procedure Pattern Visualization')\n",
        "plt.xlabel('Patient Index')\n",
        "plt.ylabel('Procedure Number')\n",
        "plt.tight_layout()\n",
        "plt.show()"
      ]
    },
    {
      "cell_type": "code",
      "execution_count": null,
      "metadata": {
        "id": "SUAIuLRx9jiV"
      },
      "outputs": [],
      "source": [
        "# by above analysis, we found that if a procedure is missing, all subsequent procedures are also missing. so nulls in procedure does't means that the procedure was not recorded but it means that the patient didn't have/need that procedure."
      ]
    },
    {
      "cell_type": "code",
      "execution_count": null,
      "metadata": {
        "id": "102fBdM89jiV"
      },
      "outputs": [],
      "source": [
        "# Let's check if the same pattern exists for diagnosis features\n",
        "def check_diagnosis_pattern(row):\n",
        "    \"\"\"\n",
        "    Checks if diagnoses follow the pattern:\n",
        "    If diagnosis n is missing, then all diagnoses n+1 to 25 are also missing\n",
        "    Returns True if pattern holds, False otherwise\n",
        "    \"\"\"\n",
        "    diag_columns = [f'DGNSCD{str(i).zfill(2)}' for i in range(1, 26)]\n",
        "    first_empty = None\n",
        "\n",
        "    for i, col in enumerate(diag_columns):\n",
        "        if pd.isna(row[col]) or row[col] == '':\n",
        "            first_empty = i\n",
        "            break\n",
        "\n",
        "    if first_empty is None:  # All diagnoses are filled\n",
        "        return True\n",
        "\n",
        "    # Check if all diagnoses after first_empty are also empty\n",
        "    for col in diag_columns[first_empty:]:\n",
        "        if not pd.isna(row[col]) and row[col] != '':\n",
        "            return False\n",
        "\n",
        "    return True"
      ]
    },
    {
      "cell_type": "code",
      "execution_count": null,
      "metadata": {
        "colab": {
          "base_uri": "https://localhost:8080/"
        },
        "id": "Oqfbs4Jx9jiW",
        "outputId": "43998ba8-729d-4b45-f526-40e0903949e9"
      },
      "outputs": [
        {
          "output_type": "stream",
          "name": "stdout",
          "text": [
            "Diagnosis Pattern Compliance:\n",
            "diag_follows_pattern\n",
            "True    130296\n",
            "Name: count, dtype: int64\n",
            "Percentage of rows following pattern: 100.00%\n"
          ]
        }
      ],
      "source": [
        "df_temp  = df.copy()\n",
        "\n",
        "# Apply the function to each row\n",
        "df_temp['diag_follows_pattern'] = df_temp.apply(check_diagnosis_pattern, axis=1)\n",
        "\n",
        "# Count pattern compliance\n",
        "pattern_count = df_temp['diag_follows_pattern'].value_counts()\n",
        "print(\"Diagnosis Pattern Compliance:\")\n",
        "print(pattern_count)\n",
        "print(f\"Percentage of rows following pattern: {100 * pattern_count.get(True, 0) / len(df_temp):.2f}%\")"
      ]
    },
    {
      "cell_type": "code",
      "execution_count": null,
      "metadata": {
        "id": "Xv1ipSfR9jiW"
      },
      "outputs": [],
      "source": [
        "# Diagnosis columns are also following the same pattern.\n",
        "\n",
        "# Now we can reduce these 50 columns to 2 columns. these columns will indicate that how many procedures/diagnosis were performed on the patient.\n",
        "\n",
        "# this is the first and most simplest approach to reduce the number of columns.\n",
        "\n"
      ]
    },
    {
      "cell_type": "code",
      "execution_count": null,
      "metadata": {
        "colab": {
          "base_uri": "https://localhost:8080/"
        },
        "id": "xQEzYwi89jiX",
        "outputId": "964d6d7d-ad20-48bf-84fe-499b34353881"
      },
      "outputs": [
        {
          "output_type": "stream",
          "name": "stdout",
          "text": [
            "Total unique diagnosis codes: 9778\n",
            "all diagnosis codes: 2178998\n",
            "Total unique procedure codes: 4701\n",
            "all procedures codes: 152469\n"
          ]
        }
      ],
      "source": [
        "# get all unique diagnosis codes\n",
        "unique_diagnosis_codes = set()\n",
        "all_diagnosis_codes = []\n",
        "for i in range(1, 26):\n",
        "    col = f'DGNSCD{str(i).zfill(2)}'\n",
        "    unique_diagnosis_codes.update(df[col].dropna().unique())\n",
        "    all_diagnosis_codes.extend(df[col].dropna())\n",
        "\n",
        "print(f\"Total unique diagnosis codes: {len(unique_diagnosis_codes)}\")\n",
        "print(f\"all diagnosis codes: {len(all_diagnosis_codes)}\")\n",
        "# get all unique diagnosis codes\n",
        "unique_procedure_codes = set()\n",
        "all_procedure_codes = []\n",
        "for i in range(1, 26):\n",
        "    col = f'PRCDRCD{str(i).zfill(2)}'\n",
        "    unique_procedure_codes.update(df[col].dropna().unique())\n",
        "    all_procedure_codes.extend(df[col].dropna())\n",
        "\n",
        "print(f\"Total unique procedure codes: {len(unique_procedure_codes)}\")\n",
        "print(f\"all procedures codes: {len(all_procedure_codes)}\")"
      ]
    },
    {
      "cell_type": "markdown",
      "metadata": {
        "id": "dD-308eT9jiX"
      },
      "source": [
        "##### Handling these columns"
      ]
    },
    {
      "cell_type": "code",
      "execution_count": null,
      "metadata": {
        "id": "v_RCy4Q_9jiY"
      },
      "outputs": [],
      "source": [
        "proc_columns = [f'PRCDRCD{str(i).zfill(2)}' for i in range(1, 26)]\n",
        "diag_columns = [f'DGNSCD{str(i).zfill(2)}' for i in range(1, 26)]"
      ]
    },
    {
      "cell_type": "code",
      "execution_count": null,
      "metadata": {
        "id": "fpjTrkty9jiY"
      },
      "outputs": [],
      "source": [
        "df_count_based = df.copy()\n",
        "df_position_based = df.copy()\n",
        "df_grouped_codes = df.copy()"
      ]
    },
    {
      "cell_type": "code",
      "execution_count": null,
      "metadata": {
        "id": "VJBSUu6v9jiY"
      },
      "outputs": [],
      "source": [
        "\n",
        "# Method 1: Count-Based Features\n",
        "\n",
        "df_count_based['num_diagnoses'] = df_count_based[diag_columns].notna().sum(axis=1)\n",
        "df_count_based['num_procedures'] = df_count_based[proc_columns].notna().sum(axis=1)\n",
        "\n",
        "\n",
        "df_count_based.drop(columns=diag_columns + proc_columns, inplace=True)"
      ]
    },
    {
      "cell_type": "code",
      "execution_count": null,
      "metadata": {
        "id": "7L7-u_UC9jiZ"
      },
      "outputs": [],
      "source": [
        "\n",
        "# ----------------------------\n",
        "# Method 2: Position-Based Features\n",
        "# ----------------------------\n",
        "\n",
        "# Primary diagnosis code\n",
        "df_position_based['primary_diagnosis'] = df_position_based['DGNSCD01']\n",
        "\n",
        "# If both diagnosis and procedure 01 are present, condition is treated\n",
        "df_position_based['primary_condition_treated'] = df_position_based[['DGNSCD01', 'PRCDRCD01']].notna().all(axis=1).astype(int)\n",
        "\n",
        "# Ratio of diagnoses that have procedures\n",
        "def calculate_diag_proc_ratio(row):\n",
        "    diag_count = 0\n",
        "    treated_count = 0\n",
        "    for i in range(1, 26):\n",
        "        diag = row.get(f'DGNSCD{str(i).zfill(2)}')\n",
        "        proc = row.get(f'PRCDRCD{str(i).zfill(2)}')\n",
        "        if pd.notna(diag):\n",
        "            diag_count += 1\n",
        "            if pd.notna(proc):\n",
        "                treated_count += 1\n",
        "    return treated_count / diag_count if diag_count > 0 else 0\n",
        "\n",
        "df_position_based['treatment_ratio'] = df_position_based.apply(calculate_diag_proc_ratio, axis=1)\n",
        "\n",
        "\n",
        "# target encoding of primary diagnosis\n",
        "primary_diag_target_encoding = df_position_based.groupby('primary_diagnosis')['Readmitted_30'].mean()\n",
        "df_position_based['primary_diagnosis_encoded'] = df_position_based['primary_diagnosis'].map(primary_diag_target_encoding)\n",
        "\n",
        "global_readmit_mean = df_position_based['Readmitted_30'].mean()\n",
        "df_position_based['primary_diagnosis_encoded'] = df_position_based['primary_diagnosis_encoded'].fillna(global_readmit_mean)\n",
        "\n",
        "df_position_based.drop(columns=['primary_diagnosis'], inplace=True)\n",
        "\n",
        "\n",
        "df_position_based.drop(columns=diag_columns + proc_columns, inplace=True)"
      ]
    },
    {
      "cell_type": "code",
      "execution_count": null,
      "metadata": {
        "id": "SkmyhM669jia"
      },
      "outputs": [],
      "source": [
        "# ----------------------------\n",
        "# Method 3: Group/Select Important Codes\n",
        "# ----------------------------\n",
        "\n",
        "# Reduce diagnosis codes to their first 3 characters to represent groups\n",
        "for col in diag_columns:\n",
        "    df_grouped_codes[col] = df_grouped_codes[col].astype(str).str[:3]\n",
        "\n",
        "# Get the top 20 most frequent diagnosis code groups\n",
        "top_diag_groups = pd.Series(df_grouped_codes[diag_columns].values.ravel()).value_counts().nlargest(20).index\n",
        "\n",
        "# Create binary features for top 20 diagnosis code groups\n",
        "for code in top_diag_groups:\n",
        "    df_grouped_codes[f'diag_code_{code}'] = df_grouped_codes[diag_columns].apply(lambda x: code in x.values, axis=1).astype(int)\n",
        "\n",
        "# Drop original diagnosis and procedure columns (optional for modeling)\n",
        "df_grouped_codes = df_grouped_codes.drop(columns=diag_columns + proc_columns)\n"
      ]
    },
    {
      "cell_type": "markdown",
      "metadata": {
        "id": "lnidhD7n9jib"
      },
      "source": [
        "#### Readmitted_30"
      ]
    },
    {
      "cell_type": "code",
      "execution_count": null,
      "metadata": {
        "id": "ssP2FLaO9jib"
      },
      "outputs": [],
      "source": [
        "# check class imbalance in the target variable"
      ]
    },
    {
      "cell_type": "code",
      "execution_count": null,
      "metadata": {
        "colab": {
          "base_uri": "https://localhost:8080/",
          "height": 871
        },
        "id": "REccfxxB9jib",
        "outputId": "a903f141-691a-4855-dace-c8c4bd299842"
      },
      "outputs": [
        {
          "output_type": "stream",
          "name": "stderr",
          "text": [
            "<ipython-input-164-fd37183f8e7d>:5: FutureWarning: \n",
            "\n",
            "Passing `palette` without assigning `hue` is deprecated and will be removed in v0.14.0. Assign the `x` variable to `hue` and set `legend=False` for the same effect.\n",
            "\n",
            "  sns.countplot(x='Readmitted_30', data=df, palette='Blues')\n"
          ]
        },
        {
          "output_type": "display_data",
          "data": {
            "text/plain": [
              "<Figure size 1200x800 with 2 Axes>"
            ],
            "image/png": "[encoded data removed]"
          },
          "metadata": {}
        }
      ],
      "source": [
        "plt.figure(figsize=(12, 8))\n",
        "\n",
        "# Create a countplot for Readmitted_30\n",
        "plt.subplot(1, 2, 1)\n",
        "sns.countplot(x='Readmitted_30', data=df, palette='Blues')\n",
        "plt.title('Distribution of 30-Day Readmissions', fontsize=14)\n",
        "plt.xlabel('Readmitted within 30 days', fontsize=12)\n",
        "plt.ylabel('Count', fontsize=12)\n",
        "plt.xticks([0, 1], ['No (0)', 'Yes (1)'])\n",
        "\n",
        "# Add count labels on top of bars\n",
        "for p in plt.gca().patches:\n",
        "    plt.gca().annotate(f'{p.get_height():,}',\n",
        "                       (p.get_x() + p.get_width() / 2., p.get_height()),\n",
        "                       ha='center', va='bottom', fontsize=11)\n",
        "\n",
        "# Create a pie chart showing percentage distribution\n",
        "plt.subplot(1, 2, 2)\n",
        "readmit_counts = df['Readmitted_30'].value_counts()\n",
        "labels = ['Not Readmitted', 'Readmitted within 30 days']\n",
        "colors = ['#9ecae1', '#3182bd']\n",
        "plt.pie(readmit_counts, labels=labels, autopct='%1.1f%%', startangle=90, colors=colors,\n",
        "        wedgeprops={'edgecolor': 'white', 'linewidth': 1.5})\n",
        "plt.title('Percentage of 30-Day Readmissions', fontsize=14)\n",
        "plt.axis('equal')\n",
        "plt.tight_layout()\n",
        "plt.show()"
      ]
    },
    {
      "cell_type": "code",
      "execution_count": null,
      "metadata": {
        "colab": {
          "base_uri": "https://localhost:8080/"
        },
        "id": "YkygI0y-9jic",
        "outputId": "a3591fd7-d0d5-4432-c1d8-1837136ca167"
      },
      "outputs": [
        {
          "output_type": "stream",
          "name": "stdout",
          "text": [
            "30-Day Readmission Rate: 20.49%\n",
            "Total Patients: 130,296\n",
            "Readmitted Patients: 26,698\n",
            "Non-readmitted Patients: 103,598\n"
          ]
        }
      ],
      "source": [
        "readmission_rate = df['Readmitted_30'].mean() * 100\n",
        "print(f\"30-Day Readmission Rate: {readmission_rate:.2f}%\")\n",
        "print(f\"Total Patients: {len(df):,}\")\n",
        "print(f\"Readmitted Patients: {df['Readmitted_30'].sum():,}\")\n",
        "print(f\"Non-readmitted Patients: {len(df) - df['Readmitted_30'].sum():,}\")"
      ]
    },
    {
      "cell_type": "markdown",
      "metadata": {
        "id": "94I1hzJl9jic"
      },
      "source": [
        "#### Removing class imbalace from training data"
      ]
    },
    {
      "cell_type": "code",
      "execution_count": null,
      "metadata": {
        "id": "CWsMSekr9jid"
      },
      "outputs": [],
      "source": [
        "y = df['Readmitted_30']"
      ]
    },
    {
      "cell_type": "code",
      "execution_count": null,
      "metadata": {
        "id": "qyflOJiC9jid"
      },
      "outputs": [],
      "source": [
        "X_countbased = df_count_based.drop([ 'Readmitted_30'], axis=1)\n",
        "X_position_based = df_position_based.drop([ 'Readmitted_30'], axis=1)\n",
        "X_grouped_codes = df_grouped_codes.drop([ 'Readmitted_30'], axis=1)"
      ]
    },
    {
      "cell_type": "code",
      "execution_count": null,
      "metadata": {
        "id": "TMpxEUor9jid"
      },
      "outputs": [],
      "source": [
        "from sklearn.model_selection import train_test_split\n",
        "\n",
        "X_train_count, X_test_count, y_train, y_test = train_test_split(X_countbased, y, test_size=0.2, random_state=42)\n",
        "\n",
        "X_train_position, X_test_position, y_train, y_test = train_test_split(X_position_based, y, test_size=0.2, random_state=42)\n",
        "\n",
        "X_train_group, X_test_group, y_train, y_test = train_test_split(X_grouped_codes, y, test_size=0.2, random_state=42)"
      ]
    },
    {
      "cell_type": "code",
      "execution_count": null,
      "metadata": {
        "id": "fvLc1OPL9jie"
      },
      "outputs": [],
      "source": [
        "from imblearn.over_sampling import ADASYN\n",
        "\n",
        "adasyn = ADASYN(random_state=42)\n",
        "\n",
        "X_resampled_count, y_resampled_count = adasyn.fit_resample(X_train_count, y_train)\n",
        "\n",
        "#"
      ]
    },
    {
      "cell_type": "code",
      "execution_count": null,
      "metadata": {
        "id": "nYnGnGQA9jie"
      },
      "outputs": [],
      "source": [
        "X_resampled_position, y_resampled_position = adasyn.fit_resample(X_train_position, y_train)\n"
      ]
    },
    {
      "cell_type": "code",
      "execution_count": null,
      "metadata": {
        "id": "xli6FKQD9jie"
      },
      "outputs": [],
      "source": [
        "X_resampled_group, y_resampled_group = adasyn.fit_resample(X_train_group, y_train)\n"
      ]
    },
    {
      "cell_type": "code",
      "execution_count": null,
      "metadata": {
        "colab": {
          "base_uri": "https://localhost:8080/"
        },
        "id": "93Q_wANA9jif",
        "outputId": "100674dc-c53e-4855-bc22-e698b1fae1f7"
      },
      "outputs": [
        {
          "output_type": "stream",
          "name": "stdout",
          "text": [
            "<class 'pandas.core.series.Series'>\n",
            "RangeIndex: 165291 entries, 0 to 165290\n",
            "Series name: Readmitted_30\n",
            "Non-Null Count   Dtype\n",
            "--------------   -----\n",
            "165291 non-null  int64\n",
            "dtypes: int64(1)\n",
            "memory usage: 1.3 MB\n"
          ]
        }
      ],
      "source": [
        "y_resampled_count.info()"
      ]
    },
    {
      "cell_type": "markdown",
      "metadata": {
        "id": "kLPI2ruf9jif"
      },
      "source": [
        "# Model Training"
      ]
    },
    {
      "cell_type": "code",
      "source": [
        "!pip install catboost"
      ],
      "metadata": {
        "colab": {
          "base_uri": "https://localhost:8080/"
        },
        "id": "uymokrjs_MFg",
        "outputId": "1c31cd8f-72ed-4eb1-ee84-8d4b681e9bdd"
      },
      "execution_count": null,
      "outputs": [
        {
          "output_type": "stream",
          "name": "stdout",
          "text": [
            "Requirement already satisfied: catboost in /usr/local/lib/python3.11/dist-packages (1.2.8)\n",
            "Requirement already satisfied: graphviz in /usr/local/lib/python3.11/dist-packages (from catboost) (0.20.3)\n",
            "Requirement already satisfied: matplotlib in /usr/local/lib/python3.11/dist-packages (from catboost) (3.10.0)\n",
            "Requirement already satisfied: numpy<3.0,>=1.16.0 in /usr/local/lib/python3.11/dist-packages (from catboost) (2.0.2)\n",
            "Requirement already satisfied: pandas>=0.24 in /usr/local/lib/python3.11/dist-packages (from catboost) (2.2.2)\n",
            "Requirement already satisfied: scipy in /usr/local/lib/python3.11/dist-packages (from catboost) (1.14.1)\n",
            "Requirement already satisfied: plotly in /usr/local/lib/python3.11/dist-packages (from catboost) (5.24.1)\n",
            "Requirement already satisfied: six in /usr/local/lib/python3.11/dist-packages (from catboost) (1.17.0)\n",
            "Requirement already satisfied: python-dateutil>=2.8.2 in /usr/local/lib/python3.11/dist-packages (from pandas>=0.24->catboost) (2.8.2)\n",
            "Requirement already satisfied: pytz>=2020.1 in /usr/local/lib/python3.11/dist-packages (from pandas>=0.24->catboost) (2025.2)\n",
            "Requirement already satisfied: tzdata>=2022.7 in /usr/local/lib/python3.11/dist-packages (from pandas>=0.24->catboost) (2025.2)\n",
            "Requirement already satisfied: contourpy>=1.0.1 in /usr/local/lib/python3.11/dist-packages (from matplotlib->catboost) (1.3.2)\n",
            "Requirement already satisfied: cycler>=0.10 in /usr/local/lib/python3.11/dist-packages (from matplotlib->catboost) (0.12.1)\n",
            "Requirement already satisfied: fonttools>=4.22.0 in /usr/local/lib/python3.11/dist-packages (from matplotlib->catboost) (4.57.0)\n",
            "Requirement already satisfied: kiwisolver>=1.3.1 in /usr/local/lib/python3.11/dist-packages (from matplotlib->catboost) (1.4.8)\n",
            "Requirement already satisfied: packaging>=20.0 in /usr/local/lib/python3.11/dist-packages (from matplotlib->catboost) (24.2)\n",
            "Requirement already satisfied: pillow>=8 in /usr/local/lib/python3.11/dist-packages (from matplotlib->catboost) (11.1.0)\n",
            "Requirement already satisfied: pyparsing>=2.3.1 in /usr/local/lib/python3.11/dist-packages (from matplotlib->catboost) (3.2.3)\n",
            "Requirement already satisfied: tenacity>=6.2.0 in /usr/local/lib/python3.11/dist-packages (from plotly->catboost) (9.1.2)\n"
          ]
        }
      ]
    },
    {
      "cell_type": "code",
      "execution_count": null,
      "metadata": {
        "id": "OL4ekpi89jig"
      },
      "outputs": [],
      "source": [
        "# use following df's to get data\n",
        "\n",
        "# X_resampled_count, y_resampled_count ,X_test_count , y_test\n",
        "# X_resampled_position, y_resampled_position , X_test_position , y_test\n",
        "# X_resampled_group, y_resampled_group , X_test_group , y_test"
      ]
    },
    {
      "cell_type": "code",
      "execution_count": null,
      "metadata": {
        "id": "flF7_UZS9jig"
      },
      "outputs": [],
      "source": [
        "from sklearn.linear_model import LogisticRegression\n",
        "from sklearn.metrics import accuracy_score, precision_score, recall_score, f1_score, roc_auc_score, classification_report\n",
        "from sklearn.ensemble import RandomForestClassifier\n",
        "from xgboost import XGBClassifier\n",
        "from catboost import CatBoostClassifier\n",
        "from lightgbm import LGBMClassifier\n",
        "from sklearn.neighbors import KNeighborsClassifier\n",
        "from sklearn.tree import DecisionTreeClassifier\n",
        "from sklearn.naive_bayes import GaussianNB\n",
        "from sklearn.svm import SVC\n",
        "from sklearn.ensemble import RandomForestClassifier, GradientBoostingClassifier, AdaBoostClassifier, BaggingClassifier\n",
        "from sklearn.ensemble import StackingClassifier\n",
        "from sklearn.preprocessing import StandardScaler\n"
      ]
    },
    {
      "cell_type": "code",
      "execution_count": null,
      "metadata": {
        "colab": {
          "base_uri": "https://localhost:8080/"
        },
        "id": "1SgSPYaB9jih",
        "outputId": "506d3bb2-61eb-46df-bac7-a702dd41ea68"
      },
      "outputs": [
        {
          "output_type": "stream",
          "name": "stdout",
          "text": [
            "Training Logistic Regression on Count-Based Features...\n",
            "----------------------------------------\n",
            "Accuracy: 0.5571\n",
            "Precision: 0.2436\n",
            "Recall: 0.5593\n",
            "F1 Score: 0.3394\n",
            "ROC AUC Score: 0.5887\n",
            "\n",
            "Classification Report:\n",
            "              precision    recall  f1-score   support\n",
            "\n",
            "           0       0.83      0.56      0.67     20759\n",
            "           1       0.24      0.56      0.34      5301\n",
            "\n",
            "    accuracy                           0.56     26060\n",
            "   macro avg       0.54      0.56      0.50     26060\n",
            "weighted avg       0.71      0.56      0.60     26060\n",
            "\n",
            "Training Logistic Regression on position...\n",
            "----------------------------------------\n",
            "Accuracy: 0.5610\n",
            "Precision: 0.2514\n",
            "Recall: 0.5855\n",
            "F1 Score: 0.3518\n",
            "ROC AUC Score: 0.6112\n",
            "\n",
            "Classification Report:\n",
            "              precision    recall  f1-score   support\n",
            "\n",
            "           0       0.84      0.55      0.67     20759\n",
            "           1       0.25      0.59      0.35      5301\n",
            "\n",
            "    accuracy                           0.56     26060\n",
            "   macro avg       0.55      0.57      0.51     26060\n",
            "weighted avg       0.72      0.56      0.60     26060\n",
            "\n",
            "Training Logistic Regression on group...\n",
            "----------------------------------------\n",
            "Accuracy: 0.6303\n",
            "Precision: 0.2268\n",
            "Recall: 0.3394\n",
            "F1 Score: 0.2719\n",
            "ROC AUC Score: 0.5418\n",
            "\n",
            "Classification Report:\n",
            "              precision    recall  f1-score   support\n",
            "\n",
            "           0       0.81      0.70      0.75     20759\n",
            "           1       0.23      0.34      0.27      5301\n",
            "\n",
            "    accuracy                           0.63     26060\n",
            "   macro avg       0.52      0.52      0.51     26060\n",
            "weighted avg       0.69      0.63      0.65     26060\n",
            "\n"
          ]
        }
      ],
      "source": [
        "def train_logistic_regression(X_train, X_test, y_train, y_test):\n",
        "    \"\"\"\n",
        "    Train and evaluate a Logistic Regression model with data scaling.\n",
        "    Parameters:\n",
        "        X_train, X_test: Training and test features\n",
        "        y_train, y_test: Training and test labels\n",
        "\n",
        "    Returns:\n",
        "        lr: Trained Logistic Regression model\n",
        "        metrics: Dictionary containing evaluation metrics\n",
        "    \"\"\"\n",
        "\n",
        "    scaler = StandardScaler()\n",
        "\n",
        "    X_train = scaler.fit_transform(X_train)\n",
        "    X_test = scaler.transform(X_test)\n",
        "\n",
        "    lr = LogisticRegression(random_state=42, max_iter=10000)\n",
        "    lr.fit(X_train, y_train)\n",
        "\n",
        "    y_pred = lr.predict(X_test)\n",
        "    y_pred_proba = lr.predict_proba(X_test)[:, 1]\n",
        "\n",
        "    metrics = {\n",
        "        'accuracy': accuracy_score(y_test, y_pred),\n",
        "        'precision': precision_score(y_test, y_pred),\n",
        "        'recall': recall_score(y_test, y_pred),\n",
        "        'f1': f1_score(y_test, y_pred),\n",
        "        'roc_auc': roc_auc_score(y_test, y_pred_proba)\n",
        "    }\n",
        "\n",
        "    print(f\"Accuracy: {metrics['accuracy']:.4f}\")\n",
        "    print(f\"Precision: {metrics['precision']:.4f}\")\n",
        "    print(f\"Recall: {metrics['recall']:.4f}\")\n",
        "    print(f\"F1 Score: {metrics['f1']:.4f}\")\n",
        "    print(f\"ROC AUC Score: {metrics['roc_auc']:.4f}\")\n",
        "    print(\"\\nClassification Report:\")\n",
        "    print(classification_report(y_test, y_pred))\n",
        "    print(\"----------------------------------------\")\n",
        "\n",
        "    return lr, metrics\n",
        "\n",
        "lr_metrics_dict = {}\n",
        "\n",
        "print(\"Training Logistic Regression on Count-Based Features...\")\n",
        "lr_model1, lr_metrics_dict['count'] = train_logistic_regression(X_resampled_count,X_test_count,y_resampled_count, y_test)\n",
        "\n",
        "print(\"Training Logistic Regression on position...\")\n",
        "lr_model2, lr_metrics_dict['position'] = train_logistic_regression(X_resampled_position,X_test_position,y_resampled_position, y_test)\n",
        "\n",
        "print(\"Training Logistic Regression on group...\")\n",
        "lr_model3, lr_metrics_dict['group'] = train_logistic_regression(X_resampled_group,X_test_group,y_resampled_group, y_test)"
      ]
    },
    {
      "cell_type": "code",
      "execution_count": null,
      "metadata": {
        "colab": {
          "base_uri": "https://localhost:8080/",
          "height": 406
        },
        "id": "CfCH8EvN9jij",
        "outputId": "eb43abac-4e4c-430b-a33f-75e766bf7c50"
      },
      "outputs": [
        {
          "output_type": "stream",
          "name": "stdout",
          "text": [
            "Training Random Forest on Count-Based Features...\n"
          ]
        },
        {
          "output_type": "error",
          "ename": "KeyboardInterrupt",
          "evalue": "",
          "traceback": [
            "\u001b[0;31m---------------------------------------------------------------------------\u001b[0m",
            "\u001b[0;31mKeyboardInterrupt\u001b[0m                         Traceback (most recent call last)",
            "\u001b[0;32m<ipython-input-178-3881ae3098e7>\u001b[0m in \u001b[0;36m<cell line: 0>\u001b[0;34m()\u001b[0m\n\u001b[1;32m     50\u001b[0m \u001b[0;31m# Train and evaluate Random Forest on dataset 1\u001b[0m\u001b[0;34m\u001b[0m\u001b[0;34m\u001b[0m\u001b[0m\n\u001b[1;32m     51\u001b[0m \u001b[0mprint\u001b[0m\u001b[0;34m(\u001b[0m\u001b[0;34m\"Training Random Forest on Count-Based Features...\"\u001b[0m\u001b[0;34m)\u001b[0m\u001b[0;34m\u001b[0m\u001b[0;34m\u001b[0m\u001b[0m\n\u001b[0;32m---> 52\u001b[0;31m \u001b[0mrf_model1\u001b[0m\u001b[0;34m,\u001b[0m \u001b[0mrf_metrics_dict\u001b[0m\u001b[0;34m[\u001b[0m\u001b[0;34m'dataset1'\u001b[0m\u001b[0;34m]\u001b[0m \u001b[0;34m=\u001b[0m \u001b[0mtrain_random_forest\u001b[0m\u001b[0;34m(\u001b[0m\u001b[0mX_resampled_count\u001b[0m\u001b[0;34m,\u001b[0m\u001b[0mX_test_count\u001b[0m\u001b[0;34m,\u001b[0m\u001b[0my_resampled_count\u001b[0m\u001b[0;34m,\u001b[0m \u001b[0my_test\u001b[0m\u001b[0;34m)\u001b[0m\u001b[0;34m\u001b[0m\u001b[0;34m\u001b[0m\u001b[0m\n\u001b[0m\u001b[1;32m     53\u001b[0m \u001b[0;34m\u001b[0m\u001b[0m\n\u001b[1;32m     54\u001b[0m \u001b[0mprint\u001b[0m\u001b[0;34m(\u001b[0m\u001b[0;34m\"Training Random Forest on position...\"\u001b[0m\u001b[0;34m)\u001b[0m\u001b[0;34m\u001b[0m\u001b[0;34m\u001b[0m\u001b[0m\n",
            "\u001b[0;32m<ipython-input-178-3881ae3098e7>\u001b[0m in \u001b[0;36mtrain_random_forest\u001b[0;34m(X_train, X_test, y_train, y_test)\u001b[0m\n\u001b[1;32m     18\u001b[0m     \u001b[0;31m# Initialize and train the model\u001b[0m\u001b[0;34m\u001b[0m\u001b[0;34m\u001b[0m\u001b[0m\n\u001b[1;32m     19\u001b[0m     \u001b[0mrf\u001b[0m \u001b[0;34m=\u001b[0m \u001b[0mRandomForestClassifier\u001b[0m\u001b[0;34m(\u001b[0m\u001b[0mrandom_state\u001b[0m\u001b[0;34m=\u001b[0m\u001b[0;36m42\u001b[0m\u001b[0;34m)\u001b[0m\u001b[0;34m\u001b[0m\u001b[0;34m\u001b[0m\u001b[0m\n\u001b[0;32m---> 20\u001b[0;31m     \u001b[0mrf\u001b[0m\u001b[0;34m.\u001b[0m\u001b[0mfit\u001b[0m\u001b[0;34m(\u001b[0m\u001b[0mX_train\u001b[0m\u001b[0;34m,\u001b[0m \u001b[0my_train\u001b[0m\u001b[0;34m)\u001b[0m\u001b[0;34m\u001b[0m\u001b[0;34m\u001b[0m\u001b[0m\n\u001b[0m\u001b[1;32m     21\u001b[0m \u001b[0;34m\u001b[0m\u001b[0m\n\u001b[1;32m     22\u001b[0m     \u001b[0;31m# Make predictions\u001b[0m\u001b[0;34m\u001b[0m\u001b[0;34m\u001b[0m\u001b[0m\n",
            "\u001b[0;32m/usr/local/lib/python3.11/dist-packages/sklearn/base.py\u001b[0m in \u001b[0;36mwrapper\u001b[0;34m(estimator, *args, **kwargs)\u001b[0m\n\u001b[1;32m   1387\u001b[0m                 )\n\u001b[1;32m   1388\u001b[0m             ):\n\u001b[0;32m-> 1389\u001b[0;31m                 \u001b[0;32mreturn\u001b[0m \u001b[0mfit_method\u001b[0m\u001b[0;34m(\u001b[0m\u001b[0mestimator\u001b[0m\u001b[0;34m,\u001b[0m \u001b[0;34m*\u001b[0m\u001b[0margs\u001b[0m\u001b[0;34m,\u001b[0m \u001b[0;34m**\u001b[0m\u001b[0mkwargs\u001b[0m\u001b[0;34m)\u001b[0m\u001b[0;34m\u001b[0m\u001b[0;34m\u001b[0m\u001b[0m\n\u001b[0m\u001b[1;32m   1390\u001b[0m \u001b[0;34m\u001b[0m\u001b[0m\n\u001b[1;32m   1391\u001b[0m         \u001b[0;32mreturn\u001b[0m \u001b[0mwrapper\u001b[0m\u001b[0;34m\u001b[0m\u001b[0;34m\u001b[0m\u001b[0m\n",
            "\u001b[0;32m/usr/local/lib/python3.11/dist-packages/sklearn/ensemble/_forest.py\u001b[0m in \u001b[0;36mfit\u001b[0;34m(self, X, y, sample_weight)\u001b[0m\n\u001b[1;32m    485\u001b[0m             \u001b[0;31m# parallel_backend contexts set at a higher level,\u001b[0m\u001b[0;34m\u001b[0m\u001b[0;34m\u001b[0m\u001b[0m\n\u001b[1;32m    486\u001b[0m             \u001b[0;31m# since correctness does not rely on using threads.\u001b[0m\u001b[0;34m\u001b[0m\u001b[0;34m\u001b[0m\u001b[0m\n\u001b[0;32m--> 487\u001b[0;31m             trees = Parallel(\n\u001b[0m\u001b[1;32m    488\u001b[0m                 \u001b[0mn_jobs\u001b[0m\u001b[0;34m=\u001b[0m\u001b[0mself\u001b[0m\u001b[0;34m.\u001b[0m\u001b[0mn_jobs\u001b[0m\u001b[0;34m,\u001b[0m\u001b[0;34m\u001b[0m\u001b[0;34m\u001b[0m\u001b[0m\n\u001b[1;32m    489\u001b[0m                 \u001b[0mverbose\u001b[0m\u001b[0;34m=\u001b[0m\u001b[0mself\u001b[0m\u001b[0;34m.\u001b[0m\u001b[0mverbose\u001b[0m\u001b[0;34m,\u001b[0m\u001b[0;34m\u001b[0m\u001b[0;34m\u001b[0m\u001b[0m\n",
            "\u001b[0;32m/usr/local/lib/python3.11/dist-packages/sklearn/utils/parallel.py\u001b[0m in \u001b[0;36m__call__\u001b[0;34m(self, iterable)\u001b[0m\n\u001b[1;32m     75\u001b[0m             \u001b[0;32mfor\u001b[0m \u001b[0mdelayed_func\u001b[0m\u001b[0;34m,\u001b[0m \u001b[0margs\u001b[0m\u001b[0;34m,\u001b[0m \u001b[0mkwargs\u001b[0m \u001b[0;32min\u001b[0m \u001b[0miterable\u001b[0m\u001b[0;34m\u001b[0m\u001b[0;34m\u001b[0m\u001b[0m\n\u001b[1;32m     76\u001b[0m         )\n\u001b[0;32m---> 77\u001b[0;31m         \u001b[0;32mreturn\u001b[0m \u001b[0msuper\u001b[0m\u001b[0;34m(\u001b[0m\u001b[0;34m)\u001b[0m\u001b[0;34m.\u001b[0m\u001b[0m__call__\u001b[0m\u001b[0;34m(\u001b[0m\u001b[0miterable_with_config\u001b[0m\u001b[0;34m)\u001b[0m\u001b[0;34m\u001b[0m\u001b[0;34m\u001b[0m\u001b[0m\n\u001b[0m\u001b[1;32m     78\u001b[0m \u001b[0;34m\u001b[0m\u001b[0m\n\u001b[1;32m     79\u001b[0m \u001b[0;34m\u001b[0m\u001b[0m\n",
            "\u001b[0;32m/usr/local/lib/python3.11/dist-packages/joblib/parallel.py\u001b[0m in \u001b[0;36m__call__\u001b[0;34m(self, iterable)\u001b[0m\n\u001b[1;32m   1916\u001b[0m             \u001b[0moutput\u001b[0m \u001b[0;34m=\u001b[0m \u001b[0mself\u001b[0m\u001b[0;34m.\u001b[0m\u001b[0m_get_sequential_output\u001b[0m\u001b[0;34m(\u001b[0m\u001b[0miterable\u001b[0m\u001b[0;34m)\u001b[0m\u001b[0;34m\u001b[0m\u001b[0;34m\u001b[0m\u001b[0m\n\u001b[1;32m   1917\u001b[0m             \u001b[0mnext\u001b[0m\u001b[0;34m(\u001b[0m\u001b[0moutput\u001b[0m\u001b[0;34m)\u001b[0m\u001b[0;34m\u001b[0m\u001b[0;34m\u001b[0m\u001b[0m\n\u001b[0;32m-> 1918\u001b[0;31m             \u001b[0;32mreturn\u001b[0m \u001b[0moutput\u001b[0m \u001b[0;32mif\u001b[0m \u001b[0mself\u001b[0m\u001b[0;34m.\u001b[0m\u001b[0mreturn_generator\u001b[0m \u001b[0;32melse\u001b[0m \u001b[0mlist\u001b[0m\u001b[0;34m(\u001b[0m\u001b[0moutput\u001b[0m\u001b[0;34m)\u001b[0m\u001b[0;34m\u001b[0m\u001b[0;34m\u001b[0m\u001b[0m\n\u001b[0m\u001b[1;32m   1919\u001b[0m \u001b[0;34m\u001b[0m\u001b[0m\n\u001b[1;32m   1920\u001b[0m         \u001b[0;31m# Let's create an ID that uniquely identifies the current call. If the\u001b[0m\u001b[0;34m\u001b[0m\u001b[0;34m\u001b[0m\u001b[0m\n",
            "\u001b[0;32m/usr/local/lib/python3.11/dist-packages/joblib/parallel.py\u001b[0m in \u001b[0;36m_get_sequential_output\u001b[0;34m(self, iterable)\u001b[0m\n\u001b[1;32m   1845\u001b[0m                 \u001b[0mself\u001b[0m\u001b[0;34m.\u001b[0m\u001b[0mn_dispatched_batches\u001b[0m \u001b[0;34m+=\u001b[0m \u001b[0;36m1\u001b[0m\u001b[0;34m\u001b[0m\u001b[0;34m\u001b[0m\u001b[0m\n\u001b[1;32m   1846\u001b[0m                 \u001b[0mself\u001b[0m\u001b[0;34m.\u001b[0m\u001b[0mn_dispatched_tasks\u001b[0m \u001b[0;34m+=\u001b[0m \u001b[0;36m1\u001b[0m\u001b[0;34m\u001b[0m\u001b[0;34m\u001b[0m\u001b[0m\n\u001b[0;32m-> 1847\u001b[0;31m                 \u001b[0mres\u001b[0m \u001b[0;34m=\u001b[0m \u001b[0mfunc\u001b[0m\u001b[0;34m(\u001b[0m\u001b[0;34m*\u001b[0m\u001b[0margs\u001b[0m\u001b[0;34m,\u001b[0m \u001b[0;34m**\u001b[0m\u001b[0mkwargs\u001b[0m\u001b[0;34m)\u001b[0m\u001b[0;34m\u001b[0m\u001b[0;34m\u001b[0m\u001b[0m\n\u001b[0m\u001b[1;32m   1848\u001b[0m                 \u001b[0mself\u001b[0m\u001b[0;34m.\u001b[0m\u001b[0mn_completed_tasks\u001b[0m \u001b[0;34m+=\u001b[0m \u001b[0;36m1\u001b[0m\u001b[0;34m\u001b[0m\u001b[0;34m\u001b[0m\u001b[0m\n\u001b[1;32m   1849\u001b[0m                 \u001b[0mself\u001b[0m\u001b[0;34m.\u001b[0m\u001b[0mprint_progress\u001b[0m\u001b[0;34m(\u001b[0m\u001b[0;34m)\u001b[0m\u001b[0;34m\u001b[0m\u001b[0;34m\u001b[0m\u001b[0m\n",
            "\u001b[0;32m/usr/local/lib/python3.11/dist-packages/sklearn/utils/parallel.py\u001b[0m in \u001b[0;36m__call__\u001b[0;34m(self, *args, **kwargs)\u001b[0m\n\u001b[1;32m    137\u001b[0m             \u001b[0mconfig\u001b[0m \u001b[0;34m=\u001b[0m \u001b[0;34m{\u001b[0m\u001b[0;34m}\u001b[0m\u001b[0;34m\u001b[0m\u001b[0;34m\u001b[0m\u001b[0m\n\u001b[1;32m    138\u001b[0m         \u001b[0;32mwith\u001b[0m \u001b[0mconfig_context\u001b[0m\u001b[0;34m(\u001b[0m\u001b[0;34m**\u001b[0m\u001b[0mconfig\u001b[0m\u001b[0;34m)\u001b[0m\u001b[0;34m:\u001b[0m\u001b[0;34m\u001b[0m\u001b[0;34m\u001b[0m\u001b[0m\n\u001b[0;32m--> 139\u001b[0;31m             \u001b[0;32mreturn\u001b[0m \u001b[0mself\u001b[0m\u001b[0;34m.\u001b[0m\u001b[0mfunction\u001b[0m\u001b[0;34m(\u001b[0m\u001b[0;34m*\u001b[0m\u001b[0margs\u001b[0m\u001b[0;34m,\u001b[0m \u001b[0;34m**\u001b[0m\u001b[0mkwargs\u001b[0m\u001b[0;34m)\u001b[0m\u001b[0;34m\u001b[0m\u001b[0;34m\u001b[0m\u001b[0m\n\u001b[0m\u001b[1;32m    140\u001b[0m \u001b[0;34m\u001b[0m\u001b[0m\n\u001b[1;32m    141\u001b[0m \u001b[0;34m\u001b[0m\u001b[0m\n",
            "\u001b[0;32m/usr/local/lib/python3.11/dist-packages/sklearn/ensemble/_forest.py\u001b[0m in \u001b[0;36m_parallel_build_trees\u001b[0;34m(tree, bootstrap, X, y, sample_weight, tree_idx, n_trees, verbose, class_weight, n_samples_bootstrap, missing_values_in_feature_mask)\u001b[0m\n\u001b[1;32m    187\u001b[0m             \u001b[0mcurr_sample_weight\u001b[0m \u001b[0;34m*=\u001b[0m \u001b[0mcompute_sample_weight\u001b[0m\u001b[0;34m(\u001b[0m\u001b[0;34m\"balanced\"\u001b[0m\u001b[0;34m,\u001b[0m \u001b[0my\u001b[0m\u001b[0;34m,\u001b[0m \u001b[0mindices\u001b[0m\u001b[0;34m=\u001b[0m\u001b[0mindices\u001b[0m\u001b[0;34m)\u001b[0m\u001b[0;34m\u001b[0m\u001b[0;34m\u001b[0m\u001b[0m\n\u001b[1;32m    188\u001b[0m \u001b[0;34m\u001b[0m\u001b[0m\n\u001b[0;32m--> 189\u001b[0;31m         tree._fit(\n\u001b[0m\u001b[1;32m    190\u001b[0m             \u001b[0mX\u001b[0m\u001b[0;34m,\u001b[0m\u001b[0;34m\u001b[0m\u001b[0;34m\u001b[0m\u001b[0m\n\u001b[1;32m    191\u001b[0m             \u001b[0my\u001b[0m\u001b[0;34m,\u001b[0m\u001b[0;34m\u001b[0m\u001b[0;34m\u001b[0m\u001b[0m\n",
            "\u001b[0;32m/usr/local/lib/python3.11/dist-packages/sklearn/tree/_classes.py\u001b[0m in \u001b[0;36m_fit\u001b[0;34m(self, X, y, sample_weight, check_input, missing_values_in_feature_mask)\u001b[0m\n\u001b[1;32m    470\u001b[0m             )\n\u001b[1;32m    471\u001b[0m \u001b[0;34m\u001b[0m\u001b[0m\n\u001b[0;32m--> 472\u001b[0;31m         \u001b[0mbuilder\u001b[0m\u001b[0;34m.\u001b[0m\u001b[0mbuild\u001b[0m\u001b[0;34m(\u001b[0m\u001b[0mself\u001b[0m\u001b[0;34m.\u001b[0m\u001b[0mtree_\u001b[0m\u001b[0;34m,\u001b[0m \u001b[0mX\u001b[0m\u001b[0;34m,\u001b[0m \u001b[0my\u001b[0m\u001b[0;34m,\u001b[0m \u001b[0msample_weight\u001b[0m\u001b[0;34m,\u001b[0m \u001b[0mmissing_values_in_feature_mask\u001b[0m\u001b[0;34m)\u001b[0m\u001b[0;34m\u001b[0m\u001b[0;34m\u001b[0m\u001b[0m\n\u001b[0m\u001b[1;32m    473\u001b[0m \u001b[0;34m\u001b[0m\u001b[0m\n\u001b[1;32m    474\u001b[0m         \u001b[0;32mif\u001b[0m \u001b[0mself\u001b[0m\u001b[0;34m.\u001b[0m\u001b[0mn_outputs_\u001b[0m \u001b[0;34m==\u001b[0m \u001b[0;36m1\u001b[0m \u001b[0;32mand\u001b[0m \u001b[0mis_classifier\u001b[0m\u001b[0;34m(\u001b[0m\u001b[0mself\u001b[0m\u001b[0;34m)\u001b[0m\u001b[0;34m:\u001b[0m\u001b[0;34m\u001b[0m\u001b[0;34m\u001b[0m\u001b[0m\n",
            "\u001b[0;31mKeyboardInterrupt\u001b[0m: "
          ]
        }
      ],
      "source": [
        "def train_random_forest(X_train, X_test, y_train, y_test):\n",
        "    \"\"\"\n",
        "    Train and evaluate a Random Forest model\n",
        "    Parameters:\n",
        "        X_train, X_test: Training and test features\n",
        "        y_train, y_test: Training and test labels\n",
        "\n",
        "    Returns:\n",
        "        rf: Trained Random Forest model\n",
        "        metrics: Dictionary containing evaluation metrics\n",
        "    \"\"\"\n",
        "    scaler = StandardScaler()\n",
        "\n",
        "    X_train = scaler.fit_transform(X_train)\n",
        "    X_test = scaler.transform(X_test)\n",
        "    rf = RandomForestClassifier(random_state=42)\n",
        "    rf.fit(X_train, y_train)\n",
        "\n",
        "    y_pred = rf.predict(X_test)\n",
        "    y_pred_proba = rf.predict_proba(X_test)[:,1]\n",
        "\n",
        "    metrics = {\n",
        "        'accuracy': accuracy_score(y_test, y_pred),\n",
        "        'precision': precision_score(y_test, y_pred),\n",
        "        'recall': recall_score(y_test, y_pred),\n",
        "        'f1': f1_score(y_test, y_pred),\n",
        "        'roc_auc': roc_auc_score(y_test, y_pred_proba)\n",
        "    }\n",
        "\n",
        "    print(f\"Accuracy: {metrics['accuracy']:.4f}\")\n",
        "    print(f\"Precision: {metrics['precision']:.4f}\")\n",
        "    print(f\"Recall: {metrics['recall']:.4f}\")\n",
        "    print(f\"F1 Score: {metrics['f1']:.4f}\")\n",
        "    print(f\"ROC AUC Score: {metrics['roc_auc']:.4f}\")\n",
        "    print(\"\\nClassification Report:\")\n",
        "    print(classification_report(y_test, y_pred))\n",
        "    print(\"----------------------------------------\")\n",
        "\n",
        "    return rf, metrics\n",
        "\n",
        "rf_metrics_dict = {}\n",
        "\n",
        "print(\"Training Random Forest on Count-Based Features...\")\n",
        "rf_model1, rf_metrics_dict['count'] = train_random_forest(X_resampled_count,X_test_count,y_resampled_count, y_test)\n",
        "\n",
        "print(\"Training Random Forest on position...\")\n",
        "rf_model2, rf_metrics_dict['position'] = train_logistic_regression(X_resampled_position,X_test_position,y_resampled_position, y_test)\n",
        "\n",
        "print(\"Training Random Forest on group...\")\n",
        "rf_model3, rf_metrics_dict['group'] = train_logistic_regression(X_resampled_group,X_test_group,y_resampled_group, y_test)"
      ]
    },
    {
      "cell_type": "code",
      "execution_count": null,
      "metadata": {
        "id": "l03om1Pa9jij"
      },
      "outputs": [],
      "source": [
        "def train_xgboost(X_train, X_test, y_train, y_test):\n",
        "    \"\"\"\n",
        "    Train and evaluate an XGBoost model\n",
        "    Parameters:\n",
        "        X_train, X_test: Training and test features\n",
        "        y_train, y_test: Training and test labels\n",
        "\n",
        "    Returns:\n",
        "        xgb: Trained XGBoost model\n",
        "        metrics: Dictionary containing evaluation metrics\n",
        "    \"\"\"\n",
        "\n",
        "    xgb = XGBClassifier(random_state=42, eval_metric='logloss')\n",
        "    xgb.fit(X_train, y_train)\n",
        "\n",
        "    y_pred = xgb.predict(X_test)\n",
        "    y_pred_proba = xgb.predict_proba(X_test)[:,1]\n",
        "\n",
        "    metrics = {\n",
        "        'accuracy': accuracy_score(y_test, y_pred),\n",
        "        'precision': precision_score(y_test, y_pred),\n",
        "        'recall': recall_score(y_test, y_pred),\n",
        "        'f1': f1_score(y_test, y_pred),\n",
        "        'roc_auc': roc_auc_score(y_test, y_pred_proba)\n",
        "    }\n",
        "\n",
        "    print(f\"Accuracy: {metrics['accuracy']:.4f}\")\n",
        "    print(f\"Precision: {metrics['precision']:.4f}\")\n",
        "    print(f\"Recall: {metrics['recall']:.4f}\")\n",
        "    print(f\"F1 Score: {metrics['f1']:.4f}\")\n",
        "    print(f\"ROC AUC Score: {metrics['roc_auc']:.4f}\")\n",
        "    print(\"\\nClassification Report:\")\n",
        "    print(classification_report(y_test, y_pred))\n",
        "    print(\"----------------------------------------\")\n",
        "\n",
        "    return xgb, metrics\n",
        "\n",
        "xgb_metrics_dict = {}\n",
        "\n",
        "print(\"Training XGBoost on Count-Based Features...\")\n",
        "xgb_model1, xgb_metrics_dict['count'] = train_xgboost(X_resampled_count,X_test_count,y_resampled_count, y_test)\n",
        "\n",
        "print(\"Training XGBoost on position...\")\n",
        "xgb_model2, xgb_metrics_dict['position'] = train_logistic_regression(X_resampled_position,X_test_position,y_resampled_position, y_test)\n",
        "\n",
        "print(\"Training XGBoost on group...\")\n",
        "xgb_model3, xgb_metrics_dict['group'] = train_logistic_regression(X_resampled_group,X_test_group,y_resampled_group, y_test)\n"
      ]
    },
    {
      "cell_type": "code",
      "execution_count": null,
      "metadata": {
        "colab": {
          "base_uri": "https://localhost:8080/",
          "height": 1000
        },
        "id": "r6aN_byr9jik",
        "outputId": "6f59daa1-68e4-4f26-db63-d0bf950c67d3"
      },
      "outputs": [
        {
          "output_type": "stream",
          "name": "stdout",
          "text": [
            "Training CatBoost on Count-Based Features...\n",
            "----------------------------------------\n",
            "Accuracy: 0.5875\n",
            "Precision: 0.2554\n",
            "Recall: 0.5365\n",
            "F1 Score: 0.3460\n",
            "ROC AUC Score: 0.6011\n",
            "\n",
            "Classification Report:\n",
            "              precision    recall  f1-score   support\n",
            "\n",
            "           0       0.84      0.60      0.70     20759\n",
            "           1       0.26      0.54      0.35      5301\n",
            "\n",
            "    accuracy                           0.59     26060\n",
            "   macro avg       0.55      0.57      0.52     26060\n",
            "weighted avg       0.72      0.59      0.63     26060\n",
            "\n",
            "\n",
            "Top 10 Feature Importance:\n",
            "AD_DGNS_encoded: 78.7749\n",
            "STUS_CD_encoded: 9.2321\n",
            "TYPE_ADM_encoded: 6.8183\n",
            "num_diagnoses: 2.8274\n",
            "SRC_ADMS_encoded: 0.8454\n",
            "admit_dayofweek: 0.7041\n",
            "discharge_month: 0.5913\n",
            "STAY_DRG_CD: 0.2065\n",
            "num_procedures: 0.0000\n",
            "LENGTH_OF_STAY: 0.0000\n",
            "Training CatBoost on position...\n",
            "----------------------------------------\n",
            "Accuracy: 0.6951\n",
            "Precision: 0.2922\n",
            "Recall: 0.3509\n",
            "F1 Score: 0.3189\n",
            "ROC AUC Score: 0.6252\n",
            "\n",
            "Classification Report:\n",
            "              precision    recall  f1-score   support\n",
            "\n",
            "           0       0.83      0.78      0.80     20759\n",
            "           1       0.29      0.35      0.32      5301\n",
            "\n",
            "    accuracy                           0.70     26060\n",
            "   macro avg       0.56      0.57      0.56     26060\n",
            "weighted avg       0.72      0.70      0.70     26060\n",
            "\n",
            "\n",
            "Top 10 Feature Importance:\n",
            "treatment_ratio: 37.0519\n",
            "primary_condition_treated: 34.2946\n",
            "AD_DGNS_encoded: 18.2291\n",
            "primary_diagnosis_encoded: 7.0998\n",
            "STAY_DRG_CD: 1.1631\n",
            "STUS_CD_encoded: 1.1212\n",
            "TYPE_ADM_encoded: 0.9074\n",
            "SRC_ADMS_encoded: 0.1022\n",
            "LENGTH_OF_STAY: 0.0308\n",
            "admit_dayofweek: 0.0000\n",
            "Training CatBoost on group...\n",
            "----------------------------------------\n",
            "Accuracy: 0.6154\n",
            "Precision: 0.2513\n",
            "Recall: 0.4499\n",
            "F1 Score: 0.3224\n",
            "ROC AUC Score: 0.5835\n",
            "\n",
            "Classification Report:\n",
            "              precision    recall  f1-score   support\n",
            "\n",
            "           0       0.82      0.66      0.73     20759\n",
            "           1       0.25      0.45      0.32      5301\n",
            "\n",
            "    accuracy                           0.62     26060\n",
            "   macro avg       0.54      0.55      0.53     26060\n",
            "weighted avg       0.71      0.62      0.65     26060\n",
            "\n",
            "\n",
            "Top 10 Feature Importance:\n",
            "AD_DGNS_encoded: 34.6162\n",
            "diag_code_I10: 13.1221\n",
            "diag_code_Z90: 7.3842\n",
            "diag_code_Z68: 5.7456\n",
            "diag_code_Z88: 4.9427\n",
            "diag_code_Z87: 4.7651\n",
            "diag_code_E78: 4.7641\n",
            "STUS_CD_encoded: 4.2792\n",
            "diag_code_Z79: 4.2747\n",
            "diag_code_nan: 3.9769\n",
            "\n",
            "Ensemble Model Evaluation:\n"
          ]
        },
        {
          "output_type": "error",
          "ename": "CatBoostError",
          "evalue": "catboost/libs/data/model_dataset_compatibility.cpp:81: At position 8 should be feature with name primary_condition_treated (found num_diagnoses).",
          "traceback": [
            "\u001b[0;31m---------------------------------------------------------------------------\u001b[0m",
            "\u001b[0;31mCatBoostError\u001b[0m                             Traceback (most recent call last)",
            "\u001b[0;32m<ipython-input-179-92db19b1722b>\u001b[0m in \u001b[0;36m<cell line: 0>\u001b[0;34m()\u001b[0m\n\u001b[1;32m    111\u001b[0m \u001b[0mprint\u001b[0m\u001b[0;34m(\u001b[0m\u001b[0;34m\"\\nEnsemble Model Evaluation:\"\u001b[0m\u001b[0;34m)\u001b[0m\u001b[0;34m\u001b[0m\u001b[0;34m\u001b[0m\u001b[0m\n\u001b[1;32m    112\u001b[0m \u001b[0mmodels\u001b[0m \u001b[0;34m=\u001b[0m \u001b[0;34m[\u001b[0m\u001b[0mcat_model1\u001b[0m\u001b[0;34m,\u001b[0m \u001b[0mcat_model2\u001b[0m\u001b[0;34m,\u001b[0m \u001b[0mcat_model3\u001b[0m\u001b[0;34m]\u001b[0m\u001b[0;34m\u001b[0m\u001b[0;34m\u001b[0m\u001b[0m\n\u001b[0;32m--> 113\u001b[0;31m \u001b[0my_ensemble_pred\u001b[0m\u001b[0;34m,\u001b[0m \u001b[0my_ensemble_pred_proba\u001b[0m \u001b[0;34m=\u001b[0m \u001b[0mensemble_predict\u001b[0m\u001b[0;34m(\u001b[0m\u001b[0mmodels\u001b[0m\u001b[0;34m,\u001b[0m \u001b[0mX_test_count\u001b[0m\u001b[0;34m)\u001b[0m  \u001b[0;31m# Using count features as base\u001b[0m\u001b[0;34m\u001b[0m\u001b[0;34m\u001b[0m\u001b[0m\n\u001b[0m\u001b[1;32m    114\u001b[0m \u001b[0;34m\u001b[0m\u001b[0m\n\u001b[1;32m    115\u001b[0m \u001b[0;31m# Calculate ensemble metrics\u001b[0m\u001b[0;34m\u001b[0m\u001b[0;34m\u001b[0m\u001b[0m\n",
            "\u001b[0;32m<ipython-input-179-92db19b1722b>\u001b[0m in \u001b[0;36mensemble_predict\u001b[0;34m(models, X_test)\u001b[0m\n\u001b[1;32m    103\u001b[0m     \u001b[0;32mimport\u001b[0m \u001b[0mnumpy\u001b[0m \u001b[0;32mas\u001b[0m \u001b[0mnp\u001b[0m\u001b[0;34m\u001b[0m\u001b[0;34m\u001b[0m\u001b[0m\n\u001b[1;32m    104\u001b[0m \u001b[0;34m\u001b[0m\u001b[0m\n\u001b[0;32m--> 105\u001b[0;31m     \u001b[0my_pred_probas\u001b[0m \u001b[0;34m=\u001b[0m \u001b[0mnp\u001b[0m\u001b[0;34m.\u001b[0m\u001b[0marray\u001b[0m\u001b[0;34m(\u001b[0m\u001b[0;34m[\u001b[0m\u001b[0mmodel\u001b[0m\u001b[0;34m.\u001b[0m\u001b[0mpredict_proba\u001b[0m\u001b[0;34m(\u001b[0m\u001b[0mX_test\u001b[0m\u001b[0;34m)\u001b[0m\u001b[0;34m[\u001b[0m\u001b[0;34m:\u001b[0m\u001b[0;34m,\u001b[0m \u001b[0;36m1\u001b[0m\u001b[0;34m]\u001b[0m \u001b[0;32mfor\u001b[0m \u001b[0mmodel\u001b[0m \u001b[0;32min\u001b[0m \u001b[0mmodels\u001b[0m\u001b[0;34m]\u001b[0m\u001b[0;34m)\u001b[0m\u001b[0;34m\u001b[0m\u001b[0;34m\u001b[0m\u001b[0m\n\u001b[0m\u001b[1;32m    106\u001b[0m     \u001b[0my_pred_proba\u001b[0m \u001b[0;34m=\u001b[0m \u001b[0mnp\u001b[0m\u001b[0;34m.\u001b[0m\u001b[0mmean\u001b[0m\u001b[0;34m(\u001b[0m\u001b[0my_pred_probas\u001b[0m\u001b[0;34m,\u001b[0m \u001b[0maxis\u001b[0m\u001b[0;34m=\u001b[0m\u001b[0;36m0\u001b[0m\u001b[0;34m)\u001b[0m\u001b[0;34m\u001b[0m\u001b[0;34m\u001b[0m\u001b[0m\n\u001b[1;32m    107\u001b[0m     \u001b[0my_pred\u001b[0m \u001b[0;34m=\u001b[0m \u001b[0;34m(\u001b[0m\u001b[0my_pred_proba\u001b[0m \u001b[0;34m>\u001b[0m \u001b[0;36m0.5\u001b[0m\u001b[0;34m)\u001b[0m\u001b[0;34m.\u001b[0m\u001b[0mastype\u001b[0m\u001b[0;34m(\u001b[0m\u001b[0mint\u001b[0m\u001b[0;34m)\u001b[0m\u001b[0;34m\u001b[0m\u001b[0;34m\u001b[0m\u001b[0m\n",
            "\u001b[0;32m<ipython-input-179-92db19b1722b>\u001b[0m in \u001b[0;36m<listcomp>\u001b[0;34m(.0)\u001b[0m\n\u001b[1;32m    103\u001b[0m     \u001b[0;32mimport\u001b[0m \u001b[0mnumpy\u001b[0m \u001b[0;32mas\u001b[0m \u001b[0mnp\u001b[0m\u001b[0;34m\u001b[0m\u001b[0;34m\u001b[0m\u001b[0m\n\u001b[1;32m    104\u001b[0m \u001b[0;34m\u001b[0m\u001b[0m\n\u001b[0;32m--> 105\u001b[0;31m     \u001b[0my_pred_probas\u001b[0m \u001b[0;34m=\u001b[0m \u001b[0mnp\u001b[0m\u001b[0;34m.\u001b[0m\u001b[0marray\u001b[0m\u001b[0;34m(\u001b[0m\u001b[0;34m[\u001b[0m\u001b[0mmodel\u001b[0m\u001b[0;34m.\u001b[0m\u001b[0mpredict_proba\u001b[0m\u001b[0;34m(\u001b[0m\u001b[0mX_test\u001b[0m\u001b[0;34m)\u001b[0m\u001b[0;34m[\u001b[0m\u001b[0;34m:\u001b[0m\u001b[0;34m,\u001b[0m \u001b[0;36m1\u001b[0m\u001b[0;34m]\u001b[0m \u001b[0;32mfor\u001b[0m \u001b[0mmodel\u001b[0m \u001b[0;32min\u001b[0m \u001b[0mmodels\u001b[0m\u001b[0;34m]\u001b[0m\u001b[0;34m)\u001b[0m\u001b[0;34m\u001b[0m\u001b[0;34m\u001b[0m\u001b[0m\n\u001b[0m\u001b[1;32m    106\u001b[0m     \u001b[0my_pred_proba\u001b[0m \u001b[0;34m=\u001b[0m \u001b[0mnp\u001b[0m\u001b[0;34m.\u001b[0m\u001b[0mmean\u001b[0m\u001b[0;34m(\u001b[0m\u001b[0my_pred_probas\u001b[0m\u001b[0;34m,\u001b[0m \u001b[0maxis\u001b[0m\u001b[0;34m=\u001b[0m\u001b[0;36m0\u001b[0m\u001b[0;34m)\u001b[0m\u001b[0;34m\u001b[0m\u001b[0;34m\u001b[0m\u001b[0m\n\u001b[1;32m    107\u001b[0m     \u001b[0my_pred\u001b[0m \u001b[0;34m=\u001b[0m \u001b[0;34m(\u001b[0m\u001b[0my_pred_proba\u001b[0m \u001b[0;34m>\u001b[0m \u001b[0;36m0.5\u001b[0m\u001b[0;34m)\u001b[0m\u001b[0;34m.\u001b[0m\u001b[0mastype\u001b[0m\u001b[0;34m(\u001b[0m\u001b[0mint\u001b[0m\u001b[0;34m)\u001b[0m\u001b[0;34m\u001b[0m\u001b[0;34m\u001b[0m\u001b[0m\n",
            "\u001b[0;32m/usr/local/lib/python3.11/dist-packages/catboost/core.py\u001b[0m in \u001b[0;36mpredict_proba\u001b[0;34m(self, X, ntree_start, ntree_end, thread_count, verbose, task_type)\u001b[0m\n\u001b[1;32m   5349\u001b[0m                 \u001b[0;32mwith\u001b[0m \u001b[0mprobability\u001b[0m \u001b[0;32mfor\u001b[0m \u001b[0mevery\u001b[0m \u001b[0;32mclass\u001b[0m \u001b[0;32mfor\u001b[0m \u001b[0meach\u001b[0m \u001b[0mobject\u001b[0m\u001b[0;34m.\u001b[0m\u001b[0;34m\u001b[0m\u001b[0;34m\u001b[0m\u001b[0m\n\u001b[1;32m   5350\u001b[0m         \"\"\"\n\u001b[0;32m-> 5351\u001b[0;31m         \u001b[0;32mreturn\u001b[0m \u001b[0mself\u001b[0m\u001b[0;34m.\u001b[0m\u001b[0m_predict\u001b[0m\u001b[0;34m(\u001b[0m\u001b[0mX\u001b[0m\u001b[0;34m,\u001b[0m \u001b[0;34m'Probability'\u001b[0m\u001b[0;34m,\u001b[0m \u001b[0mntree_start\u001b[0m\u001b[0;34m,\u001b[0m \u001b[0mntree_end\u001b[0m\u001b[0;34m,\u001b[0m \u001b[0mthread_count\u001b[0m\u001b[0;34m,\u001b[0m \u001b[0mverbose\u001b[0m\u001b[0;34m,\u001b[0m \u001b[0;34m'predict_proba'\u001b[0m\u001b[0;34m,\u001b[0m \u001b[0mtask_type\u001b[0m\u001b[0;34m)\u001b[0m\u001b[0;34m\u001b[0m\u001b[0;34m\u001b[0m\u001b[0m\n\u001b[0m\u001b[1;32m   5352\u001b[0m \u001b[0;34m\u001b[0m\u001b[0m\n\u001b[1;32m   5353\u001b[0m     \u001b[0;32mdef\u001b[0m \u001b[0mpredict_log_proba\u001b[0m\u001b[0;34m(\u001b[0m\u001b[0mself\u001b[0m\u001b[0;34m,\u001b[0m \u001b[0mdata\u001b[0m\u001b[0;34m,\u001b[0m \u001b[0mntree_start\u001b[0m\u001b[0;34m=\u001b[0m\u001b[0;36m0\u001b[0m\u001b[0;34m,\u001b[0m \u001b[0mntree_end\u001b[0m\u001b[0;34m=\u001b[0m\u001b[0;36m0\u001b[0m\u001b[0;34m,\u001b[0m \u001b[0mthread_count\u001b[0m\u001b[0;34m=\u001b[0m\u001b[0;34m-\u001b[0m\u001b[0;36m1\u001b[0m\u001b[0;34m,\u001b[0m \u001b[0mverbose\u001b[0m\u001b[0;34m=\u001b[0m\u001b[0;32mNone\u001b[0m\u001b[0;34m,\u001b[0m \u001b[0mtask_type\u001b[0m\u001b[0;34m=\u001b[0m\u001b[0;34m\"CPU\"\u001b[0m\u001b[0;34m)\u001b[0m\u001b[0;34m:\u001b[0m\u001b[0;34m\u001b[0m\u001b[0;34m\u001b[0m\u001b[0m\n",
            "\u001b[0;32m/usr/local/lib/python3.11/dist-packages/catboost/core.py\u001b[0m in \u001b[0;36m_predict\u001b[0;34m(self, data, prediction_type, ntree_start, ntree_end, thread_count, verbose, parent_method_name, task_type)\u001b[0m\n\u001b[1;32m   2621\u001b[0m         \u001b[0mself\u001b[0m\u001b[0;34m.\u001b[0m\u001b[0m_validate_prediction_type\u001b[0m\u001b[0;34m(\u001b[0m\u001b[0mprediction_type\u001b[0m\u001b[0;34m)\u001b[0m\u001b[0;34m\u001b[0m\u001b[0;34m\u001b[0m\u001b[0m\n\u001b[1;32m   2622\u001b[0m \u001b[0;34m\u001b[0m\u001b[0m\n\u001b[0;32m-> 2623\u001b[0;31m         \u001b[0mpredictions\u001b[0m \u001b[0;34m=\u001b[0m \u001b[0mself\u001b[0m\u001b[0;34m.\u001b[0m\u001b[0m_base_predict\u001b[0m\u001b[0;34m(\u001b[0m\u001b[0mdata\u001b[0m\u001b[0;34m,\u001b[0m \u001b[0mprediction_type\u001b[0m\u001b[0;34m,\u001b[0m \u001b[0mntree_start\u001b[0m\u001b[0;34m,\u001b[0m \u001b[0mntree_end\u001b[0m\u001b[0;34m,\u001b[0m \u001b[0mthread_count\u001b[0m\u001b[0;34m,\u001b[0m \u001b[0mverbose\u001b[0m\u001b[0;34m,\u001b[0m \u001b[0mtask_type\u001b[0m\u001b[0;34m)\u001b[0m\u001b[0;34m\u001b[0m\u001b[0;34m\u001b[0m\u001b[0m\n\u001b[0m\u001b[1;32m   2624\u001b[0m         \u001b[0;32mreturn\u001b[0m \u001b[0mpredictions\u001b[0m\u001b[0;34m[\u001b[0m\u001b[0;36m0\u001b[0m\u001b[0;34m]\u001b[0m \u001b[0;32mif\u001b[0m \u001b[0mdata_is_single_object\u001b[0m \u001b[0;32melse\u001b[0m \u001b[0mpredictions\u001b[0m\u001b[0;34m\u001b[0m\u001b[0;34m\u001b[0m\u001b[0m\n\u001b[1;32m   2625\u001b[0m \u001b[0;34m\u001b[0m\u001b[0m\n",
            "\u001b[0;32m/usr/local/lib/python3.11/dist-packages/catboost/core.py\u001b[0m in \u001b[0;36m_base_predict\u001b[0;34m(self, pool, prediction_type, ntree_start, ntree_end, thread_count, verbose, task_type)\u001b[0m\n\u001b[1;32m   1840\u001b[0m \u001b[0;34m\u001b[0m\u001b[0m\n\u001b[1;32m   1841\u001b[0m     \u001b[0;32mdef\u001b[0m \u001b[0m_base_predict\u001b[0m\u001b[0;34m(\u001b[0m\u001b[0mself\u001b[0m\u001b[0;34m,\u001b[0m \u001b[0mpool\u001b[0m\u001b[0;34m,\u001b[0m \u001b[0mprediction_type\u001b[0m\u001b[0;34m,\u001b[0m \u001b[0mntree_start\u001b[0m\u001b[0;34m,\u001b[0m \u001b[0mntree_end\u001b[0m\u001b[0;34m,\u001b[0m \u001b[0mthread_count\u001b[0m\u001b[0;34m,\u001b[0m \u001b[0mverbose\u001b[0m\u001b[0;34m,\u001b[0m \u001b[0mtask_type\u001b[0m\u001b[0;34m)\u001b[0m\u001b[0;34m:\u001b[0m\u001b[0;34m\u001b[0m\u001b[0;34m\u001b[0m\u001b[0m\n\u001b[0;32m-> 1842\u001b[0;31m         \u001b[0;32mreturn\u001b[0m \u001b[0mself\u001b[0m\u001b[0;34m.\u001b[0m\u001b[0m_object\u001b[0m\u001b[0;34m.\u001b[0m\u001b[0m_base_predict\u001b[0m\u001b[0;34m(\u001b[0m\u001b[0mpool\u001b[0m\u001b[0;34m,\u001b[0m \u001b[0mprediction_type\u001b[0m\u001b[0;34m,\u001b[0m \u001b[0mntree_start\u001b[0m\u001b[0;34m,\u001b[0m \u001b[0mntree_end\u001b[0m\u001b[0;34m,\u001b[0m \u001b[0mthread_count\u001b[0m\u001b[0;34m,\u001b[0m \u001b[0mverbose\u001b[0m\u001b[0;34m,\u001b[0m \u001b[0mtask_type\u001b[0m\u001b[0;34m)\u001b[0m\u001b[0;34m\u001b[0m\u001b[0;34m\u001b[0m\u001b[0m\n\u001b[0m\u001b[1;32m   1843\u001b[0m \u001b[0;34m\u001b[0m\u001b[0m\n\u001b[1;32m   1844\u001b[0m     \u001b[0;32mdef\u001b[0m \u001b[0m_base_virtual_ensembles_predict\u001b[0m\u001b[0;34m(\u001b[0m\u001b[0mself\u001b[0m\u001b[0;34m,\u001b[0m \u001b[0mpool\u001b[0m\u001b[0;34m,\u001b[0m \u001b[0mprediction_type\u001b[0m\u001b[0;34m,\u001b[0m \u001b[0mntree_end\u001b[0m\u001b[0;34m,\u001b[0m \u001b[0mvirtual_ensembles_count\u001b[0m\u001b[0;34m,\u001b[0m \u001b[0mthread_count\u001b[0m\u001b[0;34m,\u001b[0m \u001b[0mverbose\u001b[0m\u001b[0;34m)\u001b[0m\u001b[0;34m:\u001b[0m\u001b[0;34m\u001b[0m\u001b[0;34m\u001b[0m\u001b[0m\n",
            "\u001b[0;32m_catboost.pyx\u001b[0m in \u001b[0;36m_catboost._CatBoost._base_predict\u001b[0;34m()\u001b[0m\n",
            "\u001b[0;32m_catboost.pyx\u001b[0m in \u001b[0;36m_catboost._CatBoost._base_predict\u001b[0;34m()\u001b[0m\n",
            "\u001b[0;31mCatBoostError\u001b[0m: catboost/libs/data/model_dataset_compatibility.cpp:81: At position 8 should be feature with name primary_condition_treated (found num_diagnoses)."
          ]
        }
      ],
      "source": [
        "from catboost import CatBoostClassifier, Pool\n",
        "from sklearn.model_selection import StratifiedKFold\n",
        "def train_catboost(X_train, X_test, y_train, y_test):\n",
        "    \"\"\"\n",
        "    Train and evaluate a CatBoost model with optimized parameters\n",
        "    Parameters:\n",
        "        X_train, X_test: Training and test features\n",
        "        y_train, y_test: Training and test labels\n",
        "\n",
        "    Returns:\n",
        "        cat: Trained CatBoost model\n",
        "        metrics: Dictionary containing evaluation metrics\n",
        "    \"\"\"\n",
        "\n",
        "    class_counts = np.bincount(y_train)\n",
        "    total_samples = len(y_train)\n",
        "    class_weights = {i: total_samples / (len(class_counts) * count) for i, count in enumerate(class_counts)}\n",
        "\n",
        "    # Create evaluation pool with correct weights\n",
        "    train_pool = Pool(X_train, y_train, weight=np.array([class_weights[y] for y in y_train]))\n",
        "    eval_pool = Pool(X_test, y_test)\n",
        "\n",
        "    # Optimized parameters for CatBoost\n",
        "    params = {\n",
        "        'iterations': 1000,\n",
        "        'learning_rate': 0.03,\n",
        "        'depth': 6,\n",
        "        'l2_leaf_reg': 3,\n",
        "        'bootstrap_type': 'Bayesian',\n",
        "        'random_strength': 1,\n",
        "        'random_seed': 42,\n",
        "        'bagging_temperature': 1,\n",
        "        'od_type': 'Iter',\n",
        "        'od_wait': 50,\n",
        "        'verbose': 0,\n",
        "        'loss_function': 'Logloss',\n",
        "        'eval_metric': 'AUC',\n",
        "        'task_type': 'CPU',  # Change to 'GPU' if available\n",
        "        'auto_class_weights': 'Balanced'\n",
        "    }\n",
        "\n",
        "    cat = CatBoostClassifier(**params)\n",
        "    cat.fit(train_pool, eval_set=eval_pool, use_best_model=True, early_stopping_rounds=50)\n",
        "\n",
        "    feature_importance = cat.get_feature_importance()\n",
        "    feature_names = X_train.columns if hasattr(X_train, 'columns') else [f\"feature_{i}\" for i in range(X_train.shape[1])]\n",
        "\n",
        "    y_pred = cat.predict(X_test)\n",
        "    y_pred_proba = cat.predict_proba(X_test)[:,1]\n",
        "\n",
        "    metrics = {\n",
        "        'accuracy': accuracy_score(y_test, y_pred),\n",
        "        'precision': precision_score(y_test, y_pred),\n",
        "        'recall': recall_score(y_test, y_pred),\n",
        "        'f1': f1_score(y_test, y_pred),\n",
        "        'roc_auc': roc_auc_score(y_test, y_pred_proba)\n",
        "    }\n",
        "\n",
        "    print(f\"Accuracy: {metrics['accuracy']:.4f}\")\n",
        "    print(f\"Precision: {metrics['precision']:.4f}\")\n",
        "    print(f\"Recall: {metrics['recall']:.4f}\")\n",
        "    print(f\"F1 Score: {metrics['f1']:.4f}\")\n",
        "    print(f\"ROC AUC Score: {metrics['roc_auc']:.4f}\")\n",
        "    print(\"\\nClassification Report:\")\n",
        "    print(classification_report(y_test, y_pred))\n",
        "    print(\"----------------------------------------\")\n",
        "\n",
        "    print(\"\\nTop 10 Feature Importance:\")\n",
        "    sorted_idx = np.argsort(feature_importance)[::-1]\n",
        "    for i in range(min(10, len(feature_names))):\n",
        "        print(f\"{feature_names[sorted_idx[i]]}: {feature_importance[sorted_idx[i]]:.4f}\")\n",
        "\n",
        "    return cat, metrics\n",
        "\n",
        "cat_metrics_dict = {}\n",
        "\n",
        "print(\"Training CatBoost on Count-Based Features...\")\n",
        "cat_model1, cat_metrics_dict['count'] = train_catboost(X_resampled_count, X_test_count, y_resampled_count, y_test)\n",
        "\n",
        "print(\"Training CatBoost on position...\")\n",
        "cat_model2, cat_metrics_dict['position'] = train_catboost(X_resampled_position, X_test_position, y_resampled_position, y_test)\n",
        "\n",
        "print(\"Training CatBoost on group...\")\n",
        "cat_model3, cat_metrics_dict['group'] = train_catboost(X_resampled_group, X_test_group, y_resampled_group, y_test)\n"
      ]
    },
    {
      "cell_type": "code",
      "source": [
        "def ensemble_predict(models, X_test):\n",
        "    \"\"\"\n",
        "    Create an ensemble prediction from multiple models\n",
        "    \"\"\"\n",
        "    import numpy as np\n",
        "\n",
        "    y_pred_probas = np.array([model.predict_proba(X_test)[:, 1] for model in models])\n",
        "    y_pred_proba = np.mean(y_pred_probas, axis=0)\n",
        "    y_pred = (y_pred_proba > 0.5).astype(int)\n",
        "    return y_pred, y_pred_proba\n",
        "\n",
        "# Ensemble prediction\n",
        "print(\"\\nEnsemble Model Evaluation:\")\n",
        "models = [cat_model1, cat_model2, cat_model3]\n",
        "y_ensemble_pred, y_ensemble_pred_proba = ensemble_predict(models, X_test_count)  # Using count features as base\n",
        "\n",
        "# Calculate ensemble metrics\n",
        "ensemble_metrics = {\n",
        "    'accuracy': accuracy_score(y_test, y_ensemble_pred),\n",
        "    'precision': precision_score(y_test, y_ensemble_pred),\n",
        "    'recall': recall_score(y_test, y_ensemble_pred),\n",
        "    'f1': f1_score(y_test, y_ensemble_pred),\n",
        "    'roc_auc': roc_auc_score(y_test, y_ensemble_pred_proba)\n",
        "}\n",
        "\n",
        "print(\"----------------------------------------\")\n",
        "print(f\"Ensemble Accuracy: {ensemble_metrics['accuracy']:.4f}\")\n",
        "print(f\"Ensemble Precision: {ensemble_metrics['precision']:.4f}\")\n",
        "print(f\"Ensemble Recall: {ensemble_metrics['recall']:.4f}\")\n",
        "print(f\"Ensemble F1 Score: {ensemble_metrics['f1']:.4f}\")\n",
        "print(f\"Ensemble ROC AUC Score: {ensemble_metrics['roc_auc']:.4f}\")\n",
        "print(\"\\nEnsemble Classification Report:\")\n",
        "print(classification_report(y_test, y_ensemble_pred))"
      ],
      "metadata": {
        "id": "61jo2kPv5ZIO"
      },
      "execution_count": null,
      "outputs": []
    },
    {
      "cell_type": "code",
      "execution_count": null,
      "metadata": {
        "id": "qvitQY8Y9jil"
      },
      "outputs": [],
      "source": [
        "def train_knn(X_train, X_test, y_train, y_test):\n",
        "    \"\"\"\n",
        "    Train and evaluate a K-Nearest Neighbors model\n",
        "    Parameters:\n",
        "        X_train, X_test: Training and test features\n",
        "        y_train, y_test: Training and test labels\n",
        "\n",
        "    Returns:\n",
        "        knn: Trained KNN model\n",
        "        metrics: Dictionary containing evaluation metrics\n",
        "    \"\"\"\n",
        "    scaler = StandardScaler()\n",
        "\n",
        "    X_train_scaled = scaler.fit_transform(X_train)\n",
        "    X_test_scaled = scaler.transform(X_test)\n",
        "\n",
        "    knn = KNeighborsClassifier()\n",
        "    knn.fit(X_train, y_train)\n",
        "\n",
        "    y_pred = knn.predict(X_test)\n",
        "    y_pred_proba = knn.predict_proba(X_test)[:,1]\n",
        "\n",
        "    metrics = {\n",
        "        'accuracy': accuracy_score(y_test, y_pred),\n",
        "        'precision': precision_score(y_test, y_pred),\n",
        "        'recall': recall_score(y_test, y_pred),\n",
        "        'f1': f1_score(y_test, y_pred),\n",
        "        'roc_auc': roc_auc_score(y_test, y_pred_proba)\n",
        "    }\n",
        "\n",
        "    print(f\"Accuracy: {metrics['accuracy']:.4f}\")\n",
        "    print(f\"Precision: {metrics['precision']:.4f}\")\n",
        "    print(f\"Recall: {metrics['recall']:.4f}\")\n",
        "    print(f\"F1 Score: {metrics['f1']:.4f}\")\n",
        "    print(f\"ROC AUC Score: {metrics['roc_auc']:.4f}\")\n",
        "    print(\"\\nClassification Report:\")\n",
        "    print(classification_report(y_test, y_pred))\n",
        "    print(\"----------------------------------------\")\n",
        "\n",
        "    return knn, metrics\n",
        "\n",
        "knn_metrics_dict = {}\n",
        "\n",
        "print(\"Training KNN on Count-Based Features...\")\n",
        "knn_model1, knn_metrics_dict['count'] = train_knn(X_resampled_count,X_test_count,y_resampled_count, y_test)\n",
        "\n",
        "print(\"Training KNN on position...\")\n",
        "knn_model2, knn_metrics_dict['position'] = train_logistic_regression(X_resampled_position,X_test_position,y_resampled_position, y_test)\n",
        "\n",
        "print(\"Training KNN on group...\")\n",
        "knn_model3, knn_metrics_dict['count'] = train_logistic_regression(X_resampled_group,X_test_group,y_resampled_group, y_test)\n"
      ]
    },
    {
      "cell_type": "code",
      "source": [
        "from sklearn.ensemble import RandomForestClassifier, GradientBoostingClassifier, AdaBoostClassifier, StackingClassifier\n",
        "from sklearn.linear_model import LogisticRegression\n",
        "from sklearn.metrics import accuracy_score, precision_score, recall_score, f1_score, roc_auc_score\n",
        "\n",
        "def train_stacking(X_train, X_test, y_train, y_test):\n",
        "    \"\"\"\n",
        "    Train and evaluate a stacking ensemble model.\n",
        "\n",
        "    Parameters:\n",
        "        X_train, X_test: Training and test features\n",
        "        y_train, y_test: Training and test labels\n",
        "\n",
        "    Returns:\n",
        "        stacking_model: Trained StackingClassifier\n",
        "        metrics: Dictionary containing evaluation metrics\n",
        "    \"\"\"\n",
        "    estimators = [\n",
        "        ('rf', RandomForestClassifier(n_estimators=100, random_state=42)),\n",
        "        ('gb', GradientBoostingClassifier(n_estimators=100, random_state=42)),\n",
        "        ('ada', AdaBoostClassifier(n_estimators=100, random_state=42))\n",
        "    ]\n",
        "\n",
        "    stacking_model = StackingClassifier(\n",
        "        estimators=estimators,\n",
        "        final_estimator=LogisticRegression(),\n",
        "        cv=5\n",
        "    )\n",
        "\n",
        "    stacking_model.fit(X_train, y_train)\n",
        "\n",
        "    # Make predictions\n",
        "    y_pred = stacking_model.predict(X_test)\n",
        "    y_pred_proba = stacking_model.predict_proba(X_test)[:, 1]\n",
        "\n",
        "    # Calculate metrics\n",
        "    metrics = {\n",
        "        'accuracy': accuracy_score(y_test, y_pred),\n",
        "        'precision': precision_score(y_test, y_pred),\n",
        "        'recall': recall_score(y_test, y_pred),\n",
        "        'f1': f1_score(y_test, y_pred),\n",
        "        'roc_auc': roc_auc_score(y_test, y_pred_proba)\n",
        "    }\n",
        "\n",
        "    # Print results\n",
        "    print(\"Stacking Results:\")\n",
        "    print(f\"Accuracy: {metrics['accuracy']:.4f}\")\n",
        "    print(f\"Precision: {metrics['precision']:.4f}\")\n",
        "    print(f\"Recall: {metrics['recall']:.4f}\")\n",
        "    print(f\"F1 Score: {metrics['f1']:.4f}\")\n",
        "    print(f\"ROC AUC Score: {metrics['roc_auc']:.4f}\")\n",
        "\n",
        "    return stacking_model, metrics\n",
        "\n",
        "stacking_metrics_dict = {}\n",
        "\n",
        "print(\"Training Stacking Ensemble on Count-Based Features...\")\n",
        "stacking_model1, stacking_metrics_dict['count'] = train_stacking(X_resampled_count, X_test_count, y_resampled_count, y_test)\n",
        "\n",
        "print(\"Training Stacking Ensemble on position...\")\n",
        "stacking_model2, stacking_metrics_dict['position'] = train_stacking(X_resampled_position, X_test_position, y_resampled_position, y_test)\n",
        "\n",
        "print(\"Training Stacking Ensemble on group...\")\n",
        "stacking_model3, stacking_metrics_dict['group'] = train_stacking(X_resampled_group, X_test_group, y_resampled_group, y_test)"
      ],
      "metadata": {
        "id": "2SqZW3RzEG8S"
      },
      "execution_count": null,
      "outputs": []
    },
    {
      "cell_type": "markdown",
      "source": [
        "#### Model comparision"
      ],
      "metadata": {
        "id": "VWjMkKep9fZC"
      }
    },
    {
      "cell_type": "code",
      "source": [
        "all_model_accuracies = {}\n",
        "\n",
        "for dataset, metrics in lr_metrics_dict.items():\n",
        "  all_model_accuracies[f\"Logistic Regression ({dataset})\"] = metrics['accuracy']\n",
        "\n",
        "for dataset, metrics in rf_metrics_dict.items():\n",
        "  all_model_accuracies[f\"Random Forest ({dataset})\"] = metrics['accuracy']\n",
        "\n",
        "for dataset, metrics in xgb_metrics_dict.items():\n",
        "  all_model_accuracies[f\"XGBoost ({dataset})\"] = metrics['accuracy']\n",
        "\n",
        "for dataset, metrics in cat_metrics_dict.items():\n",
        "  all_model_accuracies[f\"CatBoost ({dataset})\"] = metrics['accuracy']\n",
        "\n",
        "for dataset, metrics in knn_metrics_dict.items():\n",
        "  all_model_accuracies[f\"KNN ({dataset})\"] = metrics['accuracy']\n",
        "\n",
        "for dataset, metrics in stacking_metrics_dict.items():\n",
        "  all_model_accuracies[f\"Stacking ({dataset})\"] = metrics['accuracy']\n",
        "\n",
        "best_model = max(all_model_accuracies, key=all_model_accuracies.get)\n",
        "best_accuracy = all_model_accuracies[best_model]\n",
        "\n",
        "print(f\"The best performing model is {best_model} with an accuracy of {best_accuracy:.4f}\")\n"
      ],
      "metadata": {
        "id": "8qRk7pClIyqo"
      },
      "execution_count": null,
      "outputs": []
    },
    {
      "cell_type": "code",
      "source": [
        "all_model_precision = {}\n",
        "\n",
        "for dataset, metrics in lr_metrics_dict.items():\n",
        "  all_model_precision[f\"Logistic Regression ({dataset})\"] = metrics['precision']\n",
        "\n",
        "for dataset, metrics in rf_metrics_dict.items():\n",
        "  all_model_precision[f\"Random Forest ({dataset})\"] = metrics['precision']\n",
        "\n",
        "for dataset, metrics in xgb_metrics_dict.items():\n",
        "  all_model_precision[f\"XGBoost ({dataset})\"] = metrics['precision']\n",
        "\n",
        "for dataset, metrics in cat_metrics_dict.items():\n",
        "  all_model_precision[f\"CatBoost ({dataset})\"] = metrics['precision']\n",
        "\n",
        "for dataset, metrics in knn_metrics_dict.items():\n",
        "  all_model_precision[f\"KNN ({dataset})\"] = metrics['precision']\n",
        "\n",
        "for dataset, metrics in stacking_metrics_dict.items():\n",
        "  all_model_precision[f\"Stacking ({dataset})\"] = metrics['precision']\n",
        "\n",
        "best_model_percision = max(all_model_precision, key=all_model_precision.get)\n",
        "best_precision = all_model_precision[best_model_percision]\n",
        "\n",
        "print(f\"The best performing model is {best_model_percision} with an precision of {best_precision:.4f}\")\n"
      ],
      "metadata": {
        "id": "IM26_Qed8Sak"
      },
      "execution_count": null,
      "outputs": []
    },
    {
      "cell_type": "code",
      "source": [
        "all_model_recall = {}\n",
        "\n",
        "for dataset, metrics in lr_metrics_dict.items():\n",
        "  all_model_recall[f\"Logistic Regression ({dataset})\"] = metrics['recall']\n",
        "\n",
        "for dataset, metrics in rf_metrics_dict.items():\n",
        "  all_model_recall[f\"Random Forest ({dataset})\"] = metrics['recall']\n",
        "\n",
        "for dataset, metrics in xgb_metrics_dict.items():\n",
        "  all_model_recall[f\"XGBoost ({dataset})\"] = metrics['recall']\n",
        "\n",
        "for dataset, metrics in cat_metrics_dict.items():\n",
        "  all_model_recall[f\"CatBoost ({dataset})\"] = metrics['recall']\n",
        "\n",
        "for dataset, metrics in knn_metrics_dict.items():\n",
        "  all_model_recall[f\"KNN ({dataset})\"] = metrics['recall']\n",
        "\n",
        "for dataset, metrics in stacking_metrics_dict.items():\n",
        "  all_model_recall[f\"Stacking ({dataset})\"] = metrics['recall']\n",
        "\n",
        "best_model_recall = max(all_model_recall, key=all_model_recall.get)\n",
        "best_recall = all_model_recall[best_model_recall]\n",
        "\n",
        "print(f\"The best performing model is {best_model_recall} with an recall of {best_recall:.4f}\")\n"
      ],
      "metadata": {
        "id": "njBkg0zo9Arz"
      },
      "execution_count": null,
      "outputs": []
    },
    {
      "cell_type": "code",
      "source": [
        "all_model_roc = {}\n",
        "\n",
        "for dataset, metrics in lr_metrics_dict.items():\n",
        "  all_model_roc[f\"Logistic Regression ({dataset})\"] = metrics['roc_auc']\n",
        "\n",
        "for dataset, metrics in rf_metrics_dict.items():\n",
        "  all_model_roc[f\"Random Forest ({dataset})\"] = metrics['roc_auc']\n",
        "\n",
        "for dataset, metrics in xgb_metrics_dict.items():\n",
        "  all_model_roc[f\"XGBoost ({dataset})\"] = metrics['roc_auc']\n",
        "\n",
        "for dataset, metrics in cat_metrics_dict.items():\n",
        "  all_model_roc[f\"CatBoost ({dataset})\"] = metrics['roc_auc']\n",
        "\n",
        "for dataset, metrics in knn_metrics_dict.items():\n",
        "  all_model_roc[f\"KNN ({dataset})\"] = metrics['roc_auc']\n",
        "\n",
        "for dataset, metrics in stacking_metrics_dict.items():\n",
        "  all_model_roc[f\"Stacking ({dataset})\"] = metrics['roc_auc']\n",
        "\n",
        "best_model_roc = max(all_model_roc, key=all_model_roc.get)\n",
        "best_roc = all_model_roc[best_model_roc]\n",
        "\n",
        "print(f\"The best performing model is {best_model_roc} with an roc_auc of {best_roc:.4f}\")\n"
      ],
      "metadata": {
        "id": "kfN219_J9kdb"
      },
      "execution_count": null,
      "outputs": []
    },
    {
      "cell_type": "code",
      "source": [
        "all_model_f1 = {}\n",
        "\n",
        "for dataset, metrics in lr_metrics_dict.items():\n",
        "  all_model_f1[f\"Logistic Regression ({dataset})\"] = metrics['f1']\n",
        "\n",
        "for dataset, metrics in rf_metrics_dict.items():\n",
        "  all_model_f1[f\"Random Forest ({dataset})\"] = metrics['f1']\n",
        "\n",
        "for dataset, metrics in xgb_metrics_dict.items():\n",
        "  all_model_f1[f\"XGBoost ({dataset})\"] = metrics['f1']\n",
        "\n",
        "for dataset, metrics in cat_metrics_dict.items():\n",
        "  all_model_f1[f\"CatBoost ({dataset})\"] = metrics['f1']\n",
        "\n",
        "for dataset, metrics in knn_metrics_dict.items():\n",
        "  all_model_f1[f\"KNN ({dataset})\"] = metrics['f1']\n",
        "\n",
        "for dataset, metrics in stacking_metrics_dict.items():\n",
        "  all_model_f1[f\"Stacking ({dataset})\"] = metrics['f1']\n",
        "\n",
        "best_model_f1 = max(all_model_f1, key=all_model_f1.get)\n",
        "best_f1 = all_model_f1[best_model_f1]\n",
        "\n",
        "print(f\"The best performing model is {best_model_f1} with an F1 of {best_f1:.4f}\")\n"
      ],
      "metadata": {
        "id": "dly9cUz8-N4y"
      },
      "execution_count": null,
      "outputs": []
    },
    {
      "cell_type": "markdown",
      "source": [
        "# Hyper paramter tunning of catboost"
      ],
      "metadata": {
        "id": "yWFTVdDF-kUG"
      }
    },
    {
      "cell_type": "code",
      "source": [
        "from catboost import CatBoostClassifier\n",
        "from sklearn.model_selection import GridSearchCV\n",
        "\n",
        "\n",
        "param_grid = {\n",
        "    'iterations': [100, 200],  # Number of boosting iterations\n",
        "    'learning_rate': [0.01, 0.1],  # Step size shrinkage used in update to prevents overfitting\n",
        "    'depth': [4, 6],  # Depth of the trees\n",
        "    'l2_leaf_reg': [1, 3],  # L2 regularization term on weights of leaves\n",
        "    'border_count': [32, 64], # Number of splits for numerical features\n",
        "}\n",
        "\n",
        "cat = CatBoostClassifier(random_state=42, verbose=0)\n",
        "\n",
        "grid_search = GridSearchCV(cat, param_grid, cv=3, scoring='roc_auc', n_jobs=-1)\n",
        "\n",
        "grid_search.fit(X_resampled_count, y_resampled_count)\n",
        "\n",
        "print(\"Best parameters:\", grid_search.best_params_)\n",
        "print(\"Best ROC AUC score:\", grid_search.best_score_)\n",
        "\n",
        "best_cat_model = grid_search.best_estimator_\n",
        "y_pred = best_cat_model.predict(X_test_count)\n",
        "y_pred_proba = best_cat_model.predict_proba(X_test_count)[:, 1]\n"
      ],
      "metadata": {
        "id": "VaQNytGDJSlX"
      },
      "execution_count": null,
      "outputs": []
    },
    {
      "cell_type": "code",
      "source": [
        "from sklearn.metrics import classification_report, roc_auc_score, accuracy_score\n",
        "\n",
        "print(\"Test Set Performance:\")\n",
        "print(classification_report(y_test, y_pred))\n",
        "print(f\"ROC AUC Score: {roc_auc_score(y_test, y_pred_proba)}\")\n",
        "print(f\"Accuracy Score: {accuracy_score(y_test, y_pred)}\")"
      ],
      "metadata": {
        "id": "C7L9mjWiJijK"
      },
      "execution_count": null,
      "outputs": []
    },
    {
      "cell_type": "markdown",
      "source": [
        "# Testing"
      ],
      "metadata": {
        "id": "zkVNaJwe6DZY"
      }
    },
    {
      "cell_type": "code",
      "source": [
        "from sklearn.preprocessing import LabelEncoder\n",
        "import joblib\n",
        "\n",
        "def preprocess(test_df):\n",
        "      test_df = test_df.replace('-', pd.NA)\n",
        "\n",
        "      ID = test_df['ID']\n",
        "      test_df.drop(columns=['ID'], inplace=True)\n",
        "\n",
        "      test_df['STAY_DRG_CD'] = test_df['STAY_DRG_CD'].fillna(test_df['stay_drg_cd'])\n",
        "      test_df['STAY_DRG_CD'] = test_df['STAY_DRG_CD'].fillna(test_df['STAY_DRG_CD'].mode()[0])\n",
        "      test_df.drop(columns=['stay_drg_cd'], inplace=True)\n",
        "      test_df['STAY_DRG_CD'] = test_df['STAY_DRG_CD'].astype('int')\n",
        "\n",
        "      test_df['STAY_FROM_DT'] = pd.to_datetime(test_df['STAY_FROM_DT'])\n",
        "      test_df['STAY_THRU_DT'] = pd.to_datetime(test_df['STAY_THRU_DT'])\n",
        "      test_df['LENGTH_OF_STAY'] = (test_df['STAY_THRU_DT'] - test_df['STAY_FROM_DT']).dt.days\n",
        "      test_df['admit_dayofweek'] = test_df['STAY_FROM_DT'].dt.dayofweek\n",
        "      test_df['discharge_month'] = test_df['STAY_THRU_DT'].dt.month\n",
        "      test_df.drop(columns=['STAY_FROM_DT','STAY_THRU_DT'], inplace=True)\n",
        "\n",
        "      le = LabelEncoder()\n",
        "      test_df['STUS_CD_encoded'] = le.fit_transform(test_df['STUS_CD'])\n",
        "      test_df.drop(columns=['STUS_CD'], inplace=True)\n",
        "\n",
        "      le = LabelEncoder()\n",
        "      test_df['TYPE_ADM_encoded'] = le.fit_transform(test_df['TYPE_ADM'])\n",
        "      test_df.drop(columns=['TYPE_ADM'], inplace=True)\n",
        "\n",
        "      le = LabelEncoder()\n",
        "      test_df['SRC_ADMS_encoded'] = le.fit_transform(test_df['SRC_ADMS'])\n",
        "      test_df.drop(columns=['SRC_ADMS'], inplace=True)\n",
        "\n",
        "\n",
        "      global_mean = joblib.load('global_mean.pkl')\n",
        "      target_encoded = joblib.load('target_encoded.pkl')\n",
        "      test_df['AD_DGNS_encoded'] = test_df['AD_DGNS'].map(target_encoded)\n",
        "      test_df['AD_DGNS_encoded'] = test_df['AD_DGNS_encoded'].fillna(global_mean)\n",
        "      test_df.drop(columns=['AD_DGNS'], inplace=True)\n",
        "\n",
        "      proc_columns = [f'PRCDRCD{str(i).zfill(2)}' for i in range(1, 26)]\n",
        "      diag_columns = [f'DGNSCD{str(i).zfill(2)}' for i in range(1, 26)]\n",
        "      # Method 1: Count-Based Features\n",
        "      df_count_based_temp = test_df.copy()\n",
        "      df_count_based_temp['num_diagnoses'] = df_count_based_temp[diag_columns].notna().sum(axis=1)\n",
        "      df_count_based_temp['num_procedures'] = df_count_based_temp[proc_columns].notna().sum(axis=1)\n",
        "      df_count_based_temp.drop(columns=diag_columns + proc_columns, inplace=True)\n",
        "\n",
        "\n",
        "      return df_count_based_temp,ID\n"
      ],
      "metadata": {
        "id": "O42_u6_L6Kfa"
      },
      "execution_count": null,
      "outputs": []
    },
    {
      "cell_type": "code",
      "source": [
        "test_df = pd.read_csv('test.csv')\n",
        "\n",
        "df_count_based_temp,ID = preprocess(test_df)"
      ],
      "metadata": {
        "id": "7sQOj7j06Fpt"
      },
      "execution_count": null,
      "outputs": []
    },
    {
      "cell_type": "code",
      "source": [
        "predictions = cat_model1.predict(df_count_based_temp)"
      ],
      "metadata": {
        "id": "QbosHRNhTnRw"
      },
      "execution_count": null,
      "outputs": []
    },
    {
      "cell_type": "code",
      "source": [
        "pd.DataFrame({'ID': ID, 'Readmitted_30': predictions}).to_csv('submission.csv', index=False)"
      ],
      "metadata": {
        "id": "5e2dVijeWLnL"
      },
      "execution_count": null,
      "outputs": []
    }
  ],
  "metadata": {
    "kernelspec": {
      "display_name": "Python 3",
      "language": "python",
      "name": "python3"
    },
    "language_info": {
      "codemirror_mode": {
        "name": "ipython",
        "version": 3
      },
      "file_extension": ".py",
      "mimetype": "text/x-python",
      "name": "python",
      "nbconvert_exporter": "python",
      "pygments_lexer": "ipython3",
      "version": "3.9.6"
    },
    "colab": {
      "provenance": [],
      "collapsed_sections": [
        "M2aCUHN59jh0",
        "sqi85uPg9jh4",
        "sLDUWYmC9jh7",
        "5Z0rtoqh9jh8",
        "IEpzd3FP9jh-",
        "Rub0_EGZ9jiD",
        "Y1xcgtOr9jiN",
        "tgLjFHhM9jiS",
        "PlWhopiD9jiT",
        "dD-308eT9jiX",
        "lnidhD7n9jib",
        "94I1hzJl9jic",
        "VWjMkKep9fZC",
        "zkVNaJwe6DZY"
      ]
    }
  },
  "nbformat": 4,
  "nbformat_minor": 0
}