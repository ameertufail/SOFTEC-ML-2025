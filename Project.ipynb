{
  "cells": [
    {
      "cell_type": "code",
      "execution_count": 1,
      "metadata": {
        "id": "hb9Elpi59jhj"
      },
      "outputs": [],
      "source": [
        "import pandas as pd\n",
        "import matplotlib.pyplot as plt\n",
        "import seaborn as sns\n",
        "import numpy as np"
      ]
    },
    {
      "cell_type": "code",
      "execution_count": 28,
      "metadata": {
        "id": "9k6SiW1S9jhq"
      },
      "outputs": [],
      "source": [
        "df = pd.read_csv('train.csv')"
      ]
    },
    {
      "cell_type": "code",
      "execution_count": 29,
      "metadata": {
        "colab": {
          "base_uri": "https://localhost:8080/",
          "height": 245
        },
        "id": "87xnbymg9jhr",
        "outputId": "66be0ddc-d812-439c-934b-d20d39ae82ea"
      },
      "outputs": [
        {
          "data": {
            "text/html": [
              "<div>\n",
              "<style scoped>\n",
              "    .dataframe tbody tr th:only-of-type {\n",
              "        vertical-align: middle;\n",
              "    }\n",
              "\n",
              "    .dataframe tbody tr th {\n",
              "        vertical-align: top;\n",
              "    }\n",
              "\n",
              "    .dataframe thead th {\n",
              "        text-align: right;\n",
              "    }\n",
              "</style>\n",
              "<table border=\"1\" class=\"dataframe\">\n",
              "  <thead>\n",
              "    <tr style=\"text-align: right;\">\n",
              "      <th></th>\n",
              "      <th>ID</th>\n",
              "      <th>STAY_DRG_CD</th>\n",
              "      <th>STAY_FROM_DT</th>\n",
              "      <th>STAY_THRU_DT</th>\n",
              "      <th>STUS_CD</th>\n",
              "      <th>TYPE_ADM</th>\n",
              "      <th>SRC_ADMS</th>\n",
              "      <th>AD_DGNS</th>\n",
              "      <th>DGNSCD01</th>\n",
              "      <th>PRCDRCD01</th>\n",
              "      <th>...</th>\n",
              "      <th>DGNSCD22</th>\n",
              "      <th>PRCDRCD22</th>\n",
              "      <th>DGNSCD23</th>\n",
              "      <th>PRCDRCD23</th>\n",
              "      <th>DGNSCD24</th>\n",
              "      <th>PRCDRCD24</th>\n",
              "      <th>DGNSCD25</th>\n",
              "      <th>PRCDRCD25</th>\n",
              "      <th>stay_drg_cd</th>\n",
              "      <th>Readmitted_30</th>\n",
              "    </tr>\n",
              "  </thead>\n",
              "  <tbody>\n",
              "    <tr>\n",
              "      <th>0</th>\n",
              "      <td>17319</td>\n",
              "      <td>NaN</td>\n",
              "      <td>2017-12-13 00:00:00</td>\n",
              "      <td>2017-12-20 00:00:00</td>\n",
              "      <td>62</td>\n",
              "      <td>1</td>\n",
              "      <td>2</td>\n",
              "      <td>M25551</td>\n",
              "      <td>S72001A</td>\n",
              "      <td>0SRR01Z</td>\n",
              "      <td>...</td>\n",
              "      <td>Z803</td>\n",
              "      <td>NaN</td>\n",
              "      <td>Z86711</td>\n",
              "      <td>NaN</td>\n",
              "      <td>Z86718</td>\n",
              "      <td>NaN</td>\n",
              "      <td>Z85828</td>\n",
              "      <td>NaN</td>\n",
              "      <td>469</td>\n",
              "      <td>0</td>\n",
              "    </tr>\n",
              "    <tr>\n",
              "      <th>1</th>\n",
              "      <td>19722</td>\n",
              "      <td>NaN</td>\n",
              "      <td>2017-10-19 00:00:00</td>\n",
              "      <td>2017-10-23 00:00:00</td>\n",
              "      <td>1</td>\n",
              "      <td>1</td>\n",
              "      <td>1</td>\n",
              "      <td>R531</td>\n",
              "      <td>A419</td>\n",
              "      <td>NaN</td>\n",
              "      <td>...</td>\n",
              "      <td>NaN</td>\n",
              "      <td>NaN</td>\n",
              "      <td>NaN</td>\n",
              "      <td>NaN</td>\n",
              "      <td>NaN</td>\n",
              "      <td>NaN</td>\n",
              "      <td>NaN</td>\n",
              "      <td>NaN</td>\n",
              "      <td>871</td>\n",
              "      <td>1</td>\n",
              "    </tr>\n",
              "    <tr>\n",
              "      <th>2</th>\n",
              "      <td>89699</td>\n",
              "      <td>NaN</td>\n",
              "      <td>2018-08-06 00:00:00</td>\n",
              "      <td>2018-08-08 00:00:00</td>\n",
              "      <td>1</td>\n",
              "      <td>1</td>\n",
              "      <td>1</td>\n",
              "      <td>R002</td>\n",
              "      <td>J690</td>\n",
              "      <td>NaN</td>\n",
              "      <td>...</td>\n",
              "      <td>NaN</td>\n",
              "      <td>NaN</td>\n",
              "      <td>NaN</td>\n",
              "      <td>NaN</td>\n",
              "      <td>NaN</td>\n",
              "      <td>NaN</td>\n",
              "      <td>NaN</td>\n",
              "      <td>NaN</td>\n",
              "      <td>177</td>\n",
              "      <td>0</td>\n",
              "    </tr>\n",
              "  </tbody>\n",
              "</table>\n",
              "<p>3 rows × 60 columns</p>\n",
              "</div>"
            ],
            "text/plain": [
              "      ID  STAY_DRG_CD         STAY_FROM_DT         STAY_THRU_DT  STUS_CD  \\\n",
              "0  17319          NaN  2017-12-13 00:00:00  2017-12-20 00:00:00       62   \n",
              "1  19722          NaN  2017-10-19 00:00:00  2017-10-23 00:00:00        1   \n",
              "2  89699          NaN  2018-08-06 00:00:00  2018-08-08 00:00:00        1   \n",
              "\n",
              "   TYPE_ADM  SRC_ADMS AD_DGNS DGNSCD01 PRCDRCD01  ... DGNSCD22 PRCDRCD22  \\\n",
              "0         1         2  M25551  S72001A   0SRR01Z  ...     Z803       NaN   \n",
              "1         1         1    R531     A419       NaN  ...      NaN       NaN   \n",
              "2         1         1    R002     J690       NaN  ...      NaN       NaN   \n",
              "\n",
              "  DGNSCD23 PRCDRCD23 DGNSCD24 PRCDRCD24 DGNSCD25 PRCDRCD25 stay_drg_cd  \\\n",
              "0   Z86711       NaN   Z86718       NaN   Z85828       NaN         469   \n",
              "1      NaN       NaN      NaN       NaN      NaN       NaN         871   \n",
              "2      NaN       NaN      NaN       NaN      NaN       NaN         177   \n",
              "\n",
              "  Readmitted_30  \n",
              "0             0  \n",
              "1             1  \n",
              "2             0  \n",
              "\n",
              "[3 rows x 60 columns]"
            ]
          },
          "execution_count": 29,
          "metadata": {},
          "output_type": "execute_result"
        }
      ],
      "source": [
        "df.head(3)"
      ]
    },
    {
      "cell_type": "code",
      "execution_count": 624,
      "metadata": {
        "colab": {
          "base_uri": "https://localhost:8080/"
        },
        "id": "GWXHjAE79jht",
        "outputId": "6678dfa6-da89-4636-831d-e61067aa04dc"
      },
      "outputs": [
        {
          "data": {
            "text/plain": [
              "(130296, 60)"
            ]
          },
          "execution_count": 624,
          "metadata": {},
          "output_type": "execute_result"
        }
      ],
      "source": [
        "df.shape"
      ]
    },
    {
      "cell_type": "code",
      "execution_count": 625,
      "metadata": {
        "colab": {
          "base_uri": "https://localhost:8080/"
        },
        "id": "tUFpPmQj9jhu",
        "outputId": "aadad64c-169d-48dd-dc8b-9669f4a1995d"
      },
      "outputs": [
        {
          "data": {
            "text/plain": [
              "np.int64(0)"
            ]
          },
          "execution_count": 625,
          "metadata": {},
          "output_type": "execute_result"
        }
      ],
      "source": [
        "df.duplicated().sum()"
      ]
    },
    {
      "cell_type": "code",
      "execution_count": 626,
      "metadata": {
        "id": "_LfttbwK9jhv"
      },
      "outputs": [],
      "source": [
        "# engineering of diagnostic and procedure features\n",
        "# apply all three methods"
      ]
    },
    {
      "cell_type": "markdown",
      "metadata": {
        "id": "IBkCDASk9jhx"
      },
      "source": [
        "# Pre-processing"
      ]
    },
    {
      "cell_type": "markdown",
      "metadata": {
        "id": "M2aCUHN59jh0"
      },
      "source": [
        "#### Checking Nulls"
      ]
    },
    {
      "cell_type": "markdown",
      "metadata": {
        "id": "AeN6S1i49jh1"
      },
      "source": [
        "**Percentage of nulls**"
      ]
    },
    {
      "cell_type": "code",
      "execution_count": 627,
      "metadata": {
        "id": "fh2KVoNi9jh1"
      },
      "outputs": [],
      "source": [
        "# while exploring the data, we found that some columns contain '-' token as null value, so replace it with null\n",
        "\n",
        "df = df.replace('-', pd.NA)"
      ]
    },
    {
      "cell_type": "code",
      "execution_count": 628,
      "metadata": {
        "colab": {
          "base_uri": "https://localhost:8080/"
        },
        "id": "FgP2cB-a9jh2",
        "outputId": "5792a5f6-eb85-4278-a6a3-13888b644df8"
      },
      "outputs": [
        {
          "name": "stdout",
          "output_type": "stream",
          "text": [
            "PRCDRCD25 has 99.98234788481611% null values\n",
            "PRCDRCD24 has 99.9739055688586% null values\n",
            "PRCDRCD23 has 99.96623073616995% null values\n",
            "PRCDRCD22 has 99.95548597040585% null values\n",
            "PRCDRCD21 has 99.94474120464174% null values\n",
            "PRCDRCD20 has 99.93169398907104% null values\n",
            "PRCDRCD19 has 99.91557684042488% null values\n",
            "PRCDRCD18 has 99.89178485909007% null values\n",
            "PRCDRCD17 has 99.86876036102413% null values\n",
            "PRCDRCD16 has 99.83345613065634% null values\n",
            "PRCDRCD15 has 99.78280223491129% null values\n",
            "PRCDRCD14 has 99.6953091422607% null values\n",
            "PRCDRCD13 has 99.59630380057715% null values\n",
            "PRCDRCD12 has 99.46352919506354% null values\n",
            "PRCDRCD11 has 99.2839381101492% null values\n",
            "PRCDRCD10 has 99.01915638239086% null values\n",
            "PRCDRCD09 has 98.71062810830725% null values\n",
            "PRCDRCD08 has 98.24399828083747% null values\n",
            "PRCDRCD07 has 97.49186467735004% null values\n",
            "STAY_DRG_CD has 97.08509854485172% null values\n",
            "PRCDRCD06 has 95.84331061582857% null values\n",
            "PRCDRCD05 has 93.59458463805488% null values\n",
            "PRCDRCD04 has 89.65816295204765% null values\n",
            "DGNSCD25 has 87.80008595812612% null values\n",
            "PRCDRCD03 has 83.48836495364401% null values\n",
            "DGNSCD24 has 78.49742125621661% null values\n",
            "DGNSCD23 has 75.27015411064039% null values\n",
            "PRCDRCD02 has 73.79505126788236% null values\n",
            "DGNSCD22 has 71.68984466138639% null values\n",
            "DGNSCD21 has 67.79870448824215% null values\n",
            "DGNSCD20 has 63.86074783569718% null values\n",
            "DGNSCD19 has 59.564376496592374% null values\n",
            "PRCDRCD01 has 56.05160557499846% null values\n",
            "DGNSCD18 has 50.151194203966355% null values\n",
            "DGNSCD17 has 44.81411555228096% null values\n",
            "DGNSCD16 has 39.61825382206668% null values\n",
            "DGNSCD15 has 34.437741757229695% null values\n",
            "DGNSCD14 has 29.60796954626389% null values\n",
            "DGNSCD13 has 24.882575059863697% null values\n",
            "DGNSCD12 has 20.596948486522994% null values\n",
            "DGNSCD11 has 16.665899183397805% null values\n",
            "DGNSCD10 has 13.272855651746793% null values\n",
            "DGNSCD09 has 10.420120341376558% null values\n",
            "DGNSCD08 has 8.173696813409467% null values\n",
            "DGNSCD07 has 6.486001105175908% null values\n",
            "stay_drg_cd has 6.264965923742863% null values\n",
            "DGNSCD06 has 5.244980659421625% null values\n",
            "DGNSCD05 has 4.429913427887272% null values\n",
            "DGNSCD04 has 3.936421686007245% null values\n",
            "DGNSCD03 has 3.625590962117026% null values\n",
            "DGNSCD02 has 3.4598145760422425% null values\n",
            "DGNSCD01 has 3.3500644685945846% null values\n",
            "AD_DGNS has 3.3500644685945846% null values\n"
          ]
        }
      ],
      "source": [
        "nulls = df.isna().sum()\n",
        "\n",
        "Trows = df.shape[0] # number of rows in the dataset\n",
        "\n",
        "\n",
        "# sort the nulls in descending order\n",
        "nulls = nulls[nulls > 0].sort_values(ascending=False)\n",
        "for i in nulls.index:\n",
        "    if nulls[i] > 0:\n",
        "        print(f\"{i} has {(nulls[i]/Trows)*100}% null values\")\n",
        "\n"
      ]
    },
    {
      "cell_type": "code",
      "execution_count": 629,
      "metadata": {
        "colab": {
          "base_uri": "https://localhost:8080/"
        },
        "id": "2VibqQDY9jh3",
        "outputId": "6747a1fe-ecae-4a4a-e54b-8a6151aef8a3"
      },
      "outputs": [
        {
          "name": "stdout",
          "output_type": "stream",
          "text": [
            "Columns with more than 50% null values: 34\n",
            "Columns with more than 60% null values: 31\n",
            "Columns with more than 70% null values: 29\n",
            "Columns with more than 80% null values: 25\n"
          ]
        }
      ],
      "source": [
        "# count coulmns greater than 50% null values\n",
        "nulls_50 = nulls[nulls > (Trows*0.5)]\n",
        "print(f\"Columns with more than 50% null values: {len(nulls_50)}\")\n",
        "# count coulmns greater than 50% null values\n",
        "nulls_60 = nulls[nulls > (Trows*0.6)]\n",
        "print(f\"Columns with more than 60% null values: {len(nulls_60)}\")\n",
        "# count coulmns greater than 70% null values\n",
        "nulls_70 = nulls[nulls > (Trows*0.7)]\n",
        "print(f\"Columns with more than 70% null values: {len(nulls_70)}\")\n",
        "# count coulmns greater than 80% null values\n",
        "nulls_80 = nulls[nulls > (Trows*0.8)]\n",
        "print(f\"Columns with more than 80% null values: {len(nulls_80)}\")"
      ]
    },
    {
      "cell_type": "code",
      "execution_count": 630,
      "metadata": {
        "id": "8qSF8aof9jh4"
      },
      "outputs": [],
      "source": [
        "# Findings:\n",
        "#     most of the nulls are in diagnostic and procedure features\n",
        "\n"
      ]
    },
    {
      "cell_type": "markdown",
      "metadata": {
        "id": "sqi85uPg9jh4"
      },
      "source": [
        "#### STAY_DRG_CD\n",
        "This column appeared twice in our dataset, rows which are null in first occurenece are filled in second and vice versa so concatenating them\n"
      ]
    },
    {
      "cell_type": "code",
      "execution_count": null,
      "metadata": {
        "colab": {
          "base_uri": "https://localhost:8080/"
        },
        "id": "SHQZnz1Y9jh4",
        "outputId": "5f713f6a-1a51-48a4-c804-aec5d8ad0ef2"
      },
      "outputs": [
        {
          "name": "stdout",
          "output_type": "stream",
          "text": [
            "STAY_DRG_CD null count: 126498\n",
            "stay_drg_cd null count: 8163\n"
          ]
        }
      ],
      "source": [
        "# Diagnosis-Related Group code associated with the stay\n",
        "print(\"STAY_DRG_CD null count:\", df['STAY_DRG_CD'].isna().sum())\n",
        "print(\"stay_drg_cd null count:\", df['stay_drg_cd'].isna().sum())"
      ]
    },
    {
      "cell_type": "code",
      "execution_count": 632,
      "metadata": {
        "id": "5jjPkSAw9jh5"
      },
      "outputs": [],
      "source": [
        "# Fill the null values in STAY_DRG_CD with values from stay_drg_cd\n",
        "df['STAY_DRG_CD'] = df['STAY_DRG_CD'].fillna(df['stay_drg_cd'])"
      ]
    },
    {
      "cell_type": "code",
      "execution_count": 633,
      "metadata": {
        "colab": {
          "base_uri": "https://localhost:8080/"
        },
        "id": "YaSRHzUy9jh5",
        "outputId": "843de36e-e0cb-43ac-c098-9296c3fc343f"
      },
      "outputs": [
        {
          "name": "stdout",
          "output_type": "stream",
          "text": [
            "Nulls in STAY_DRG_CD are: 4365 which is 3.3500644685945846% of total data\n"
          ]
        }
      ],
      "source": [
        "nulls_in_SDC = df['STAY_DRG_CD'].isna().sum()\n",
        "\n",
        "rows = df.shape[0]\n",
        "\n",
        "print(f'Nulls in STAY_DRG_CD are: {nulls_in_SDC} which is {(nulls_in_SDC/rows)*100}% of total data',)"
      ]
    },
    {
      "cell_type": "code",
      "execution_count": 634,
      "metadata": {
        "id": "hwCNdNPt9jh6"
      },
      "outputs": [],
      "source": [
        "# fill na with mode\n",
        "\n",
        "df['STAY_DRG_CD'] = df['STAY_DRG_CD'].fillna(df['STAY_DRG_CD'].mode()[0])"
      ]
    },
    {
      "cell_type": "code",
      "execution_count": 635,
      "metadata": {
        "id": "oE_brDoF9jh6"
      },
      "outputs": [],
      "source": [
        "df.drop(columns=['stay_drg_cd'], inplace=True)"
      ]
    },
    {
      "cell_type": "code",
      "execution_count": 636,
      "metadata": {
        "id": "pc6N6q8G9jh6"
      },
      "outputs": [],
      "source": [
        "df['STAY_DRG_CD'] = df['STAY_DRG_CD'].astype('int')\n"
      ]
    },
    {
      "cell_type": "markdown",
      "metadata": {
        "id": "sLDUWYmC9jh7"
      },
      "source": [
        "#### ID"
      ]
    },
    {
      "cell_type": "code",
      "execution_count": null,
      "metadata": {
        "id": "y-vrIBGV9jh7"
      },
      "outputs": [],
      "source": [
        "# we can drop it as it has no useful information"
      ]
    },
    {
      "cell_type": "code",
      "execution_count": 639,
      "metadata": {
        "id": "NQRtiVWc9jh8"
      },
      "outputs": [],
      "source": [
        "df.drop(columns=['ID'], inplace=True)"
      ]
    },
    {
      "cell_type": "markdown",
      "metadata": {
        "id": "5Z0rtoqh9jh8"
      },
      "source": [
        "#### Date"
      ]
    },
    {
      "cell_type": "code",
      "execution_count": 640,
      "metadata": {
        "id": "-18S2AKI9jh9"
      },
      "outputs": [],
      "source": [
        "# we have admitted date and discharge date, we can calculate the length of stay for each patient.\n",
        "\n",
        "df['STAY_FROM_DT'] = pd.to_datetime(df['STAY_FROM_DT'])\n",
        "df['STAY_THRU_DT'] = pd.to_datetime(df['STAY_THRU_DT'])"
      ]
    },
    {
      "cell_type": "code",
      "execution_count": 641,
      "metadata": {
        "id": "PJX06pUh9jh9"
      },
      "outputs": [],
      "source": [
        "df['LENGTH_OF_STAY'] = (df['STAY_THRU_DT'] - df['STAY_FROM_DT']).dt.days"
      ]
    },
    {
      "cell_type": "code",
      "execution_count": null,
      "metadata": {
        "id": "rpoXWbRO9jh9"
      },
      "outputs": [],
      "source": [
        "\n",
        "df['admit_dayofweek'] = df['STAY_FROM_DT'].dt.dayofweek\n",
        "\n",
        "df['discharge_month'] = df['STAY_THRU_DT'].dt.month\n",
        "\n",
        "# Why it matters:\n",
        "#   Admits on Fridays/Saturdays might mean less follow-up planning → more readmissions.\n",
        "#   Certain months (e.g., flu season) might show patterns in readmissions.\n"
      ]
    },
    {
      "cell_type": "code",
      "execution_count": 643,
      "metadata": {
        "colab": {
          "base_uri": "https://localhost:8080/"
        },
        "id": "VmPf6Hbj9jh-",
        "outputId": "5d99d1fa-999a-4aa7-e1cf-7095382c7409"
      },
      "outputs": [
        {
          "data": {
            "text/plain": [
              "np.int64(0)"
            ]
          },
          "execution_count": 643,
          "metadata": {},
          "output_type": "execute_result"
        }
      ],
      "source": [
        "df['LENGTH_OF_STAY'].isna().sum()"
      ]
    },
    {
      "cell_type": "code",
      "execution_count": 644,
      "metadata": {
        "id": "uXDHHDWs9jh-"
      },
      "outputs": [],
      "source": [
        "df.drop(columns=['STAY_FROM_DT','STAY_THRU_DT'], inplace=True)"
      ]
    },
    {
      "cell_type": "markdown",
      "metadata": {
        "id": "IEpzd3FP9jh-"
      },
      "source": [
        "#### STUS_CD - Patient Discharge Status code"
      ]
    },
    {
      "cell_type": "code",
      "execution_count": 645,
      "metadata": {
        "id": "FQmJZxAI9jh_"
      },
      "outputs": [],
      "source": [
        "# Extremely useful. Discharge to a skilled nursing facility, hospice, or readmission facility often signals poor outcomes → high chance of readmission."
      ]
    },
    {
      "cell_type": "code",
      "execution_count": 34,
      "metadata": {
        "colab": {
          "base_uri": "https://localhost:8080/",
          "height": 272
        },
        "id": "KePHO3As9jh_",
        "outputId": "ab2e89a7-2f28-4300-df7c-6bbca6fcdbf2"
      },
      "outputs": [
        {
          "data": {
            "text/plain": [
              "STUS_CD\n",
              "1     56886\n",
              "3     40498\n",
              "6     22420\n",
              "62     6131\n",
              "63     4361\n",
              "Name: count, dtype: int64"
            ]
          },
          "execution_count": 34,
          "metadata": {},
          "output_type": "execute_result"
        }
      ],
      "source": [
        "stus_cd_counts = df['STUS_CD'].value_counts()\n",
        "stus_cd_counts"
      ]
    },
    {
      "cell_type": "code",
      "execution_count": 35,
      "metadata": {},
      "outputs": [
        {
          "data": {
            "image/png": "[encoded data removed]",
            "text/plain": [
              "<Figure size 1200x600 with 1 Axes>"
            ]
          },
          "metadata": {},
          "output_type": "display_data"
        }
      ],
      "source": [
        "plt.figure(figsize=(12, 6))\n",
        "ax = sns.barplot(x=stus_cd_counts.index, y=stus_cd_counts.values)\n",
        "plt.title('Distribution of STUS_CD ', fontsize=14)\n",
        "plt.xlabel('Discharge code', fontsize=12)\n",
        "plt.ylabel('Count', fontsize=12)\n",
        "plt.xticks(rotation=45, ha='right')\n",
        "\n",
        "for i, count in enumerate(stus_cd_counts.values):\n",
        "    ax.text(i, count + (max(stus_cd_counts.values) * 0.01), f'{count}', \n",
        "            ha='center', va='bottom', fontsize=10)\n",
        "\n",
        "plt.tight_layout()\n",
        "plt.show()"
      ]
    },
    {
      "cell_type": "code",
      "execution_count": 647,
      "metadata": {
        "colab": {
          "base_uri": "https://localhost:8080/",
          "height": 272
        },
        "id": "Gl8leMAw9jiA",
        "outputId": "217a62be-bc5e-45c9-db2e-1cb117050647"
      },
      "outputs": [
        {
          "data": {
            "text/plain": [
              "STUS_CD\n",
              "1     0.185775\n",
              "3     0.229024\n",
              "6     0.231401\n",
              "62    0.183657\n",
              "63    0.124054\n",
              "Name: Readmitted_30, dtype: float64"
            ]
          },
          "execution_count": 647,
          "metadata": {},
          "output_type": "execute_result"
        }
      ],
      "source": [
        "df.groupby('STUS_CD')['Readmitted_30'].mean()\n",
        "# patient with code 3,6 have slightly more change to come back to hospital."
      ]
    },
    {
      "cell_type": "code",
      "execution_count": 648,
      "metadata": {
        "id": "FudDXF1W9jiB"
      },
      "outputs": [],
      "source": [
        "# This code describes how and where the patient was discharged, for example:\n",
        "\n",
        "# 1 – Discharged to home/self-care\n",
        "# 3 – Discharged/transferred to SNF (Skilled Nursing Facility)\n",
        "# 6 – Discharged/transferred to home with home health services\n",
        "# 62 – Discharged/transferred to inpatient rehabilitation\n",
        "# 63 – Discharged/transferred to long-term hospital\n",
        "\n",
        "# These are standard CMS codes\n",
        "\n",
        "\n",
        "# STUS_CD is a categorical code, not a numeric measurement. so no need to normalize it, but we can encode it using label encoding. (ordinal encoding)\n"
      ]
    },
    {
      "cell_type": "code",
      "execution_count": 649,
      "metadata": {
        "colab": {
          "base_uri": "https://localhost:8080/"
        },
        "id": "IZSfwtP39jiB",
        "outputId": "bb769c29-fe53-4e78-cbe0-0ccfe70c6b6c"
      },
      "outputs": [
        {
          "data": {
            "text/plain": [
              "np.int64(0)"
            ]
          },
          "execution_count": 649,
          "metadata": {},
          "output_type": "execute_result"
        }
      ],
      "source": [
        "df['STUS_CD'].isna().sum()"
      ]
    },
    {
      "cell_type": "code",
      "execution_count": 650,
      "metadata": {
        "id": "jjTbWsRs9jiC"
      },
      "outputs": [],
      "source": [
        "\n",
        "from sklearn.preprocessing import LabelEncoder\n",
        "le = LabelEncoder()\n",
        "df['STUS_CD_encoded'] = le.fit_transform(df['STUS_CD'])\n",
        "df.drop(columns=['STUS_CD'], inplace=True)"
      ]
    },
    {
      "cell_type": "markdown",
      "metadata": {
        "id": "Rub0_EGZ9jiD"
      },
      "source": [
        "#### TYPE_ADM - Admission Type code"
      ]
    },
    {
      "cell_type": "code",
      "execution_count": null,
      "metadata": {
        "id": "FLL2PD4Q9jiD"
      },
      "outputs": [],
      "source": [
        "# How the patient was admitted — e.g., elective, emergency, urgent, newborn, etc.\n",
        "\n",
        "# 1 – Elective admission>\n",
        "# 2 – Emergency admission\n",
        "# 3 – Urgent admission\n",
        "# 5 – Newborn admission\n",
        "# 9 – Other admission type\n",
        "\n",
        "# as this is again a categorical column so no need to normalize, we can encode it using label encoding."
      ]
    },
    {
      "cell_type": "code",
      "execution_count": 652,
      "metadata": {
        "id": "TyI0nWvT9jiM"
      },
      "outputs": [],
      "source": [
        "# Clinically, this feature is very important, as it often correlates with the urgency of the condition and thus the likelihood of readmission.\n",
        "\n",
        "# Emergency or urgent admissions generally carry higher readmission risks compared to planned, elective ones."
      ]
    },
    {
      "cell_type": "code",
      "execution_count": 32,
      "metadata": {
        "colab": {
          "base_uri": "https://localhost:8080/",
          "height": 272
        },
        "id": "YX6xgpeJ9jiM",
        "outputId": "44170c75-3e81-4b2e-9407-5c42237ceb21"
      },
      "outputs": [
        {
          "data": {
            "text/plain": [
              "TYPE_ADM\n",
              "1    108830\n",
              "3     11993\n",
              "2      9259\n",
              "5       145\n",
              "9        69\n",
              "Name: count, dtype: int64"
            ]
          },
          "execution_count": 32,
          "metadata": {},
          "output_type": "execute_result"
        }
      ],
      "source": [
        "TYPE_ADM_valuecount = df['TYPE_ADM'].value_counts()\n",
        "TYPE_ADM_valuecount"
      ]
    },
    {
      "cell_type": "code",
      "execution_count": 33,
      "metadata": {},
      "outputs": [
        {
          "data": {
            "image/png": "[encoded data removed]",
            "text/plain": [
              "<Figure size 1200x600 with 1 Axes>"
            ]
          },
          "metadata": {},
          "output_type": "display_data"
        }
      ],
      "source": [
        "plt.figure(figsize=(12, 6))\n",
        "ax = sns.barplot(x=TYPE_ADM_valuecount.index, y=TYPE_ADM_valuecount.values)\n",
        "plt.title('Distribution of TYPE_ADM ', fontsize=14)\n",
        "plt.xlabel('Admission code', fontsize=12)\n",
        "plt.ylabel('Count', fontsize=12)\n",
        "plt.xticks(rotation=45, ha='right')\n",
        "\n",
        "for i, count in enumerate(TYPE_ADM_valuecount.values):\n",
        "    ax.text(i, count + (max(TYPE_ADM_valuecount.values) * 0.01), f'{count}', \n",
        "            ha='center', va='bottom', fontsize=10)\n",
        "\n",
        "plt.tight_layout()\n",
        "plt.show()"
      ]
    },
    {
      "cell_type": "code",
      "execution_count": 654,
      "metadata": {
        "colab": {
          "base_uri": "https://localhost:8080/"
        },
        "id": "iQk0coXa9jiM",
        "outputId": "3708f02c-0f93-4e4f-acdb-3f79757b38eb"
      },
      "outputs": [
        {
          "data": {
            "text/plain": [
              "np.int64(0)"
            ]
          },
          "execution_count": 654,
          "metadata": {},
          "output_type": "execute_result"
        }
      ],
      "source": [
        "df['TYPE_ADM'].isna().sum()"
      ]
    },
    {
      "cell_type": "code",
      "execution_count": 655,
      "metadata": {
        "id": "LMPgJ5iW9jiN"
      },
      "outputs": [],
      "source": [
        "from sklearn.preprocessing import LabelEncoder\n",
        "le = LabelEncoder()\n",
        "df['TYPE_ADM_encoded'] = le.fit_transform(df['TYPE_ADM'])\n",
        "\n",
        "df.drop(columns=['TYPE_ADM'], inplace=True)"
      ]
    },
    {
      "cell_type": "markdown",
      "metadata": {
        "id": "Y1xcgtOr9jiN"
      },
      "source": [
        "#### SRC_ADMS - admission source code"
      ]
    },
    {
      "cell_type": "code",
      "execution_count": 36,
      "metadata": {
        "colab": {
          "base_uri": "https://localhost:8080/",
          "height": 209
        },
        "id": "86jGb8WY9jiO",
        "outputId": "5e778919-db5e-4306-c7ae-2c9053aba28b"
      },
      "outputs": [
        {
          "data": {
            "text/plain": [
              "SRC_ADMS\n",
              "1    106269\n",
              "5     12946\n",
              "2     11081\n",
              "Name: count, dtype: int64"
            ]
          },
          "execution_count": 36,
          "metadata": {},
          "output_type": "execute_result"
        }
      ],
      "source": [
        "src_adms_counts = df['SRC_ADMS'].value_counts()\n",
        "src_adms_counts"
      ]
    },
    {
      "cell_type": "code",
      "execution_count": 38,
      "metadata": {},
      "outputs": [
        {
          "data": {
            "image/png": "[encoded data removed]",
            "text/plain": [
              "<Figure size 1200x600 with 1 Axes>"
            ]
          },
          "metadata": {},
          "output_type": "display_data"
        }
      ],
      "source": [
        "plt.figure(figsize=(12, 6))\n",
        "ax = sns.barplot(x=src_adms_counts.index, y=src_adms_counts.values)\n",
        "plt.title('Distribution of SRC_ADMS ', fontsize=14)\n",
        "plt.xlabel('Admission code', fontsize=12)\n",
        "plt.ylabel('Count', fontsize=12)\n",
        "plt.xticks(rotation=45, ha='right')\n",
        "\n",
        "for i, count in enumerate(src_adms_counts.values):\n",
        "    ax.text(i, count + (max(src_adms_counts.values) * 0.01), f'{count}', \n",
        "            ha='center', va='bottom', fontsize=10)\n",
        "\n",
        "plt.tight_layout()\n",
        "plt.show()"
      ]
    },
    {
      "cell_type": "code",
      "execution_count": 657,
      "metadata": {
        "id": "ZdomcXxr9jiO"
      },
      "outputs": [],
      "source": [
        "# Again a categorical column.\n",
        "\n",
        "# This feature indicates the source of the admission, such as:\n",
        "# The admission source indicates where the patient came from before being admitted to the hospital. Typical codes might represent:\n",
        "\n",
        "# 1 – Emergency room (ER)\n",
        "# 2 – Referral from another hospital or clinic\n",
        "# 5 – Other sources (e.g., physician's office, home, etc.)"
      ]
    },
    {
      "cell_type": "code",
      "execution_count": 658,
      "metadata": {
        "colab": {
          "base_uri": "https://localhost:8080/"
        },
        "id": "fXVnsy7u9jiO",
        "outputId": "e58abe14-4f0c-465b-d7b0-00c065baf7d5"
      },
      "outputs": [
        {
          "data": {
            "text/plain": [
              "np.int64(0)"
            ]
          },
          "execution_count": 658,
          "metadata": {},
          "output_type": "execute_result"
        }
      ],
      "source": [
        "df['SRC_ADMS'].isna().sum()"
      ]
    },
    {
      "cell_type": "code",
      "execution_count": 659,
      "metadata": {
        "id": "qeL2DILx9jiO"
      },
      "outputs": [],
      "source": [
        "from sklearn.preprocessing import LabelEncoder\n",
        "le = LabelEncoder()\n",
        "\n",
        "df['SRC_ADMS_encoded'] = le.fit_transform(df['SRC_ADMS'])\n",
        "df.drop(columns=['SRC_ADMS'], inplace=True)"
      ]
    },
    {
      "cell_type": "markdown",
      "metadata": {
        "id": "O3EPfynO9jiP"
      },
      "source": [
        "#### AD_DGNS - admitting Diagnosis Code"
      ]
    },
    {
      "cell_type": "code",
      "execution_count": 660,
      "metadata": {
        "id": "jrmMHtLx9jiP"
      },
      "outputs": [],
      "source": [
        "#  describe the condition the patient was admitted for.\n",
        "\n",
        "# Admitting diagnosis is crucial for understanding the severity and urgency of the patient’s condition.\n",
        "# Certain diagnoses are associated with higher risk of readmission — for example, heart failure, pneumonia, or chronic diseases like diabetes or hypertension."
      ]
    },
    {
      "cell_type": "code",
      "execution_count": 661,
      "metadata": {
        "colab": {
          "base_uri": "https://localhost:8080/"
        },
        "id": "ot-81a6p9jiQ",
        "outputId": "c70c55f1-5b4b-4b8b-c2b8-1cfea8a7a6c3"
      },
      "outputs": [
        {
          "data": {
            "text/plain": [
              "2259"
            ]
          },
          "execution_count": 661,
          "metadata": {},
          "output_type": "execute_result"
        }
      ],
      "source": [
        "df['AD_DGNS'].nunique() # there are too many different admitting codes"
      ]
    },
    {
      "cell_type": "code",
      "execution_count": 662,
      "metadata": {
        "id": "BMsLp-ll9jiQ"
      },
      "outputs": [],
      "source": [
        "target_encoded = df.groupby('AD_DGNS')['Readmitted_30'].mean()\n",
        "\n",
        "df['AD_DGNS_encoded'] = df['AD_DGNS'].map(target_encoded)\n",
        "\n",
        "df.drop(columns=['AD_DGNS'], inplace=True)"
      ]
    },
    {
      "cell_type": "code",
      "execution_count": 663,
      "metadata": {
        "colab": {
          "base_uri": "https://localhost:8080/"
        },
        "id": "UY9zrAfc9jiR",
        "outputId": "a1e0f152-196c-4ed3-e929-a64ceb2f6e59"
      },
      "outputs": [
        {
          "data": {
            "text/plain": [
              "np.int64(4365)"
            ]
          },
          "execution_count": 663,
          "metadata": {},
          "output_type": "execute_result"
        }
      ],
      "source": [
        "df['AD_DGNS_encoded'].isna().sum()"
      ]
    },
    {
      "cell_type": "code",
      "execution_count": 664,
      "metadata": {
        "id": "9dYiUTpi9jiS"
      },
      "outputs": [],
      "source": [
        "# Calculate global mean of the target as fallback\n",
        "global_mean = df['Readmitted_30'].mean()\n",
        "\n",
        "# Fill NaNs with the global mean\n",
        "df['AD_DGNS_encoded'] = df['AD_DGNS_encoded'].fillna(global_mean)\n"
      ]
    },
    {
      "cell_type": "code",
      "execution_count": 665,
      "metadata": {
        "id": "NZgsQB46670v"
      },
      "outputs": [
        {
          "data": {
            "text/plain": [
              "['target_encoded.pkl']"
            ]
          },
          "execution_count": 665,
          "metadata": {},
          "output_type": "execute_result"
        }
      ],
      "source": [
        "import joblib\n",
        "\n",
        "joblib.dump(global_mean, 'global_mean.pkl')\n",
        "\n",
        "joblib.dump(target_encoded, 'target_encoded.pkl')"
      ]
    },
    {
      "cell_type": "markdown",
      "metadata": {
        "id": "tgLjFHhM9jiS"
      },
      "source": [
        "#### Analyzing procedure and diagnosis columns"
      ]
    },
    {
      "cell_type": "markdown",
      "metadata": {
        "id": "PlWhopiD9jiT"
      },
      "source": [
        "##### some analysis"
      ]
    },
    {
      "cell_type": "code",
      "execution_count": 666,
      "metadata": {
        "id": "R-lA9WLh9jiT"
      },
      "outputs": [],
      "source": [
        "def check_procedure_pattern(row):\n",
        "    \"\"\"\n",
        "    Checks if procedures follow the pattern:\n",
        "    If procedure n is missing, then all procedures n+1 to 25 are also missing\n",
        "    Returns True if pattern holds, False otherwise\n",
        "    \"\"\"\n",
        "    proc_columns = [f'PRCDRCD{str(i).zfill(2)}' for i in range(1, 26)]\n",
        "    first_empty = None\n",
        "\n",
        "    for i, col in enumerate(proc_columns):\n",
        "        if pd.isna(row[col]) or row[col] == '' :\n",
        "            first_empty = i\n",
        "            break\n",
        "\n",
        "    if first_empty is None:  # All procedures are filled\n",
        "        return True\n",
        "\n",
        "    # Check if all procedures after first_empty are also empty\n",
        "    for col in proc_columns[first_empty:]:\n",
        "        if not pd.isna(row[col]) and row[col] != '':\n",
        "            return False\n",
        "\n",
        "    return True"
      ]
    },
    {
      "cell_type": "code",
      "execution_count": 667,
      "metadata": {
        "colab": {
          "base_uri": "https://localhost:8080/"
        },
        "id": "Ru3NCoxS9jiU",
        "outputId": "cdcda5e2-d542-4813-a728-5cb4e2ca2c20"
      },
      "outputs": [
        {
          "name": "stdout",
          "output_type": "stream",
          "text": [
            "Procedure Pattern Compliance:\n",
            "follows_pattern\n",
            "True    130296\n",
            "Name: count, dtype: int64\n",
            "Percentage of rows following pattern: 100.00%\n"
          ]
        }
      ],
      "source": [
        "df_temp  = df.copy()\n",
        "\n",
        "# Apply the function to each row\n",
        "df_temp['follows_pattern'] = df_temp.apply(check_procedure_pattern, axis=1)\n",
        "\n",
        "# Count pattern compliance\n",
        "pattern_count = df_temp['follows_pattern'].value_counts()\n",
        "print(\"Procedure Pattern Compliance:\")\n",
        "print(pattern_count)\n",
        "print(f\"Percentage of rows following pattern: {100 * pattern_count.get(True, 0) / len(df_temp):.2f}%\")"
      ]
    },
    {
      "cell_type": "code",
      "execution_count": 668,
      "metadata": {
        "colab": {
          "base_uri": "https://localhost:8080/",
          "height": 569
        },
        "id": "YTtJnzUQ9jiV",
        "outputId": "a2bb86c3-a1c8-4de1-c82e-e16cba06a0d9"
      },
      "outputs": [
        {
          "data": {
            "image/png": "[encoded data removed]",
            "text/plain": [
              "<Figure size 1200x600 with 1 Axes>"
            ]
          },
          "metadata": {},
          "output_type": "display_data"
        }
      ],
      "source": [
        "# Visualize procedure presence\n",
        "# Create a matrix where 1 means procedure exists, 0 means not exists\n",
        "proc_presence = pd.DataFrame()\n",
        "for i in range(1, 26):\n",
        "    col = f'PRCDRCD{str(i).zfill(2)}'\n",
        "    proc_presence[col] = (~df_temp[col].isna() & (df_temp[col] != '')).astype(int)\n",
        "\n",
        "\n",
        "# Visualize the procedure pattern\n",
        "plt.figure(figsize=(12, 6))\n",
        "sns.heatmap(proc_presence.T, cmap='Blues', cbar=False)\n",
        "plt.title('Procedure Pattern Visualization')\n",
        "plt.xlabel('Patient Index')\n",
        "plt.ylabel('Procedure Number')\n",
        "plt.tight_layout()\n",
        "plt.show()"
      ]
    },
    {
      "cell_type": "code",
      "execution_count": 669,
      "metadata": {
        "id": "SUAIuLRx9jiV"
      },
      "outputs": [],
      "source": [
        "# by above analysis, we found that if a procedure is missing, all subsequent procedures are also missing. so nulls in procedure does't means that the procedure was not recorded but it means that the patient didn't have/need that procedure."
      ]
    },
    {
      "cell_type": "code",
      "execution_count": 670,
      "metadata": {
        "id": "102fBdM89jiV"
      },
      "outputs": [],
      "source": [
        "# Let's check if the same pattern exists for diagnosis features\n",
        "def check_diagnosis_pattern(row):\n",
        "    \"\"\"\n",
        "    Checks if diagnoses follow the pattern:\n",
        "    If diagnosis n is missing, then all diagnoses n+1 to 25 are also missing\n",
        "    Returns True if pattern holds, False otherwise\n",
        "    \"\"\"\n",
        "    diag_columns = [f'DGNSCD{str(i).zfill(2)}' for i in range(1, 26)]\n",
        "    first_empty = None\n",
        "\n",
        "    for i, col in enumerate(diag_columns):\n",
        "        if pd.isna(row[col]) or row[col] == '':\n",
        "            first_empty = i\n",
        "            break\n",
        "\n",
        "    if first_empty is None:  # All diagnoses are filled\n",
        "        return True\n",
        "\n",
        "    # Check if all diagnoses after first_empty are also empty\n",
        "    for col in diag_columns[first_empty:]:\n",
        "        if not pd.isna(row[col]) and row[col] != '':\n",
        "            return False\n",
        "\n",
        "    return True"
      ]
    },
    {
      "cell_type": "code",
      "execution_count": 671,
      "metadata": {
        "colab": {
          "base_uri": "https://localhost:8080/"
        },
        "id": "Oqfbs4Jx9jiW",
        "outputId": "43998ba8-729d-4b45-f526-40e0903949e9"
      },
      "outputs": [
        {
          "name": "stdout",
          "output_type": "stream",
          "text": [
            "Diagnosis Pattern Compliance:\n",
            "diag_follows_pattern\n",
            "True    130296\n",
            "Name: count, dtype: int64\n",
            "Percentage of rows following pattern: 100.00%\n"
          ]
        }
      ],
      "source": [
        "df_temp  = df.copy()\n",
        "\n",
        "# Apply the function to each row\n",
        "df_temp['diag_follows_pattern'] = df_temp.apply(check_diagnosis_pattern, axis=1)\n",
        "\n",
        "# Count pattern compliance\n",
        "pattern_count = df_temp['diag_follows_pattern'].value_counts()\n",
        "print(\"Diagnosis Pattern Compliance:\")\n",
        "print(pattern_count)\n",
        "print(f\"Percentage of rows following pattern: {100 * pattern_count.get(True, 0) / len(df_temp):.2f}%\")"
      ]
    },
    {
      "cell_type": "code",
      "execution_count": 672,
      "metadata": {
        "id": "Xv1ipSfR9jiW"
      },
      "outputs": [],
      "source": [
        "# Diagnosis columns are also following the same pattern.\n",
        "\n",
        "# Now we can reduce these 50 columns to 2 columns. these columns will indicate that how many procedures/diagnosis were performed on the patient.\n",
        "\n",
        "# this is the first and most simplest approach to reduce the number of columns.\n",
        "\n"
      ]
    },
    {
      "cell_type": "code",
      "execution_count": 673,
      "metadata": {
        "colab": {
          "base_uri": "https://localhost:8080/"
        },
        "id": "xQEzYwi89jiX",
        "outputId": "964d6d7d-ad20-48bf-84fe-499b34353881"
      },
      "outputs": [
        {
          "name": "stdout",
          "output_type": "stream",
          "text": [
            "Total unique diagnosis codes: 9778\n",
            "all diagnosis codes: 2178998\n",
            "Total unique procedure codes: 4701\n",
            "all procedures codes: 152469\n"
          ]
        }
      ],
      "source": [
        "# get all unique diagnosis codes\n",
        "unique_diagnosis_codes = set()\n",
        "all_diagnosis_codes = []\n",
        "for i in range(1, 26):\n",
        "    col = f'DGNSCD{str(i).zfill(2)}'\n",
        "    unique_diagnosis_codes.update(df[col].dropna().unique())\n",
        "    all_diagnosis_codes.extend(df[col].dropna())\n",
        "\n",
        "print(f\"Total unique diagnosis codes: {len(unique_diagnosis_codes)}\")\n",
        "print(f\"all diagnosis codes: {len(all_diagnosis_codes)}\")\n",
        "# get all unique diagnosis codes\n",
        "unique_procedure_codes = set()\n",
        "all_procedure_codes = []\n",
        "for i in range(1, 26):\n",
        "    col = f'PRCDRCD{str(i).zfill(2)}'\n",
        "    unique_procedure_codes.update(df[col].dropna().unique())\n",
        "    all_procedure_codes.extend(df[col].dropna())\n",
        "\n",
        "print(f\"Total unique procedure codes: {len(unique_procedure_codes)}\")\n",
        "print(f\"all procedures codes: {len(all_procedure_codes)}\")"
      ]
    },
    {
      "cell_type": "markdown",
      "metadata": {
        "id": "dD-308eT9jiX"
      },
      "source": [
        "##### Handling these columns"
      ]
    },
    {
      "cell_type": "code",
      "execution_count": 674,
      "metadata": {
        "id": "v_RCy4Q_9jiY"
      },
      "outputs": [],
      "source": [
        "proc_columns = [f'PRCDRCD{str(i).zfill(2)}' for i in range(1, 26)]\n",
        "diag_columns = [f'DGNSCD{str(i).zfill(2)}' for i in range(1, 26)]"
      ]
    },
    {
      "cell_type": "code",
      "execution_count": 707,
      "metadata": {
        "id": "fpjTrkty9jiY"
      },
      "outputs": [],
      "source": [
        "df_count_based = df.copy()\n",
        "df_position_based = df.copy()\n",
        "df_grouped_codes = df.copy()"
      ]
    },
    {
      "cell_type": "code",
      "execution_count": 708,
      "metadata": {
        "id": "VJBSUu6v9jiY"
      },
      "outputs": [],
      "source": [
        "\n",
        "# Method 1: Count-Based Features\n",
        "\n",
        "df_count_based['num_diagnoses'] = df_count_based[diag_columns].notna().sum(axis=1)\n",
        "df_count_based['num_procedures'] = df_count_based[proc_columns].notna().sum(axis=1)\n",
        "\n",
        "\n",
        "df_count_based.drop(columns=diag_columns + proc_columns, inplace=True)"
      ]
    },
    {
      "cell_type": "code",
      "execution_count": 709,
      "metadata": {},
      "outputs": [],
      "source": [
        "df_count_based.to_csv('df_count_based_class_imbalance.csv', index=False)"
      ]
    },
    {
      "cell_type": "code",
      "execution_count": 710,
      "metadata": {
        "id": "7L7-u_UC9jiZ"
      },
      "outputs": [],
      "source": [
        "\n",
        "# ----------------------------\n",
        "# Method 2: Position-Based Features\n",
        "# ----------------------------\n",
        "\n",
        "# Primary diagnosis code\n",
        "df_position_based['primary_diagnosis'] = df_position_based['DGNSCD01']\n",
        "\n",
        "# If both diagnosis and procedure 01 are present, condition is treated\n",
        "df_position_based['primary_condition_treated'] = df_position_based[['DGNSCD01', 'PRCDRCD01']].notna().all(axis=1).astype(int)\n",
        "\n",
        "# Ratio of diagnoses that have procedures\n",
        "def calculate_diag_proc_ratio(row):\n",
        "    diag_count = 0\n",
        "    treated_count = 0\n",
        "    for i in range(1, 26):\n",
        "        diag = row.get(f'DGNSCD{str(i).zfill(2)}')\n",
        "        proc = row.get(f'PRCDRCD{str(i).zfill(2)}')\n",
        "        if pd.notna(diag):\n",
        "            diag_count += 1\n",
        "            if pd.notna(proc):\n",
        "                treated_count += 1\n",
        "    return treated_count / diag_count if diag_count > 0 else 0\n",
        "\n",
        "df_position_based['treatment_ratio'] = df_position_based.apply(calculate_diag_proc_ratio, axis=1)\n",
        "\n",
        "\n",
        "# target encoding of primary diagnosis\n",
        "primary_diag_target_encoding = df_position_based.groupby('primary_diagnosis')['Readmitted_30'].mean()\n",
        "df_position_based['primary_diagnosis_encoded'] = df_position_based['primary_diagnosis'].map(primary_diag_target_encoding)\n",
        "\n",
        "global_readmit_mean = df_position_based['Readmitted_30'].mean()\n",
        "df_position_based['primary_diagnosis_encoded'] = df_position_based['primary_diagnosis_encoded'].fillna(global_readmit_mean)\n",
        "\n",
        "# dump primary_diag_target_encoding\n",
        "joblib.dump(primary_diag_target_encoding,\"primary_diag_target_encoding.pkl\")\n",
        "\n",
        "\n",
        "df_position_based.drop(columns=['primary_diagnosis'], inplace=True)\n",
        "\n",
        "\n",
        "df_position_based.drop(columns=diag_columns + proc_columns, inplace=True)"
      ]
    },
    {
      "cell_type": "code",
      "execution_count": 711,
      "metadata": {},
      "outputs": [],
      "source": [
        "df_position_based.to_csv('df_position_based_class_imbalance.csv', index=False)"
      ]
    },
    {
      "cell_type": "code",
      "execution_count": null,
      "metadata": {
        "id": "SkmyhM669jia"
      },
      "outputs": [],
      "source": [
        "# ----------------------------\n",
        "# Method 3: Group/Select Important Codes (basically OHE on top twenty)\n",
        "# ----------------------------\n",
        "\n",
        "# Reduce diagnosis codes to their first 3 characters to represent groups\n",
        "for col in diag_columns:\n",
        "    df_grouped_codes[col] = df_grouped_codes[col].astype(str).str[:3]\n",
        "\n",
        "# Get the top 20 most frequent diagnosis code groups\n",
        "top_diag_groups = pd.Series(df_grouped_codes[diag_columns].values.ravel()).value_counts().nlargest(20).index\n",
        "\n",
        "# Create binary features for top 20 diagnosis code groups\n",
        "for code in top_diag_groups:\n",
        "    df_grouped_codes[f'diag_code_{code}'] = df_grouped_codes[diag_columns].apply(lambda x: code in x.values, axis=1).astype(int)\n",
        "\n",
        "# Drop original diagnosis and procedure columns (optional for modeling)\n",
        "df_grouped_codes = df_grouped_codes.drop(columns=diag_columns + proc_columns)\n"
      ]
    },
    {
      "cell_type": "code",
      "execution_count": 713,
      "metadata": {},
      "outputs": [],
      "source": [
        "df_grouped_codes.to_csv('df_grouped_codes_class_imbalance.csv', index=False)"
      ]
    },
    {
      "cell_type": "markdown",
      "metadata": {
        "id": "lnidhD7n9jib"
      },
      "source": [
        "#### Readmitted_30"
      ]
    },
    {
      "cell_type": "code",
      "execution_count": 686,
      "metadata": {
        "id": "ssP2FLaO9jib"
      },
      "outputs": [],
      "source": [
        "# check class imbalance in the target variable"
      ]
    },
    {
      "cell_type": "code",
      "execution_count": 687,
      "metadata": {
        "colab": {
          "base_uri": "https://localhost:8080/",
          "height": 871
        },
        "id": "REccfxxB9jib",
        "outputId": "a903f141-691a-4855-dace-c8c4bd299842"
      },
      "outputs": [
        {
          "name": "stderr",
          "output_type": "stream",
          "text": [
            "C:\\Users\\shame\\AppData\\Local\\Temp\\ipykernel_19884\\4110529939.py:5: FutureWarning: \n",
            "\n",
            "Passing `palette` without assigning `hue` is deprecated and will be removed in v0.14.0. Assign the `x` variable to `hue` and set `legend=False` for the same effect.\n",
            "\n",
            "  sns.countplot(x='Readmitted_30', data=df, palette='Blues')\n"
          ]
        },
        {
          "data": {
            "image/png": "[encoded data removed]",
            "text/plain": [
              "<Figure size 1200x800 with 2 Axes>"
            ]
          },
          "metadata": {},
          "output_type": "display_data"
        }
      ],
      "source": [
        "plt.figure(figsize=(12, 8))\n",
        "\n",
        "# Create a countplot for Readmitted_30\n",
        "plt.subplot(1, 2, 1)\n",
        "sns.countplot(x='Readmitted_30', data=df, palette='Blues')\n",
        "plt.title('Distribution of 30-Day Readmissions', fontsize=14)\n",
        "plt.xlabel('Readmitted within 30 days', fontsize=12)\n",
        "plt.ylabel('Count', fontsize=12)\n",
        "plt.xticks([0, 1], ['No (0)', 'Yes (1)'])\n",
        "\n",
        "# Add count labels on top of bars\n",
        "for p in plt.gca().patches:\n",
        "    plt.gca().annotate(f'{p.get_height():,}',\n",
        "                       (p.get_x() + p.get_width() / 2., p.get_height()),\n",
        "                       ha='center', va='bottom', fontsize=11)\n",
        "\n",
        "# Create a pie chart showing percentage distribution\n",
        "plt.subplot(1, 2, 2)\n",
        "readmit_counts = df['Readmitted_30'].value_counts()\n",
        "labels = ['Not Readmitted', 'Readmitted within 30 days']\n",
        "colors = ['#9ecae1', '#3182bd']\n",
        "plt.pie(readmit_counts, labels=labels, autopct='%1.1f%%', startangle=90, colors=colors,\n",
        "        wedgeprops={'edgecolor': 'white', 'linewidth': 1.5})\n",
        "plt.title('Percentage of 30-Day Readmissions', fontsize=14)\n",
        "plt.axis('equal')\n",
        "plt.tight_layout()\n",
        "plt.show()"
      ]
    },
    {
      "cell_type": "code",
      "execution_count": 688,
      "metadata": {
        "colab": {
          "base_uri": "https://localhost:8080/"
        },
        "id": "YkygI0y-9jic",
        "outputId": "a3591fd7-d0d5-4432-c1d8-1837136ca167"
      },
      "outputs": [
        {
          "name": "stdout",
          "output_type": "stream",
          "text": [
            "30-Day Readmission Rate: 20.49%\n",
            "Total Patients: 130,296\n",
            "Readmitted Patients: 26,698\n",
            "Non-readmitted Patients: 103,598\n"
          ]
        }
      ],
      "source": [
        "readmission_rate = df['Readmitted_30'].mean() * 100\n",
        "print(f\"30-Day Readmission Rate: {readmission_rate:.2f}%\")\n",
        "print(f\"Total Patients: {len(df):,}\")\n",
        "print(f\"Readmitted Patients: {df['Readmitted_30'].sum():,}\")\n",
        "print(f\"Non-readmitted Patients: {len(df) - df['Readmitted_30'].sum():,}\")"
      ]
    },
    {
      "cell_type": "markdown",
      "metadata": {
        "id": "94I1hzJl9jic"
      },
      "source": [
        "#### Removing class imbalace from training data"
      ]
    },
    {
      "cell_type": "code",
      "execution_count": 689,
      "metadata": {
        "id": "CWsMSekr9jid"
      },
      "outputs": [],
      "source": [
        "y = df['Readmitted_30']"
      ]
    },
    {
      "cell_type": "code",
      "execution_count": 690,
      "metadata": {
        "id": "qyflOJiC9jid"
      },
      "outputs": [],
      "source": [
        "X_countbased = df_count_based.drop([ 'Readmitted_30'], axis=1)\n",
        "X_position_based = df_position_based.drop([ 'Readmitted_30'], axis=1)\n",
        "X_grouped_codes = df_grouped_codes.drop([ 'Readmitted_30'], axis=1)"
      ]
    },
    {
      "cell_type": "code",
      "execution_count": 691,
      "metadata": {
        "id": "TMpxEUor9jid"
      },
      "outputs": [],
      "source": [
        "from sklearn.model_selection import train_test_split\n",
        "\n",
        "X_train_count, X_test_count, y_train, y_test = train_test_split(X_countbased, y, test_size=0.2, random_state=42)\n",
        "\n",
        "X_train_position, X_test_position, y_train, y_test = train_test_split(X_position_based, y, test_size=0.2, random_state=42)\n",
        "\n",
        "X_train_group, X_test_group, y_train, y_test = train_test_split(X_grouped_codes, y, test_size=0.2, random_state=42)"
      ]
    },
    {
      "cell_type": "code",
      "execution_count": 692,
      "metadata": {
        "id": "fvLc1OPL9jie"
      },
      "outputs": [
        {
          "name": "stderr",
          "output_type": "stream",
          "text": [
            "c:\\Users\\shame\\AppData\\Local\\Programs\\Python\\Python39\\lib\\site-packages\\sklearn\\base.py:474: FutureWarning: `BaseEstimator._validate_data` is deprecated in 1.6 and will be removed in 1.7. Use `sklearn.utils.validation.validate_data` instead. This function becomes public and is part of the scikit-learn developer API.\n",
            "  warnings.warn(\n"
          ]
        }
      ],
      "source": [
        "from imblearn.over_sampling import ADASYN\n",
        "\n",
        "adasyn = ADASYN(random_state=42)\n",
        "\n",
        "X_resampled_count, y_resampled_count = adasyn.fit_resample(X_train_count, y_train)\n",
        "\n",
        "#"
      ]
    },
    {
      "cell_type": "code",
      "execution_count": 693,
      "metadata": {
        "id": "nYnGnGQA9jie"
      },
      "outputs": [
        {
          "name": "stderr",
          "output_type": "stream",
          "text": [
            "c:\\Users\\shame\\AppData\\Local\\Programs\\Python\\Python39\\lib\\site-packages\\sklearn\\base.py:474: FutureWarning: `BaseEstimator._validate_data` is deprecated in 1.6 and will be removed in 1.7. Use `sklearn.utils.validation.validate_data` instead. This function becomes public and is part of the scikit-learn developer API.\n",
            "  warnings.warn(\n"
          ]
        }
      ],
      "source": [
        "X_resampled_position, y_resampled_position = adasyn.fit_resample(X_train_position, y_train)\n"
      ]
    },
    {
      "cell_type": "code",
      "execution_count": 694,
      "metadata": {
        "id": "xli6FKQD9jie"
      },
      "outputs": [
        {
          "name": "stderr",
          "output_type": "stream",
          "text": [
            "c:\\Users\\shame\\AppData\\Local\\Programs\\Python\\Python39\\lib\\site-packages\\sklearn\\base.py:474: FutureWarning: `BaseEstimator._validate_data` is deprecated in 1.6 and will be removed in 1.7. Use `sklearn.utils.validation.validate_data` instead. This function becomes public and is part of the scikit-learn developer API.\n",
            "  warnings.warn(\n"
          ]
        }
      ],
      "source": [
        "X_resampled_group, y_resampled_group = adasyn.fit_resample(X_train_group, y_train)\n"
      ]
    },
    {
      "cell_type": "code",
      "execution_count": 695,
      "metadata": {
        "colab": {
          "base_uri": "https://localhost:8080/"
        },
        "id": "93Q_wANA9jif",
        "outputId": "100674dc-c53e-4855-bc22-e698b1fae1f7"
      },
      "outputs": [
        {
          "name": "stdout",
          "output_type": "stream",
          "text": [
            "<class 'pandas.core.series.Series'>\n",
            "RangeIndex: 165308 entries, 0 to 165307\n",
            "Series name: Readmitted_30\n",
            "Non-Null Count   Dtype\n",
            "--------------   -----\n",
            "165308 non-null  int64\n",
            "dtypes: int64(1)\n",
            "memory usage: 1.3 MB\n"
          ]
        }
      ],
      "source": [
        "y_resampled_count.info()"
      ]
    },
    {
      "cell_type": "code",
      "execution_count": null,
      "metadata": {},
      "outputs": [],
      "source": [
        "# # saving preprocessed data\n",
        "# X_resampled_count.to_csv('X_resampled_count.csv', index=False)\n",
        "# X_resampled_position.to_csv('X_resampled_position.csv', index=False)\n",
        "# X_resampled_group.to_csv('X_resampled_group.csv', index=False)\n",
        "# y_resampled_count.to_csv('y_resampled_count.csv', index=False)\n",
        "# y_resampled_position.to_csv('y_resampled_position.csv', index=False)\n",
        "# y_resampled_group.to_csv('y_resampled_group.csv', index=False)\n",
        "\n",
        "# X_test_count.to_csv('X_test_count.csv', index=False)\n",
        "# X_test_position.to_csv('X_test_position.csv', index=False)\n",
        "# X_test_group.to_csv('X_test_group.csv', index=False)\n",
        "# y_test.to_csv('y_test.csv', index=False)"
      ]
    },
    {
      "cell_type": "markdown",
      "metadata": {
        "id": "kLPI2ruf9jif"
      },
      "source": [
        "# Model Training"
      ]
    },
    {
      "cell_type": "code",
      "execution_count": null,
      "metadata": {
        "id": "OL4ekpi89jig"
      },
      "outputs": [],
      "source": [
        "# # without class imbalance in the dataset\n",
        "# #       train\n",
        "# X_resampled_count = pd.read_csv('X_resampled_count.csv')\n",
        "# X_resampled_position = pd.read_csv('X_resampled_position.csv')\n",
        "# X_resampled_group = pd.read_csv('X_resampled_group.csv')\n",
        "# y_resampled_count = pd.read_csv('y_resampled_count.csv')\n",
        "# y_resampled_position = pd.read_csv('y_resampled_position.csv')\n",
        "# y_resampled_group = pd.read_csv('y_resampled_group.csv')\n",
        "# #        test\n",
        "# X_test_count = pd.read_csv('X_test_count.csv')\n",
        "# X_test_position = pd.read_csv('X_test_position.csv')\n",
        "# X_test_group = pd.read_csv('X_test_group.csv')\n",
        "# y_test = pd.read_csv('y_test.csv')\n",
        "\n",
        "\n",
        "# from sklearn.model_selection import train_test_split\n",
        "\n",
        "# # Class imblance in the dataset\n",
        "# df_count_based = pd.read_csv('df_count_based_class_imbalance.csv')\n",
        "# df_position_based = pd.read_csv('df_position_based_class_imbalance.csv')\n",
        "# df_grouped_codes = pd.read_csv('df_grouped_codes_class_imbalance.csv')\n",
        "\n",
        "\n",
        "# X_countbased = df_count_based.drop([ 'Readmitted_30'], axis=1)\n",
        "# X_position_based = df_position_based.drop([ 'Readmitted_30'], axis=1)\n",
        "# X_grouped_codes = df_grouped_codes.drop([ 'Readmitted_30'], axis=1)\n",
        "# y = df_count_based['Readmitted_30']\n",
        "\n",
        "# X_train_count, X_test_count, y_train, y_test = train_test_split(X_countbased, y, test_size=0.2, random_state=42)\n",
        "# X_train_position, X_test_position, y_train, y_test = train_test_split(X_position_based, y, test_size=0.2, random_state=42)\n",
        "# X_train_group, X_test_group, y_train, y_test = train_test_split(X_grouped_codes, y, test_size=0.2, random_state=42)"
      ]
    },
    {
      "cell_type": "code",
      "execution_count": 3,
      "metadata": {
        "id": "flF7_UZS9jig"
      },
      "outputs": [],
      "source": [
        "from sklearn.linear_model import LogisticRegression\n",
        "from sklearn.metrics import accuracy_score, precision_score, recall_score, f1_score, roc_auc_score, classification_report\n",
        "from catboost import CatBoostClassifier\n",
        "from sklearn.preprocessing import StandardScaler\n"
      ]
    },
    {
      "cell_type": "code",
      "execution_count": 24,
      "metadata": {
        "colab": {
          "base_uri": "https://localhost:8080/"
        },
        "id": "1SgSPYaB9jih",
        "outputId": "506d3bb2-61eb-46df-bac7-a702dd41ea68"
      },
      "outputs": [
        {
          "name": "stdout",
          "output_type": "stream",
          "text": [
            "Training Logistic Regression on Count-Based Features...\n"
          ]
        },
        {
          "name": "stderr",
          "output_type": "stream",
          "text": [
            "c:\\Users\\shame\\AppData\\Local\\Programs\\Python\\Python39\\lib\\site-packages\\sklearn\\utils\\validation.py:1408: DataConversionWarning: A column-vector y was passed when a 1d array was expected. Please change the shape of y to (n_samples, ), for example using ravel().\n",
            "  y = column_or_1d(y, warn=True)\n"
          ]
        },
        {
          "name": "stdout",
          "output_type": "stream",
          "text": [
            "Accuracy: 0.5569\n",
            "Precision: 0.2434\n",
            "Recall: 0.5588\n",
            "F1 Score: 0.3391\n",
            "ROC AUC Score: 0.5890\n",
            "\n",
            "Classification Report:\n",
            "              precision    recall  f1-score   support\n",
            "\n",
            "           0       0.83      0.56      0.67     20759\n",
            "           1       0.24      0.56      0.34      5301\n",
            "\n",
            "    accuracy                           0.56     26060\n",
            "   macro avg       0.54      0.56      0.50     26060\n",
            "weighted avg       0.71      0.56      0.60     26060\n",
            "\n",
            "----------------------------------------\n",
            "Training Logistic Regression on position...\n"
          ]
        },
        {
          "name": "stderr",
          "output_type": "stream",
          "text": [
            "c:\\Users\\shame\\AppData\\Local\\Programs\\Python\\Python39\\lib\\site-packages\\sklearn\\utils\\validation.py:1408: DataConversionWarning: A column-vector y was passed when a 1d array was expected. Please change the shape of y to (n_samples, ), for example using ravel().\n",
            "  y = column_or_1d(y, warn=True)\n"
          ]
        },
        {
          "name": "stdout",
          "output_type": "stream",
          "text": [
            "Accuracy: 0.5625\n",
            "Precision: 0.2519\n",
            "Recall: 0.5844\n",
            "F1 Score: 0.3521\n",
            "ROC AUC Score: 0.6113\n",
            "\n",
            "Classification Report:\n",
            "              precision    recall  f1-score   support\n",
            "\n",
            "           0       0.84      0.56      0.67     20759\n",
            "           1       0.25      0.58      0.35      5301\n",
            "\n",
            "    accuracy                           0.56     26060\n",
            "   macro avg       0.55      0.57      0.51     26060\n",
            "weighted avg       0.72      0.56      0.61     26060\n",
            "\n",
            "----------------------------------------\n",
            "Training Logistic Regression on group...\n"
          ]
        },
        {
          "name": "stderr",
          "output_type": "stream",
          "text": [
            "c:\\Users\\shame\\AppData\\Local\\Programs\\Python\\Python39\\lib\\site-packages\\sklearn\\utils\\validation.py:1408: DataConversionWarning: A column-vector y was passed when a 1d array was expected. Please change the shape of y to (n_samples, ), for example using ravel().\n",
            "  y = column_or_1d(y, warn=True)\n"
          ]
        },
        {
          "name": "stdout",
          "output_type": "stream",
          "text": [
            "Accuracy: 0.6303\n",
            "Precision: 0.2268\n",
            "Recall: 0.3394\n",
            "F1 Score: 0.2719\n",
            "ROC AUC Score: 0.5418\n",
            "\n",
            "Classification Report:\n",
            "              precision    recall  f1-score   support\n",
            "\n",
            "           0       0.81      0.70      0.75     20759\n",
            "           1       0.23      0.34      0.27      5301\n",
            "\n",
            "    accuracy                           0.63     26060\n",
            "   macro avg       0.52      0.52      0.51     26060\n",
            "weighted avg       0.69      0.63      0.65     26060\n",
            "\n",
            "----------------------------------------\n"
          ]
        }
      ],
      "source": [
        "def train_logistic_regression(X_train, X_test, y_train, y_test):\n",
        "    \"\"\"\n",
        "    Train and evaluate a Logistic Regression model with data scaling.\n",
        "    Parameters:\n",
        "        X_train, X_test: Training and test features\n",
        "        y_train, y_test: Training and test labels\n",
        "\n",
        "    Returns:\n",
        "        lr: Trained Logistic Regression model\n",
        "        metrics: Dictionary containing evaluation metrics\n",
        "    \"\"\"\n",
        "\n",
        "    scaler = StandardScaler()\n",
        "\n",
        "    X_train = scaler.fit_transform(X_train)\n",
        "    X_test = scaler.transform(X_test)\n",
        "\n",
        "    lr = LogisticRegression(random_state=42, max_iter=10000)\n",
        "    lr.fit(X_train, y_train)\n",
        "\n",
        "    y_pred = lr.predict(X_test)\n",
        "    y_pred_proba = lr.predict_proba(X_test)[:, 1]\n",
        "\n",
        "    metrics = {\n",
        "        'accuracy': accuracy_score(y_test, y_pred),\n",
        "        'precision': precision_score(y_test, y_pred),\n",
        "        'recall': recall_score(y_test, y_pred),\n",
        "        'f1': f1_score(y_test, y_pred),\n",
        "        'roc_auc': roc_auc_score(y_test, y_pred_proba)\n",
        "    }\n",
        "\n",
        "    print(f\"Accuracy: {metrics['accuracy']:.4f}\")\n",
        "    print(f\"Precision: {metrics['precision']:.4f}\")\n",
        "    print(f\"Recall: {metrics['recall']:.4f}\")\n",
        "    print(f\"F1 Score: {metrics['f1']:.4f}\")\n",
        "    print(f\"ROC AUC Score: {metrics['roc_auc']:.4f}\")\n",
        "    print(\"\\nClassification Report:\")\n",
        "    print(classification_report(y_test, y_pred))\n",
        "    print(\"----------------------------------------\")\n",
        "\n",
        "    return lr, metrics\n",
        "\n",
        "lr_metrics_dict = {}\n",
        "\n",
        "print(\"Training Logistic Regression on Count-Based Features...\")\n",
        "lr_model1, lr_metrics_dict['count'] = train_logistic_regression(X_resampled_count,X_test_count,y_resampled_count, y_test)\n",
        "\n",
        "print(\"Training Logistic Regression on position...\")\n",
        "lr_model2, lr_metrics_dict['position'] = train_logistic_regression(X_resampled_position,X_test_position,y_resampled_position, y_test)\n",
        "\n",
        "print(\"Training Logistic Regression on group...\")\n",
        "lr_model3, lr_metrics_dict['group'] = train_logistic_regression(X_resampled_group,X_test_group,y_resampled_group, y_test)"
      ]
    },
    {
      "cell_type": "code",
      "execution_count": 5,
      "metadata": {
        "colab": {
          "base_uri": "https://localhost:8080/",
          "height": 406
        },
        "id": "CfCH8EvN9jij",
        "outputId": "eb43abac-4e4c-430b-a33f-75e766bf7c50"
      },
      "outputs": [],
      "source": [
        "def train_random_forest(X_train, X_test, y_train, y_test, feature_selection=False, hyperparameter_tuning=False):\n",
        "    \"\"\"\n",
        "    Train and evaluate an improved Random Forest model with optional feature selection\n",
        "    and simplified hyperparameter approach for faster execution\n",
        "    \n",
        "    Parameters:\n",
        "        X_train, X_test: Training and test features\n",
        "        y_train, y_test: Training and test labels\n",
        "        feature_selection: Whether to perform feature selection\n",
        "        hyperparameter_tuning: Whether to tune hyperparameters (limited scope)\n",
        "\n",
        "    Returns:\n",
        "        rf: Trained Random Forest model\n",
        "        metrics: Dictionary containing evaluation metrics\n",
        "    \"\"\"\n",
        "    from sklearn.preprocessing import StandardScaler\n",
        "    from sklearn.ensemble import RandomForestClassifier\n",
        "    from sklearn.metrics import accuracy_score, precision_score, recall_score, f1_score, roc_auc_score, classification_report\n",
        "    import pandas as pd\n",
        "    import numpy as np\n",
        "    \n",
        "    print(\"Preprocessing data...\")\n",
        "    # Preserve column names for feature importance analysis\n",
        "    feature_names = None\n",
        "    if hasattr(X_train, 'columns'):\n",
        "        feature_names = X_train.columns.tolist()\n",
        "    \n",
        "    # Scale features\n",
        "    scaler = StandardScaler()\n",
        "    X_train_scaled = scaler.fit_transform(X_train)\n",
        "    X_test_scaled = scaler.transform(X_test)\n",
        "    \n",
        "    # If feature names were available, convert back to DataFrame after scaling\n",
        "    if feature_names is not None:\n",
        "        X_train_scaled = pd.DataFrame(X_train_scaled, columns=feature_names)\n",
        "        X_test_scaled = pd.DataFrame(X_test_scaled, columns=feature_names)\n",
        "    \n",
        "    # Feature selection if requested and we have feature names\n",
        "    if feature_selection and feature_names is not None:\n",
        "        print(\"Performing feature selection...\")\n",
        "        # Use a smaller, faster model for feature selection\n",
        "        prelim_rf = RandomForestClassifier(\n",
        "            n_estimators=50,  # Reduced from 100\n",
        "            max_depth=10,\n",
        "            random_state=42, \n",
        "            class_weight='balanced',\n",
        "            n_jobs=-1\n",
        "        )\n",
        "        prelim_rf.fit(X_train_scaled, y_train)\n",
        "        \n",
        "        # Get feature importances\n",
        "        importances = prelim_rf.feature_importances_\n",
        "        \n",
        "        # Create DataFrame of features and their importance\n",
        "        feature_importance = pd.DataFrame({\n",
        "            'feature': feature_names,\n",
        "            'importance': importances\n",
        "        }).sort_values('importance', ascending=False)\n",
        "        \n",
        "        # Select top 80% most important features\n",
        "        cumulative_importance = 0\n",
        "        important_features = []\n",
        "        for i, row in feature_importance.iterrows():\n",
        "            important_features.append(row['feature'])\n",
        "            cumulative_importance += row['importance']\n",
        "            if cumulative_importance >= 0.8:  # Slightly increased threshold\n",
        "                break\n",
        "        \n",
        "        print(f\"Selected {len(important_features)} out of {len(feature_names)} features\")\n",
        "        \n",
        "        # Keep only selected features\n",
        "        if isinstance(X_train_scaled, pd.DataFrame):\n",
        "            X_train_scaled = X_train_scaled[important_features]\n",
        "            X_test_scaled = X_test_scaled[important_features]\n",
        "    \n",
        "    # Hyperparameter approach - use pre-optimized parameters for speed\n",
        "    if hyperparameter_tuning:\n",
        "        # Instead of full grid search, try just 2-3 promising configurations\n",
        "        print(\"Using limited hyperparameter configurations...\")\n",
        "        \n",
        "        # Try these 3 promising configurations\n",
        "        param_configs = [\n",
        "            # Configuration 1: Balanced with moderate depth\n",
        "            {\n",
        "                'n_estimators': 300,\n",
        "                'max_depth': 15,\n",
        "                'min_samples_split': 5,\n",
        "                'min_samples_leaf': 2,\n",
        "                'max_features': 'sqrt',\n",
        "                'bootstrap': True,\n",
        "                'class_weight': 'balanced',\n",
        "                'n_jobs': -1,\n",
        "                'random_state': 42\n",
        "            },\n",
        "            # Configuration 2: Deeper trees\n",
        "            {\n",
        "                'n_estimators': 200,\n",
        "                'max_depth': 25,\n",
        "                'min_samples_split': 2,\n",
        "                'min_samples_leaf': 1,\n",
        "                'max_features': 'sqrt',\n",
        "                'bootstrap': True,\n",
        "                'class_weight': 'balanced',\n",
        "                'n_jobs': -1,\n",
        "                'random_state': 42\n",
        "            },\n",
        "            # Configuration 3: More trees, balanced subsample\n",
        "            {\n",
        "                'n_estimators': 400,\n",
        "                'max_depth': 12,\n",
        "                'min_samples_split': 5,\n",
        "                'min_samples_leaf': 2,\n",
        "                'max_features': 'log2',\n",
        "                'bootstrap': True,\n",
        "                'class_weight': 'balanced_subsample',\n",
        "                'n_jobs': -1,\n",
        "                'random_state': 42\n",
        "            }\n",
        "        ]\n",
        "        \n",
        "        # Simple validation approach instead of CV\n",
        "        best_accuracy = 0\n",
        "        best_config = None\n",
        "        best_model = None\n",
        "        \n",
        "        # Use a small validation split from training data\n",
        "        from sklearn.model_selection import train_test_split\n",
        "        X_train_sub, X_val, y_train_sub, y_val = train_test_split(\n",
        "            X_train_scaled, y_train, test_size=0.2, random_state=42, stratify=y_train\n",
        "        )\n",
        "        \n",
        "        # Try each configuration\n",
        "        for i, config in enumerate(param_configs):\n",
        "            print(f\"Testing configuration {i+1}/3...\")\n",
        "            \n",
        "            # Train model with this configuration\n",
        "            model = RandomForestClassifier(**config)\n",
        "            model.fit(X_train_sub, y_train_sub)\n",
        "            \n",
        "            # Evaluate on validation set\n",
        "            y_val_pred = model.predict(X_val)\n",
        "            accuracy = roc_auc_score(y_val, y_val_pred)\n",
        "            \n",
        "            print(f\"Configuration {i+1} Accuracy: {accuracy:.4f}\")\n",
        "            \n",
        "            if accuracy > best_accuracy:\n",
        "                best_accuracy = accuracy\n",
        "                best_config = config\n",
        "                best_model = model\n",
        "        \n",
        "        print(f\"Best configuration accuracy: {best_accuracy:.4f}\")\n",
        "        \n",
        "        # Retrain the best model on full training data\n",
        "        rf = RandomForestClassifier(**best_config)\n",
        "        \n",
        "    else:\n",
        "        # Use a better default configuration optimized for both speed and performance\n",
        "        rf = RandomForestClassifier(\n",
        "            n_estimators=300,\n",
        "            max_depth=15,\n",
        "            min_samples_leaf=2,\n",
        "            min_samples_split=5,\n",
        "            max_features='sqrt',\n",
        "            bootstrap=True,\n",
        "            class_weight='balanced',\n",
        "            random_state=42,\n",
        "            n_jobs=-1  # Use all cores\n",
        "        )\n",
        "    \n",
        "    print(\"Training final model...\")\n",
        "    # Fit the model\n",
        "    rf.fit(X_train_scaled, y_train)\n",
        "    \n",
        "    # Make predictions\n",
        "    y_pred = rf.predict(X_test_scaled)\n",
        "    y_pred_proba = rf.predict_proba(X_test_scaled)[:,1]\n",
        "    \n",
        "    # Calculate metrics\n",
        "    metrics = {\n",
        "        'accuracy': accuracy_score(y_test, y_pred),\n",
        "        'precision': precision_score(y_test, y_pred),\n",
        "        'recall': recall_score(y_test, y_pred),\n",
        "        'f1': f1_score(y_test, y_pred),\n",
        "        'roc_auc': roc_auc_score(y_test, y_pred_proba)\n",
        "    }\n",
        "    \n",
        "    print(f\"Accuracy: {metrics['accuracy']:.4f}\")\n",
        "    print(f\"Precision: {metrics['precision']:.4f}\")\n",
        "    print(f\"Recall: {metrics['recall']:.4f}\")\n",
        "    print(f\"F1 Score: {metrics['f1']:.4f}\")\n",
        "    print(f\"ROC AUC Score: {metrics['roc_auc']:.4f}\")\n",
        "    print(\"\\nClassification Report:\")\n",
        "    print(classification_report(y_test, y_pred))\n",
        "    \n",
        "    # Print top features if we have feature names\n",
        "    if feature_names is not None and isinstance(X_train_scaled, pd.DataFrame):\n",
        "        feature_names = X_train_scaled.columns.tolist()\n",
        "        if len(feature_names) > 0:\n",
        "            print(\"\\nTop 10 Feature Importance:\")\n",
        "            feature_importance = rf.feature_importances_\n",
        "            sorted_idx = np.argsort(feature_importance)[::-1]\n",
        "            for i in range(min(10, len(feature_names))):\n",
        "                print(f\"{feature_names[sorted_idx[i]]}: {feature_importance[sorted_idx[i]]:.4f}\")\n",
        "    \n",
        "    print(\"----------------------------------------\")\n",
        "    \n",
        "    return rf, metrics\n",
        "\n",
        "# Update the function calls\n",
        "rf_metrics_dict = {}"
      ]
    },
    {
      "cell_type": "code",
      "execution_count": 6,
      "metadata": {},
      "outputs": [
        {
          "name": "stdout",
          "output_type": "stream",
          "text": [
            "Training Random Forest on Count-Based Features...\n",
            "Preprocessing data...\n",
            "Training final model...\n"
          ]
        },
        {
          "name": "stderr",
          "output_type": "stream",
          "text": [
            "c:\\Users\\shame\\AppData\\Local\\Programs\\Python\\Python39\\lib\\site-packages\\sklearn\\base.py:1389: DataConversionWarning: A column-vector y was passed when a 1d array was expected. Please change the shape of y to (n_samples,), for example using ravel().\n",
            "  return fit_method(estimator, *args, **kwargs)\n"
          ]
        },
        {
          "name": "stdout",
          "output_type": "stream",
          "text": [
            "Accuracy: 0.6675\n",
            "Precision: 0.2676\n",
            "Recall: 0.3656\n",
            "F1 Score: 0.3090\n",
            "ROC AUC Score: 0.5974\n",
            "\n",
            "Classification Report:\n",
            "              precision    recall  f1-score   support\n",
            "\n",
            "           0       0.82      0.74      0.78     20759\n",
            "           1       0.27      0.37      0.31      5301\n",
            "\n",
            "    accuracy                           0.67     26060\n",
            "   macro avg       0.54      0.56      0.55     26060\n",
            "weighted avg       0.71      0.67      0.69     26060\n",
            "\n",
            "\n",
            "Top 10 Feature Importance:\n",
            "AD_DGNS_encoded: 0.4604\n",
            "STAY_DRG_CD: 0.1064\n",
            "num_diagnoses: 0.0824\n",
            "STUS_CD_encoded: 0.0668\n",
            "discharge_month: 0.0583\n",
            "LENGTH_OF_STAY: 0.0580\n",
            "TYPE_ADM_encoded: 0.0564\n",
            "admit_dayofweek: 0.0481\n",
            "num_procedures: 0.0384\n",
            "SRC_ADMS_encoded: 0.0247\n",
            "----------------------------------------\n"
          ]
        }
      ],
      "source": [
        "\n",
        "print(\"Training Random Forest on Count-Based Features...\")\n",
        "rf_model1, rf_metrics_dict['count'] = train_random_forest(X_resampled_count, X_test_count, y_resampled_count, y_test)\n"
      ]
    },
    {
      "cell_type": "code",
      "execution_count": 7,
      "metadata": {},
      "outputs": [
        {
          "name": "stdout",
          "output_type": "stream",
          "text": [
            "Training Random Forest on position...\n",
            "Preprocessing data...\n",
            "Training final model...\n"
          ]
        },
        {
          "name": "stderr",
          "output_type": "stream",
          "text": [
            "c:\\Users\\shame\\AppData\\Local\\Programs\\Python\\Python39\\lib\\site-packages\\sklearn\\base.py:1389: DataConversionWarning: A column-vector y was passed when a 1d array was expected. Please change the shape of y to (n_samples,), for example using ravel().\n",
            "  return fit_method(estimator, *args, **kwargs)\n"
          ]
        },
        {
          "name": "stdout",
          "output_type": "stream",
          "text": [
            "Accuracy: 0.7099\n",
            "Precision: 0.2940\n",
            "Recall: 0.3043\n",
            "F1 Score: 0.2991\n",
            "ROC AUC Score: 0.6231\n",
            "\n",
            "Classification Report:\n",
            "              precision    recall  f1-score   support\n",
            "\n",
            "           0       0.82      0.81      0.82     20759\n",
            "           1       0.29      0.30      0.30      5301\n",
            "\n",
            "    accuracy                           0.71     26060\n",
            "   macro avg       0.56      0.56      0.56     26060\n",
            "weighted avg       0.71      0.71      0.71     26060\n",
            "\n",
            "\n",
            "Top 10 Feature Importance:\n",
            "AD_DGNS_encoded: 0.3327\n",
            "primary_diagnosis_encoded: 0.2203\n",
            "treatment_ratio: 0.0937\n",
            "primary_condition_treated: 0.0802\n",
            "STAY_DRG_CD: 0.0739\n",
            "STUS_CD_encoded: 0.0435\n",
            "LENGTH_OF_STAY: 0.0412\n",
            "discharge_month: 0.0376\n",
            "TYPE_ADM_encoded: 0.0335\n",
            "admit_dayofweek: 0.0297\n",
            "----------------------------------------\n"
          ]
        }
      ],
      "source": [
        "print(\"Training Random Forest on position...\")\n",
        "# This was using train_logistic_regression incorrectly - fixed to use Random Forest\n",
        "rf_model2, rf_metrics_dict['position'] = train_random_forest(X_resampled_position, X_test_position, y_resampled_position, y_test)\n"
      ]
    },
    {
      "cell_type": "code",
      "execution_count": 8,
      "metadata": {},
      "outputs": [
        {
          "name": "stdout",
          "output_type": "stream",
          "text": [
            "Training Random Forest on group...\n",
            "Preprocessing data...\n",
            "Training final model...\n"
          ]
        },
        {
          "name": "stderr",
          "output_type": "stream",
          "text": [
            "c:\\Users\\shame\\AppData\\Local\\Programs\\Python\\Python39\\lib\\site-packages\\sklearn\\base.py:1389: DataConversionWarning: A column-vector y was passed when a 1d array was expected. Please change the shape of y to (n_samples,), for example using ravel().\n",
            "  return fit_method(estimator, *args, **kwargs)\n"
          ]
        },
        {
          "name": "stdout",
          "output_type": "stream",
          "text": [
            "Accuracy: 0.6646\n",
            "Precision: 0.2382\n",
            "Recall: 0.2950\n",
            "F1 Score: 0.2636\n",
            "ROC AUC Score: 0.5742\n",
            "\n",
            "Classification Report:\n",
            "              precision    recall  f1-score   support\n",
            "\n",
            "           0       0.81      0.76      0.78     20759\n",
            "           1       0.24      0.30      0.26      5301\n",
            "\n",
            "    accuracy                           0.66     26060\n",
            "   macro avg       0.52      0.53      0.52     26060\n",
            "weighted avg       0.69      0.66      0.68     26060\n",
            "\n",
            "\n",
            "Top 10 Feature Importance:\n",
            "AD_DGNS_encoded: 0.1805\n",
            "diag_code_I10: 0.0663\n",
            "STAY_DRG_CD: 0.0635\n",
            "discharge_month: 0.0500\n",
            "LENGTH_OF_STAY: 0.0488\n",
            "diag_code_Z90: 0.0472\n",
            "STUS_CD_encoded: 0.0458\n",
            "admit_dayofweek: 0.0399\n",
            "TYPE_ADM_encoded: 0.0386\n",
            "diag_code_Z88: 0.0381\n",
            "----------------------------------------\n"
          ]
        }
      ],
      "source": [
        "\n",
        "print(\"Training Random Forest on group...\")\n",
        "# This was using train_logistic_regression incorrectly - fixed to use Random Forest\n",
        "rf_model3, rf_metrics_dict['group'] = train_random_forest(X_resampled_group, X_test_group, y_resampled_group, y_test)"
      ]
    },
    {
      "cell_type": "code",
      "execution_count": 9,
      "metadata": {},
      "outputs": [],
      "source": [
        "def train_catboost(X_train, X_test, y_train, y_test):\n",
        "    \"\"\"\n",
        "    Train and evaluate a CatBoost model\n",
        "    Parameters:\n",
        "        X_train, X_test: Training and test features\n",
        "        y_train, y_test: Training and test labels\n",
        "\n",
        "    Returns:\n",
        "        cat: Trained CatBoost model\n",
        "        metrics: Dictionary containing evaluation metrics\n",
        "    \"\"\"\n",
        "    # Initialize and train the model\n",
        "    cat = CatBoostClassifier(random_state=42, verbose=0)\n",
        "    cat.fit(X_train, y_train)\n",
        "\n",
        "    # Make predictions\n",
        "    y_pred = cat.predict(X_test)\n",
        "    y_pred_proba = cat.predict_proba(X_test)[:,1]\n",
        "\n",
        "    # Calculate metrics\n",
        "    metrics = {\n",
        "        'accuracy': accuracy_score(y_test, y_pred),\n",
        "        'precision': precision_score(y_test, y_pred),\n",
        "        'recall': recall_score(y_test, y_pred),\n",
        "        'f1': f1_score(y_test, y_pred),\n",
        "        'roc_auc': roc_auc_score(y_test, y_pred_proba)\n",
        "    }\n",
        "\n",
        "    # Print results\n",
        "    print(\"----------------------------------------\")\n",
        "    print(f\"Accuracy: {metrics['accuracy']:.4f}\")\n",
        "    print(f\"Precision: {metrics['precision']:.4f}\")\n",
        "    print(f\"Recall: {metrics['recall']:.4f}\")\n",
        "    print(f\"F1 Score: {metrics['f1']:.4f}\")\n",
        "    print(f\"ROC AUC Score: {metrics['roc_auc']:.4f}\")\n",
        "    print(\"\\nClassification Report:\")\n",
        "    print(classification_report(y_test, y_pred))\n",
        "\n",
        "    return cat, metrics\n",
        "\n",
        "# Store metrics for CatBoost models\n",
        "cat_metrics_dict = {}\n"
      ]
    },
    {
      "cell_type": "code",
      "execution_count": 10,
      "metadata": {},
      "outputs": [
        {
          "name": "stdout",
          "output_type": "stream",
          "text": [
            "Training CatBoost on Count-Based Features resammpled...\n"
          ]
        },
        {
          "name": "stdout",
          "output_type": "stream",
          "text": [
            "----------------------------------------\n",
            "Accuracy: 0.7340\n",
            "Precision: 0.2854\n",
            "Recall: 0.2047\n",
            "F1 Score: 0.2384\n",
            "ROC AUC Score: 0.5972\n",
            "\n",
            "Classification Report:\n",
            "              precision    recall  f1-score   support\n",
            "\n",
            "           0       0.81      0.87      0.84     20759\n",
            "           1       0.29      0.20      0.24      5301\n",
            "\n",
            "    accuracy                           0.73     26060\n",
            "   macro avg       0.55      0.54      0.54     26060\n",
            "weighted avg       0.70      0.73      0.72     26060\n",
            "\n"
          ]
        }
      ],
      "source": [
        "\n",
        "# Train and evaluate CatBoost on dataset 1\n",
        "print(\"Training CatBoost on Count-Based Features resammpled...\")\n",
        "cat_model1, cat_metrics_dict['dataset1'] = train_catboost(X_resampled_count,X_test_count,y_resampled_count, y_test)\n",
        "\n",
        "\n",
        "\n"
      ]
    },
    {
      "cell_type": "code",
      "execution_count": 11,
      "metadata": {},
      "outputs": [
        {
          "name": "stdout",
          "output_type": "stream",
          "text": [
            "Training CatBoost on position resammpled...\n",
            "----------------------------------------\n",
            "Accuracy: 0.7708\n",
            "Precision: 0.3184\n",
            "Recall: 0.1113\n",
            "F1 Score: 0.1649\n",
            "ROC AUC Score: 0.6164\n",
            "\n",
            "Classification Report:\n",
            "              precision    recall  f1-score   support\n",
            "\n",
            "           0       0.81      0.94      0.87     20759\n",
            "           1       0.32      0.11      0.16      5301\n",
            "\n",
            "    accuracy                           0.77     26060\n",
            "   macro avg       0.56      0.53      0.52     26060\n",
            "weighted avg       0.71      0.77      0.72     26060\n",
            "\n"
          ]
        }
      ],
      "source": [
        "print(\"Training CatBoost on position resammpled...\")\n",
        "cat_model2, cat_metrics_dict['position'] = train_catboost(X_resampled_position, X_test_position, y_resampled_position, y_test)\n",
        "\n"
      ]
    },
    {
      "cell_type": "code",
      "execution_count": 12,
      "metadata": {},
      "outputs": [
        {
          "name": "stdout",
          "output_type": "stream",
          "text": [
            "Training CatBoost on position...\n",
            "----------------------------------------\n",
            "Accuracy: 0.7993\n",
            "Precision: 0.6224\n",
            "Recall: 0.0345\n",
            "F1 Score: 0.0654\n",
            "ROC AUC Score: 0.6509\n",
            "\n",
            "Classification Report:\n",
            "              precision    recall  f1-score   support\n",
            "\n",
            "           0       0.80      0.99      0.89     20759\n",
            "           1       0.62      0.03      0.07      5301\n",
            "\n",
            "    accuracy                           0.80     26060\n",
            "   macro avg       0.71      0.51      0.48     26060\n",
            "weighted avg       0.76      0.80      0.72     26060\n",
            "\n"
          ]
        }
      ],
      "source": [
        "print(\"Training CatBoost on position...\")\n",
        "cat_modelx, cat_metrics_dict['dataset2'] = train_catboost(X_train_position, X_test_position, y_train, y_test)\n",
        "\n"
      ]
    },
    {
      "cell_type": "code",
      "execution_count": 13,
      "metadata": {},
      "outputs": [
        {
          "name": "stdout",
          "output_type": "stream",
          "text": [
            "Training CatBoost on group...\n",
            "----------------------------------------\n",
            "Accuracy: 0.7972\n",
            "Precision: 0.5408\n",
            "Recall: 0.0200\n",
            "F1 Score: 0.0386\n",
            "ROC AUC Score: 0.6449\n",
            "\n",
            "Classification Report:\n",
            "              precision    recall  f1-score   support\n",
            "\n",
            "           0       0.80      1.00      0.89     20759\n",
            "           1       0.54      0.02      0.04      5301\n",
            "\n",
            "    accuracy                           0.80     26060\n",
            "   macro avg       0.67      0.51      0.46     26060\n",
            "weighted avg       0.75      0.80      0.71     26060\n",
            "\n"
          ]
        }
      ],
      "source": [
        "print(\"Training CatBoost on group...\")\n",
        "cat_model3, cat_metrics_dict['dataset3'] = train_catboost(X_train_group, X_test_group, y_train, y_test)\n",
        "\n"
      ]
    },
    {
      "cell_type": "code",
      "execution_count": 14,
      "metadata": {},
      "outputs": [
        {
          "name": "stdout",
          "output_type": "stream",
          "text": [
            "Training CatBoost on group resammpled...\n",
            "----------------------------------------\n",
            "Accuracy: 0.7248\n",
            "Precision: 0.2595\n",
            "Recall: 0.1903\n",
            "F1 Score: 0.2196\n",
            "ROC AUC Score: 0.5767\n",
            "\n",
            "Classification Report:\n",
            "              precision    recall  f1-score   support\n",
            "\n",
            "           0       0.81      0.86      0.83     20759\n",
            "           1       0.26      0.19      0.22      5301\n",
            "\n",
            "    accuracy                           0.72     26060\n",
            "   macro avg       0.53      0.53      0.53     26060\n",
            "weighted avg       0.70      0.72      0.71     26060\n",
            "\n"
          ]
        }
      ],
      "source": [
        "print(\"Training CatBoost on group resammpled...\")\n",
        "cat_model3, cat_metrics_dict['group'] = train_catboost(X_resampled_group, X_test_group, y_resampled_group, y_test)\n"
      ]
    },
    {
      "cell_type": "markdown",
      "metadata": {
        "id": "zkVNaJwe6DZY"
      },
      "source": [
        "# Testing"
      ]
    },
    {
      "cell_type": "code",
      "execution_count": 18,
      "metadata": {
        "id": "O42_u6_L6Kfa"
      },
      "outputs": [],
      "source": [
        "from sklearn.preprocessing import LabelEncoder\n",
        "import joblib\n",
        "\n",
        "def preprocess_p1(test_df):\n",
        "      test_df = test_df.replace('-', pd.NA)\n",
        "\n",
        "      ID = test_df['ID']\n",
        "      test_df.drop(columns=['ID'], inplace=True)\n",
        "\n",
        "      test_df['STAY_DRG_CD'] = test_df['STAY_DRG_CD'].fillna(test_df['stay_drg_cd'])\n",
        "      test_df['STAY_DRG_CD'] = test_df['STAY_DRG_CD'].fillna(test_df['STAY_DRG_CD'].mode()[0])\n",
        "      test_df.drop(columns=['stay_drg_cd'], inplace=True)\n",
        "      test_df['STAY_DRG_CD'] = test_df['STAY_DRG_CD'].astype('int')\n",
        "\n",
        "      test_df['STAY_FROM_DT'] = pd.to_datetime(test_df['STAY_FROM_DT'])\n",
        "      test_df['STAY_THRU_DT'] = pd.to_datetime(test_df['STAY_THRU_DT'])\n",
        "      test_df['LENGTH_OF_STAY'] = (test_df['STAY_THRU_DT'] - test_df['STAY_FROM_DT']).dt.days\n",
        "      test_df['admit_dayofweek'] = test_df['STAY_FROM_DT'].dt.dayofweek\n",
        "      test_df['discharge_month'] = test_df['STAY_THRU_DT'].dt.month\n",
        "      test_df.drop(columns=['STAY_FROM_DT','STAY_THRU_DT'], inplace=True)\n",
        "\n",
        "      le = LabelEncoder()\n",
        "      test_df['STUS_CD_encoded'] = le.fit_transform(test_df['STUS_CD'])\n",
        "      test_df.drop(columns=['STUS_CD'], inplace=True)\n",
        "\n",
        "      le = LabelEncoder()\n",
        "      test_df['TYPE_ADM_encoded'] = le.fit_transform(test_df['TYPE_ADM'])\n",
        "      test_df.drop(columns=['TYPE_ADM'], inplace=True)\n",
        "\n",
        "      le = LabelEncoder()\n",
        "      test_df['SRC_ADMS_encoded'] = le.fit_transform(test_df['SRC_ADMS'])\n",
        "      test_df.drop(columns=['SRC_ADMS'], inplace=True)\n",
        "\n",
        "\n",
        "      global_mean = joblib.load('global_mean.pkl')\n",
        "      target_encoded = joblib.load('target_encoded.pkl')\n",
        "      test_df['AD_DGNS_encoded'] = test_df['AD_DGNS'].map(target_encoded)\n",
        "      test_df['AD_DGNS_encoded'] = test_df['AD_DGNS_encoded'].fillna(global_mean)\n",
        "      test_df.drop(columns=['AD_DGNS'], inplace=True)\n",
        "\n",
        "      \n",
        "\n",
        "\n",
        "      return test_df,ID\n",
        "\n",
        "\n",
        "def preprocess_p2(test_df,ID,method):\n",
        "      proc_columns = [f'PRCDRCD{str(i).zfill(2)}' for i in range(1, 26)]\n",
        "      diag_columns = [f'DGNSCD{str(i).zfill(2)}' for i in range(1, 26)]\n",
        "      # Method 1: Count-Based Features\n",
        "      if method == 'count':\n",
        "            df_count_based_temp = test_df.copy()\n",
        "            df_count_based_temp['num_diagnoses'] = df_count_based_temp[diag_columns].notna().sum(axis=1)\n",
        "            df_count_based_temp['num_procedures'] = df_count_based_temp[proc_columns].notna().sum(axis=1)\n",
        "            df_count_based_temp.drop(columns=diag_columns + proc_columns, inplace=True)\n",
        "            return df_count_based_temp,ID\n",
        "      # Method 2: Position-Based Features\n",
        "      elif method == 'position':\n",
        "            df_position_based_temp = test_df.copy()\n",
        "            df_position_based_temp['primary_diagnosis'] = df_position_based_temp['DGNSCD01']\n",
        "            df_position_based_temp['primary_condition_treated'] = df_position_based_temp[['DGNSCD01', 'PRCDRCD01']].notna().all(axis=1).astype(int)\n",
        "            df_position_based_temp['treatment_ratio'] = df_position_based_temp.apply(calculate_diag_proc_ratio, axis=1)\n",
        "            primary_diag_target_encoding = joblib.load('primary_diag_target_encoding.pkl')\n",
        "            global_mean = joblib.load('global_mean.pkl')\n",
        "            df_position_based_temp['primary_diagnosis_encoded'] = df_position_based_temp['primary_diagnosis'].map(primary_diag_target_encoding)\n",
        "            df_position_based_temp['primary_diagnosis_encoded'] = df_position_based_temp['primary_diagnosis_encoded'].fillna(global_mean)\n",
        "            df_position_based_temp.drop(columns=['primary_diagnosis'], inplace=True)\n",
        "            df_position_based_temp.drop(columns=diag_columns + proc_columns, inplace=True)\n",
        "            return df_position_based_temp,ID\n",
        "      # Method 3: Group/Select Important Codes\n",
        "      elif method == 'group':\n",
        "            df_grouped_codes_temp = test_df.copy()\n",
        "            for col in diag_columns:\n",
        "                df_grouped_codes_temp[col] = df_grouped_codes_temp[col].astype(str).str[:3]\n",
        "            top_diag_groups = pd.Series(df_grouped_codes_temp[diag_columns].values.ravel()).value_counts().nlargest(20).index\n",
        "            for code in top_diag_groups:\n",
        "                df_grouped_codes_temp[f'diag_code_{code}'] = df_grouped_codes_temp[diag_columns].apply(lambda x: code in x.values, axis=1).astype(int)\n",
        "            df_grouped_codes_temp.drop(columns=diag_columns + proc_columns, inplace=True)\n",
        "            return df_grouped_codes_temp,ID\n",
        "      \n",
        "      \n",
        "      \n",
        "\n"
      ]
    },
    {
      "cell_type": "code",
      "execution_count": 19,
      "metadata": {
        "id": "7sQOj7j06Fpt"
      },
      "outputs": [],
      "source": [
        "test_df = pd.read_csv('test.csv')\n",
        "\n",
        "df_count_based_temp,ID = preprocess_p1(test_df)\n",
        "\n",
        "df_count_based_temp,ID = preprocess_p2(df_count_based_temp,ID,'position')"
      ]
    },
    {
      "cell_type": "code",
      "execution_count": 22,
      "metadata": {
        "id": "QbosHRNhTnRw"
      },
      "outputs": [],
      "source": [
        "predictions = cat_modelx.predict(df_count_based_temp)"
      ]
    },
    {
      "cell_type": "code",
      "execution_count": 23,
      "metadata": {
        "id": "5e2dVijeWLnL"
      },
      "outputs": [],
      "source": [
        "pd.DataFrame({'ID': ID, 'Readmitted_30': predictions}).to_csv('submission_catboost.csv', index=False)"
      ]
    },
    {
      "cell_type": "code",
      "execution_count": 9,
      "metadata": {},
      "outputs": [],
      "source": [
        "from sklearn.metrics import classification_report, accuracy_score, precision_score, recall_score, f1_score, roc_auc_score\n",
        "import pandas as pd\n",
        "\n",
        "y_pred = pd.read_csv('submission_catboost.csv')\n",
        "y_acc = pd.read_csv('solution.csv')"
      ]
    },
    {
      "cell_type": "code",
      "execution_count": null,
      "metadata": {},
      "outputs": [],
      "source": []
    },
    {
      "cell_type": "code",
      "execution_count": 11,
      "metadata": {},
      "outputs": [
        {
          "name": "stdout",
          "output_type": "stream",
          "text": [
            "Accuracy: 0.7898695318495779\n",
            "Precision: 0.2747875354107649\n",
            "Recall: 0.014507927011666168\n",
            "F1 Score: 0.02756073305867311\n",
            "ROC AUC Score: 0.5023097787169266\n"
          ]
        }
      ],
      "source": [
        "print('Accuracy:', accuracy_score(y_acc['Readmitted_30'], y_pred['Readmitted_30']))\n",
        "print('Precision:', precision_score(y_acc['Readmitted_30'], y_pred['Readmitted_30']))\n",
        "print('Recall:', recall_score(y_acc['Readmitted_30'], y_pred['Readmitted_30']))\n",
        "print('F1 Score:', f1_score(y_acc['Readmitted_30'], y_pred['Readmitted_30']))\n",
        "print('ROC AUC Score:', roc_auc_score(y_acc['Readmitted_30'], y_pred['Readmitted_30']))\n"
      ]
    }
  ],
  "metadata": {
    "colab": {
      "collapsed_sections": [
        "M2aCUHN59jh0",
        "sqi85uPg9jh4",
        "sLDUWYmC9jh7",
        "5Z0rtoqh9jh8",
        "IEpzd3FP9jh-",
        "Rub0_EGZ9jiD",
        "Y1xcgtOr9jiN",
        "tgLjFHhM9jiS",
        "PlWhopiD9jiT",
        "dD-308eT9jiX",
        "lnidhD7n9jib",
        "94I1hzJl9jic",
        "VWjMkKep9fZC",
        "zkVNaJwe6DZY"
      ],
      "provenance": []
    },
    "kernelspec": {
      "display_name": "Python 3",
      "language": "python",
      "name": "python3"
    },
    "language_info": {
      "codemirror_mode": {
        "name": "ipython",
        "version": 3
      },
      "file_extension": ".py",
      "mimetype": "text/x-python",
      "name": "python",
      "nbconvert_exporter": "python",
      "pygments_lexer": "ipython3",
      "version": "3.9.6"
    }
  },
  "nbformat": 4,
  "nbformat_minor": 0
}
