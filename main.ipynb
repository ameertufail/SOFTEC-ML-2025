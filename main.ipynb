{
 "cells": [
  {
   "cell_type": "code",
   "execution_count": 1,
   "id": "a79eaea3",
   "metadata": {},
   "outputs": [],
   "source": [
    "import pandas as pd\n",
    "import numpy as np\n"
   ]
  },
  {
   "cell_type": "code",
   "execution_count": 3,
   "id": "83fa4aa0",
   "metadata": {},
   "outputs": [],
   "source": [
    "df = pd.read_csv('train.csv')"
   ]
  },
  {
   "cell_type": "code",
   "execution_count": null,
   "id": "63d149a2",
   "metadata": {},
   "outputs": [],
   "source": [
    "# graph for this\n",
    "\n",
    "# The first listed diagnosis (DGNSCD01) is typically the main reason for hospital admission or the condition requiring the most resources.\n",
    "# Why It Matters: The primary diagnosis often has the greatest impact on readmission risk."
   ]
  },
  {
   "cell_type": "code",
   "execution_count": 55,
   "id": "a00b0e40",
   "metadata": {},
   "outputs": [
    {
     "data": {
      "text/html": [
       "<div>\n",
       "<style scoped>\n",
       "    .dataframe tbody tr th:only-of-type {\n",
       "        vertical-align: middle;\n",
       "    }\n",
       "\n",
       "    .dataframe tbody tr th {\n",
       "        vertical-align: top;\n",
       "    }\n",
       "\n",
       "    .dataframe thead th {\n",
       "        text-align: right;\n",
       "    }\n",
       "</style>\n",
       "<table border=\"1\" class=\"dataframe\">\n",
       "  <thead>\n",
       "    <tr style=\"text-align: right;\">\n",
       "      <th></th>\n",
       "      <th>ID</th>\n",
       "      <th>STAY_DRG_CD</th>\n",
       "      <th>STAY_FROM_DT</th>\n",
       "      <th>STAY_THRU_DT</th>\n",
       "      <th>STUS_CD</th>\n",
       "      <th>TYPE_ADM</th>\n",
       "      <th>SRC_ADMS</th>\n",
       "      <th>AD_DGNS</th>\n",
       "      <th>DGNSCD01</th>\n",
       "      <th>PRCDRCD01</th>\n",
       "      <th>...</th>\n",
       "      <th>PRCDRCD22</th>\n",
       "      <th>DGNSCD23</th>\n",
       "      <th>PRCDRCD23</th>\n",
       "      <th>DGNSCD24</th>\n",
       "      <th>PRCDRCD24</th>\n",
       "      <th>DGNSCD25</th>\n",
       "      <th>PRCDRCD25</th>\n",
       "      <th>stay_drg_cd</th>\n",
       "      <th>Readmitted_30</th>\n",
       "      <th>proc_matches_diag</th>\n",
       "    </tr>\n",
       "  </thead>\n",
       "  <tbody>\n",
       "    <tr>\n",
       "      <th>0</th>\n",
       "      <td>17319</td>\n",
       "      <td>NaN</td>\n",
       "      <td>2017-12-13 00:00:00</td>\n",
       "      <td>2017-12-20 00:00:00</td>\n",
       "      <td>62</td>\n",
       "      <td>1</td>\n",
       "      <td>2</td>\n",
       "      <td>M25551</td>\n",
       "      <td>S72001A</td>\n",
       "      <td>0SRR01Z</td>\n",
       "      <td>...</td>\n",
       "      <td>NaN</td>\n",
       "      <td>Z86711</td>\n",
       "      <td>NaN</td>\n",
       "      <td>Z86718</td>\n",
       "      <td>NaN</td>\n",
       "      <td>Z85828</td>\n",
       "      <td>NaN</td>\n",
       "      <td>469</td>\n",
       "      <td>0</td>\n",
       "      <td>True</td>\n",
       "    </tr>\n",
       "    <tr>\n",
       "      <th>1</th>\n",
       "      <td>19722</td>\n",
       "      <td>NaN</td>\n",
       "      <td>2017-10-19 00:00:00</td>\n",
       "      <td>2017-10-23 00:00:00</td>\n",
       "      <td>1</td>\n",
       "      <td>1</td>\n",
       "      <td>1</td>\n",
       "      <td>R531</td>\n",
       "      <td>A419</td>\n",
       "      <td>NaN</td>\n",
       "      <td>...</td>\n",
       "      <td>NaN</td>\n",
       "      <td>NaN</td>\n",
       "      <td>NaN</td>\n",
       "      <td>NaN</td>\n",
       "      <td>NaN</td>\n",
       "      <td>NaN</td>\n",
       "      <td>NaN</td>\n",
       "      <td>871</td>\n",
       "      <td>1</td>\n",
       "      <td>True</td>\n",
       "    </tr>\n",
       "    <tr>\n",
       "      <th>2</th>\n",
       "      <td>89699</td>\n",
       "      <td>NaN</td>\n",
       "      <td>2018-08-06 00:00:00</td>\n",
       "      <td>2018-08-08 00:00:00</td>\n",
       "      <td>1</td>\n",
       "      <td>1</td>\n",
       "      <td>1</td>\n",
       "      <td>R002</td>\n",
       "      <td>J690</td>\n",
       "      <td>NaN</td>\n",
       "      <td>...</td>\n",
       "      <td>NaN</td>\n",
       "      <td>NaN</td>\n",
       "      <td>NaN</td>\n",
       "      <td>NaN</td>\n",
       "      <td>NaN</td>\n",
       "      <td>NaN</td>\n",
       "      <td>NaN</td>\n",
       "      <td>177</td>\n",
       "      <td>0</td>\n",
       "      <td>True</td>\n",
       "    </tr>\n",
       "    <tr>\n",
       "      <th>3</th>\n",
       "      <td>8086</td>\n",
       "      <td>NaN</td>\n",
       "      <td>2016-12-20 00:00:00</td>\n",
       "      <td>2016-12-27 00:00:00</td>\n",
       "      <td>62</td>\n",
       "      <td>5</td>\n",
       "      <td>1</td>\n",
       "      <td>K661</td>\n",
       "      <td>K661</td>\n",
       "      <td>NaN</td>\n",
       "      <td>...</td>\n",
       "      <td>NaN</td>\n",
       "      <td>NaN</td>\n",
       "      <td>NaN</td>\n",
       "      <td>NaN</td>\n",
       "      <td>NaN</td>\n",
       "      <td>NaN</td>\n",
       "      <td>NaN</td>\n",
       "      <td>393</td>\n",
       "      <td>0</td>\n",
       "      <td>True</td>\n",
       "    </tr>\n",
       "    <tr>\n",
       "      <th>4</th>\n",
       "      <td>68049</td>\n",
       "      <td>NaN</td>\n",
       "      <td>2016-01-06 00:00:00</td>\n",
       "      <td>2016-01-12 00:00:00</td>\n",
       "      <td>6</td>\n",
       "      <td>1</td>\n",
       "      <td>1</td>\n",
       "      <td>J9601</td>\n",
       "      <td>J690</td>\n",
       "      <td>NaN</td>\n",
       "      <td>...</td>\n",
       "      <td>NaN</td>\n",
       "      <td>NaN</td>\n",
       "      <td>NaN</td>\n",
       "      <td>NaN</td>\n",
       "      <td>NaN</td>\n",
       "      <td>NaN</td>\n",
       "      <td>NaN</td>\n",
       "      <td>177</td>\n",
       "      <td>0</td>\n",
       "      <td>True</td>\n",
       "    </tr>\n",
       "  </tbody>\n",
       "</table>\n",
       "<p>5 rows × 61 columns</p>\n",
       "</div>"
      ],
      "text/plain": [
       "      ID  STAY_DRG_CD         STAY_FROM_DT         STAY_THRU_DT  STUS_CD  \\\n",
       "0  17319          NaN  2017-12-13 00:00:00  2017-12-20 00:00:00       62   \n",
       "1  19722          NaN  2017-10-19 00:00:00  2017-10-23 00:00:00        1   \n",
       "2  89699          NaN  2018-08-06 00:00:00  2018-08-08 00:00:00        1   \n",
       "3   8086          NaN  2016-12-20 00:00:00  2016-12-27 00:00:00       62   \n",
       "4  68049          NaN  2016-01-06 00:00:00  2016-01-12 00:00:00        6   \n",
       "\n",
       "   TYPE_ADM  SRC_ADMS AD_DGNS DGNSCD01 PRCDRCD01  ... PRCDRCD22 DGNSCD23  \\\n",
       "0         1         2  M25551  S72001A   0SRR01Z  ...       NaN   Z86711   \n",
       "1         1         1    R531     A419       NaN  ...       NaN      NaN   \n",
       "2         1         1    R002     J690       NaN  ...       NaN      NaN   \n",
       "3         5         1    K661     K661       NaN  ...       NaN      NaN   \n",
       "4         1         1   J9601     J690       NaN  ...       NaN      NaN   \n",
       "\n",
       "  PRCDRCD23 DGNSCD24 PRCDRCD24 DGNSCD25 PRCDRCD25 stay_drg_cd Readmitted_30  \\\n",
       "0       NaN   Z86718       NaN   Z85828       NaN         469             0   \n",
       "1       NaN      NaN       NaN      NaN       NaN         871             1   \n",
       "2       NaN      NaN       NaN      NaN       NaN         177             0   \n",
       "3       NaN      NaN       NaN      NaN       NaN         393             0   \n",
       "4       NaN      NaN       NaN      NaN       NaN         177             0   \n",
       "\n",
       "  proc_matches_diag  \n",
       "0              True  \n",
       "1              True  \n",
       "2              True  \n",
       "3              True  \n",
       "4              True  \n",
       "\n",
       "[5 rows x 61 columns]"
      ]
     },
     "execution_count": 55,
     "metadata": {},
     "output_type": "execute_result"
    }
   ],
   "source": [
    "df.head()"
   ]
  },
  {
   "cell_type": "code",
   "execution_count": null,
   "id": "74512b85",
   "metadata": {},
   "outputs": [
    {
     "data": {
      "text/plain": [
       "Readmitted_30\n",
       "0    103598\n",
       "1     26698\n",
       "Name: count, dtype: int64"
      ]
     },
     "execution_count": 10,
     "metadata": {},
     "output_type": "execute_result"
    }
   ],
   "source": [
    "df['Readmitted_30'].value_counts() # class imbalance is detected"
   ]
  },
  {
   "cell_type": "code",
   "execution_count": null,
   "id": "407c79b0",
   "metadata": {},
   "outputs": [
    {
     "name": "stdout",
     "output_type": "stream",
     "text": [
      "STAY_DRG_CD has 97.08509854485172% null values\n",
      "PRCDRCD25 has 96.63228341622153% null values\n",
      "PRCDRCD24 has 96.62384110026402% null values\n",
      "PRCDRCD23 has 96.61616626757537% null values\n",
      "PRCDRCD22 has 96.60542150181126% null values\n",
      "PRCDRCD21 has 96.59467673604716% null values\n",
      "PRCDRCD20 has 96.58162952047645% null values\n",
      "PRCDRCD19 has 96.5655123718303% null values\n",
      "PRCDRCD18 has 96.54172039049548% null values\n",
      "PRCDRCD17 has 96.51869589242953% null values\n",
      "PRCDRCD16 has 96.48339166206176% null values\n",
      "PRCDRCD15 has 96.43273776631669% null values\n",
      "PRCDRCD14 has 96.34524467366612% null values\n",
      "PRCDRCD13 has 96.24623933198257% null values\n",
      "PRCDRCD12 has 96.11346472646896% null values\n",
      "PRCDRCD11 has 95.93387364155461% null values\n",
      "PRCDRCD10 has 95.66909191379628% null values\n",
      "PRCDRCD09 has 95.36056363971267% null values\n",
      "PRCDRCD08 has 94.89393381224289% null values\n",
      "PRCDRCD07 has 94.14180020875544% null values\n",
      "PRCDRCD06 has 92.49324614723399% null values\n",
      "PRCDRCD05 has 90.2445201694603% null values\n",
      "PRCDRCD04 has 86.30809848345307% null values\n",
      "DGNSCD25 has 84.45002148953152% null values\n",
      "PRCDRCD03 has 80.13830048504943% null values\n",
      "DGNSCD24 has 75.14735678762203% null values\n",
      "DGNSCD23 has 71.92008964204581% null values\n",
      "PRCDRCD02 has 70.44498679928778% null values\n",
      "DGNSCD22 has 68.33978019279179% null values\n",
      "DGNSCD21 has 64.44864001964757% null values\n",
      "DGNSCD20 has 60.5106833671026% null values\n",
      "DGNSCD19 has 56.21431202799779% null values\n",
      "PRCDRCD01 has 52.70154110640388% null values\n",
      "DGNSCD18 has 46.801129735371774% null values\n",
      "DGNSCD17 has 41.46405108368638% null values\n",
      "DGNSCD16 has 36.268189353472096% null values\n",
      "DGNSCD15 has 31.087677288635106% null values\n",
      "DGNSCD14 has 26.257905077669307% null values\n",
      "DGNSCD13 has 21.532510591269112% null values\n",
      "DGNSCD12 has 17.24688401792841% null values\n",
      "DGNSCD11 has 13.315834714803218% null values\n",
      "DGNSCD10 has 9.922791183152208% null values\n",
      "DGNSCD09 has 7.070055872781973% null values\n",
      "DGNSCD08 has 4.823632344814883% null values\n",
      "DGNSCD07 has 3.135936636581323% null values\n",
      "stay_drg_cd has 2.9149014551482777% null values\n",
      "DGNSCD06 has 1.89491619082704% null values\n",
      "DGNSCD05 has 1.0798489592926874% null values\n",
      "DGNSCD04 has 0.5863572174126603% null values\n",
      "DGNSCD03 has 0.2755264935224412% null values\n",
      "DGNSCD02 has 0.10975010744765765% null values\n"
     ]
    }
   ],
   "source": [
    "nulls = df.isna().sum()\n",
    "\n",
    "Trows = df.shape[0] # number of rows in the dataset\n",
    "\n",
    "\n",
    "# sort the nulls in descending order\n",
    "nulls = nulls[nulls > 0].sort_values(ascending=False)\n",
    "for i in nulls.index:\n",
    "    if nulls[i] > 0:\n",
    "        print(f\"{i} has {(nulls[i]/Trows)*100}% null values\")\n",
    "\n"
   ]
  },
  {
   "cell_type": "code",
   "execution_count": 28,
   "id": "e50ca047",
   "metadata": {},
   "outputs": [
    {
     "name": "stdout",
     "output_type": "stream",
     "text": [
      "Columns with more than 50% null values: 33\n",
      "Columns with more than 60% null values: 31\n",
      "Columns with more than 70% null values: 28\n",
      "Columns with more than 80% null values: 25\n"
     ]
    }
   ],
   "source": [
    "# count coulmns greater than 50% null values\n",
    "nulls_50 = nulls[nulls > (Trows*0.5)]\n",
    "print(f\"Columns with more than 50% null values: {len(nulls_50)}\")\n",
    "# count coulmns greater than 50% null values\n",
    "nulls_60 = nulls[nulls > (Trows*0.6)]\n",
    "print(f\"Columns with more than 60% null values: {len(nulls_60)}\")\n",
    "# count coulmns greater than 70% null values\n",
    "nulls_70 = nulls[nulls > (Trows*0.7)]\n",
    "print(f\"Columns with more than 70% null values: {len(nulls_70)}\")\n",
    "# count coulmns greater than 80% null values\n",
    "nulls_80 = nulls[nulls > (Trows*0.8)]\n",
    "print(f\"Columns with more than 80% null values: {len(nulls_80)}\")"
   ]
  },
  {
   "cell_type": "code",
   "execution_count": null,
   "id": "851b11e8",
   "metadata": {},
   "outputs": [],
   "source": []
  },
  {
   "cell_type": "markdown",
   "id": "555f9026",
   "metadata": {},
   "source": [
    "### relation in procedure occurance"
   ]
  },
  {
   "cell_type": "code",
   "execution_count": null,
   "id": "256b4783",
   "metadata": {},
   "outputs": [],
   "source": []
  },
  {
   "cell_type": "code",
   "execution_count": null,
   "id": "353a94c9",
   "metadata": {},
   "outputs": [],
   "source": []
  },
  {
   "cell_type": "code",
   "execution_count": 31,
   "id": "5ac4f4f8",
   "metadata": {},
   "outputs": [],
   "source": [
    "# Function to check if procedures follow the pattern you described\n",
    "def check_procedure_pattern(row):\n",
    "    \"\"\"\n",
    "    Checks if procedures follow the pattern:\n",
    "    If procedure n is missing, then all procedures n+1 to 25 are also missing\n",
    "    Returns True if pattern holds, False otherwise\n",
    "    \"\"\"\n",
    "    proc_columns = [f'PRCDRCD{str(i).zfill(2)}' for i in range(1, 26)]\n",
    "    first_empty = None\n",
    "    \n",
    "    for i, col in enumerate(proc_columns):\n",
    "        if pd.isna(row[col]) or row[col] == '' : # or row[col] == '-'\n",
    "            first_empty = i\n",
    "            break\n",
    "    \n",
    "    if first_empty is None:  # All procedures are filled\n",
    "        return True\n",
    "    \n",
    "    # Check if all procedures after first_empty are also empty\n",
    "    for col in proc_columns[first_empty:]:\n",
    "        if not pd.isna(row[col]) and row[col] != '':\n",
    "            return False\n",
    "    \n",
    "    return True"
   ]
  },
  {
   "cell_type": "code",
   "execution_count": 32,
   "id": "8e24ef92",
   "metadata": {},
   "outputs": [
    {
     "name": "stdout",
     "output_type": "stream",
     "text": [
      "Procedure Pattern Compliance:\n",
      "follows_pattern\n",
      "True    130296\n",
      "Name: count, dtype: int64\n",
      "Percentage of rows following pattern: 100.00%\n",
      "\n",
      "Procedure count statistics:\n",
      "count    130296.000000\n",
      "mean          2.007690\n",
      "std           4.743382\n",
      "min           0.000000\n",
      "25%           0.000000\n",
      "50%           0.000000\n",
      "75%           2.000000\n",
      "max          25.000000\n",
      "Name: proc_count, dtype: float64\n"
     ]
    },
    {
     "data": {
      "image/png": "[encoded data removed]",
      "text/plain": [
       "<Figure size 1200x600 with 1 Axes>"
      ]
     },
     "metadata": {},
     "output_type": "display_data"
    }
   ],
   "source": [
    "\n",
    "import matplotlib.pyplot as plt\n",
    "import seaborn as sns\n",
    "\n",
    "df_temp  = df.copy()\n",
    "\n",
    "# Apply the function to each row\n",
    "df_temp['follows_pattern'] = df_temp.apply(check_procedure_pattern, axis=1)\n",
    "\n",
    "# Count pattern compliance\n",
    "pattern_count = df_temp['follows_pattern'].value_counts()\n",
    "print(\"Procedure Pattern Compliance:\")\n",
    "print(pattern_count)\n",
    "print(f\"Percentage of rows following pattern: {100 * pattern_count.get(True, 0) / len(df_temp):.2f}%\")\n",
    "\n",
    "# Visualize procedure presence\n",
    "# Create a matrix where 1 means procedure exists, 0 means not exists\n",
    "proc_presence = pd.DataFrame()\n",
    "for i in range(1, 26):\n",
    "    col = f'PRCDRCD{str(i).zfill(2)}'\n",
    "    proc_presence[col] = (~df_temp[col].isna() & (df_temp[col] != '')).astype(int)\n",
    "\n",
    "# Count number of procedures per row\n",
    "df_temp['proc_count'] = proc_presence.sum(axis=1)\n",
    "print(\"\\nProcedure count statistics:\")\n",
    "print(df_temp['proc_count'].describe())\n",
    "\n",
    "# Visualize the procedure pattern\n",
    "plt.figure(figsize=(12, 6))\n",
    "sns.heatmap(proc_presence.T, cmap='Blues', cbar=False)\n",
    "plt.title('Procedure Pattern Visualization')\n",
    "plt.xlabel('Patient Index')\n",
    "plt.ylabel('Procedure Number')\n",
    "plt.tight_layout()\n",
    "plt.savefig('procedure_pattern.png')\n"
   ]
  },
  {
   "cell_type": "code",
   "execution_count": 33,
   "id": "68b31b76",
   "metadata": {},
   "outputs": [],
   "source": [
    "# as procedure is following pattern we can concatenate the columns into one column that indicates that how many procedures are done "
   ]
  },
  {
   "cell_type": "code",
   "execution_count": null,
   "id": "14f5abd0",
   "metadata": {},
   "outputs": [
    {
     "data": {
      "text/plain": [
       "4399"
      ]
     },
     "execution_count": 44,
     "metadata": {},
     "output_type": "execute_result"
    }
   ],
   "source": [
    "\n"
   ]
  },
  {
   "cell_type": "code",
   "execution_count": null,
   "id": "f0ec7678",
   "metadata": {},
   "outputs": [],
   "source": []
  },
  {
   "cell_type": "code",
   "execution_count": 35,
   "id": "c3d36422",
   "metadata": {},
   "outputs": [
    {
     "name": "stdout",
     "output_type": "stream",
     "text": [
      "\n",
      "Rows with procedures without corresponding diagnosis: 247\n",
      "Percentage: 0.19%\n"
     ]
    }
   ],
   "source": [
    "\n",
    "\n",
    "\n",
    "# Check if procedures always have a corresponding diagnosis\n",
    "proc_diag_match = pd.DataFrame()\n",
    "for i in range(1, 26):\n",
    "    proc_col = f'PRCDRCD{str(i).zfill(2)}'\n",
    "    diag_col = f'DGNSCD{str(i).zfill(2)}'\n",
    "    \n",
    "    # 1 if procedure exists but diagnosis doesn't, 0 otherwise\n",
    "    proc_diag_match[f'proc_{i}_no_diag'] = ((~df_temp[proc_col].isna() & (df_temp[proc_col] != '')) & \n",
    "                                           (df_temp[diag_col].isna() | (df_temp[diag_col] == ''))).astype(int)\n",
    "\n",
    "# Check if any procedures exist without corresponding diagnosis\n",
    "has_proc_without_diag = proc_diag_match.sum(axis=1) > 0\n",
    "proc_without_diag_count = has_proc_without_diag.sum()\n",
    "\n",
    "print(f\"\\nRows with procedures without corresponding diagnosis: {proc_without_diag_count}\")\n",
    "print(f\"Percentage: {100 * proc_without_diag_count / len(df_temp):.2f}%\")\n"
   ]
  },
  {
   "cell_type": "code",
   "execution_count": 48,
   "id": "610cb77b",
   "metadata": {},
   "outputs": [
    {
     "data": {
      "text/plain": [
       "(130296, 61)"
      ]
     },
     "execution_count": 48,
     "metadata": {},
     "output_type": "execute_result"
    }
   ],
   "source": [
    "df.shape"
   ]
  },
  {
   "cell_type": "markdown",
   "id": "cfd60ccd",
   "metadata": {},
   "source": [
    "## diagnosis\n"
   ]
  },
  {
   "cell_type": "code",
   "execution_count": 54,
   "id": "a9b712f0",
   "metadata": {},
   "outputs": [
    {
     "name": "stdout",
     "output_type": "stream",
     "text": [
      "Total unique diagnosis codes: 9779\n",
      "all diagnosis codes: 2288123\n",
      "Total unique procedure codes: 4702\n",
      "all procedures codes: 261594\n",
      "0.037382355864431144\n"
     ]
    }
   ],
   "source": [
    "# get all unique diagnosis codes\n",
    "unique_diagnosis_codes = set()\n",
    "all_diagnosis_codes = []\n",
    "for i in range(1, 26):\n",
    "    col = f'DGNSCD{str(i).zfill(2)}'\n",
    "    unique_diagnosis_codes.update(df[col].dropna().unique())\n",
    "    all_diagnosis_codes.extend(df[col].dropna())\n",
    "\n",
    "print(f\"Total unique diagnosis codes: {len(unique_diagnosis_codes)}\")\n",
    "print(f\"all diagnosis codes: {len(all_diagnosis_codes)}\")\n",
    "# get all unique diagnosis codes\n",
    "unique_procedure_codes = set()\n",
    "all_procedure_codes = []\n",
    "for i in range(1, 26):\n",
    "    col = f'PRCDRCD{str(i).zfill(2)}'\n",
    "    unique_procedure_codes.update(df[col].dropna().unique())\n",
    "    all_procedure_codes.extend(df[col].dropna())\n",
    "\n",
    "print(f\"Total unique procedure codes: {len(unique_procedure_codes)}\")\n",
    "print(f\"all procedures codes: {len(all_procedure_codes)}\")\n",
    "print(len(unique_diagnosis_codes)/len(all_procedure_codes))"
   ]
  },
  {
   "cell_type": "code",
   "execution_count": null,
   "id": "42141200",
   "metadata": {},
   "outputs": [],
   "source": []
  },
  {
   "cell_type": "code",
   "execution_count": 36,
   "id": "41cf569c",
   "metadata": {},
   "outputs": [],
   "source": [
    "# Part 1: Check if diagnosis columns follow the same sequential pattern\n",
    "def check_diagnosis_pattern(row):\n",
    "    \"\"\"\n",
    "    Checks if diagnoses follow the pattern:\n",
    "    If diagnosis n is missing, then all diagnoses n+1 to 25 are also missing\n",
    "    Returns True if pattern holds, False otherwise\n",
    "    \"\"\"\n",
    "    diag_columns = [f'DGNSCD{str(i).zfill(2)}' for i in range(1, 26)]\n",
    "    first_empty = None\n",
    "    \n",
    "    for i, col in enumerate(diag_columns):\n",
    "        if pd.isna(row[col]) or row[col] == '':\n",
    "            first_empty = i\n",
    "            break\n",
    "    \n",
    "    if first_empty is None:  # All diagnoses are filled\n",
    "        return True\n",
    "    \n",
    "    # Check if all diagnoses after first_empty are also empty\n",
    "    for col in diag_columns[first_empty:]:\n",
    "        if not pd.isna(row[col]) and row[col] != '':\n",
    "            return False\n",
    "    \n",
    "    return True"
   ]
  },
  {
   "cell_type": "code",
   "execution_count": 37,
   "id": "7c3000a8",
   "metadata": {},
   "outputs": [],
   "source": [
    "df_temp['diag_follows_pattern'] = df_temp.apply(check_diagnosis_pattern, axis=1)\n"
   ]
  },
  {
   "cell_type": "code",
   "execution_count": 39,
   "id": "c0c0d1ae",
   "metadata": {},
   "outputs": [
    {
     "name": "stdout",
     "output_type": "stream",
     "text": [
      "Diagnosis Pattern Compliance:\n",
      "diag_follows_pattern\n",
      "True    130296\n",
      "Name: count, dtype: int64\n",
      "Percentage of rows following diagnosis pattern: 100.00%\n",
      "\n",
      "Diagnosis count statistics:\n",
      "count    130296.000000\n",
      "mean         17.560961\n",
      "std           5.761980\n",
      "min           1.000000\n",
      "25%          13.000000\n",
      "50%          18.000000\n",
      "75%          23.000000\n",
      "max          25.000000\n",
      "Name: diag_count, dtype: float64\n"
     ]
    }
   ],
   "source": [
    "\n",
    "\n",
    "# Apply the function to each row\n",
    "\n",
    "# Count pattern compliance for diagnoses\n",
    "diag_pattern_count = df_temp['diag_follows_pattern'].value_counts()\n",
    "print(\"Diagnosis Pattern Compliance:\")\n",
    "print(diag_pattern_count)\n",
    "print(f\"Percentage of rows following diagnosis pattern: {100 * diag_pattern_count.get(True, 0) / len(df_temp):.2f}%\")\n",
    "\n",
    "# Visualize diagnosis presence\n",
    "diag_presence = pd.DataFrame()\n",
    "for i in range(1, 26):\n",
    "    col = f'DGNSCD{str(i).zfill(2)}'\n",
    "    diag_presence[col] = (~df_temp[col].isna() & (df_temp[col] != '')).astype(int)\n",
    "\n",
    "# Count number of diagnoses per row\n",
    "df_temp['diag_count'] = diag_presence.sum(axis=1)\n",
    "print(\"\\nDiagnosis count statistics:\")\n",
    "print(df_temp['diag_count'].describe())\n",
    "\n"
   ]
  },
  {
   "cell_type": "code",
   "execution_count": null,
   "id": "135bc3ab",
   "metadata": {},
   "outputs": [],
   "source": []
  },
  {
   "cell_type": "code",
   "execution_count": null,
   "id": "e1d339e0",
   "metadata": {},
   "outputs": [],
   "source": []
  },
  {
   "cell_type": "code",
   "execution_count": null,
   "id": "c3f40a14",
   "metadata": {},
   "outputs": [],
   "source": []
  },
  {
   "cell_type": "code",
   "execution_count": null,
   "id": "e327ba64",
   "metadata": {},
   "outputs": [],
   "source": []
  },
  {
   "cell_type": "code",
   "execution_count": null,
   "id": "0e50821b",
   "metadata": {},
   "outputs": [],
   "source": []
  },
  {
   "cell_type": "code",
   "execution_count": null,
   "id": "63564eb8",
   "metadata": {},
   "outputs": [],
   "source": []
  },
  {
   "cell_type": "code",
   "execution_count": null,
   "id": "2f785242",
   "metadata": {},
   "outputs": [],
   "source": []
  },
  {
   "cell_type": "code",
   "execution_count": null,
   "id": "d3bb3a88",
   "metadata": {},
   "outputs": [],
   "source": []
  },
  {
   "cell_type": "code",
   "execution_count": null,
   "id": "d970376b",
   "metadata": {},
   "outputs": [],
   "source": []
  },
  {
   "cell_type": "code",
   "execution_count": null,
   "id": "abb417a7",
   "metadata": {},
   "outputs": [],
   "source": []
  },
  {
   "cell_type": "code",
   "execution_count": null,
   "id": "2b461da2",
   "metadata": {},
   "outputs": [],
   "source": []
  },
  {
   "cell_type": "code",
   "execution_count": null,
   "id": "4d61c6f8",
   "metadata": {},
   "outputs": [],
   "source": []
  },
  {
   "cell_type": "code",
   "execution_count": null,
   "id": "7a20ccb5",
   "metadata": {},
   "outputs": [],
   "source": []
  },
  {
   "cell_type": "code",
   "execution_count": null,
   "id": "478f4f6d",
   "metadata": {},
   "outputs": [],
   "source": []
  }
 ],
 "metadata": {
  "kernelspec": {
   "display_name": "base",
   "language": "python",
   "name": "python3"
  },
  "language_info": {
   "codemirror_mode": {
    "name": "ipython",
    "version": 3
   },
   "file_extension": ".py",
   "mimetype": "text/x-python",
   "name": "python",
   "nbconvert_exporter": "python",
   "pygments_lexer": "ipython3",
   "version": "3.12.7"
  }
 },
 "nbformat": 4,
 "nbformat_minor": 5
}
